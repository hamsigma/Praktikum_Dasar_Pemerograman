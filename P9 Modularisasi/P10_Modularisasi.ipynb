{
 "cells": [
  {
   "cell_type": "markdown",
   "id": "b3450a5a-c882-48e6-8aae-8be59018aedb",
   "metadata": {
    "id": "b3450a5a-c882-48e6-8aae-8be59018aedb"
   },
   "source": [
    "# **Modul Pertemuan 10: Modularisasi**\n",
    "\n",
    "## **Pembahasan**\n",
    "\n",
    "### **1. Modularisasi**\n",
    "\n",
    "Dalam Python, modularisasi adalah proses pengelompokan kode ke dalam beberapa bagian yang logis sehingga lebih mudah dimengerti, digunakan kembali, dan dikelola. Setiap bagian dari program yang modular biasanya ditempatkan dalam satu file Python, yang disebut modul. Modul ini bisa berisi definisi fungsi, kelas, atau variabel.\n",
    "\n",
    "#### **Manfaat Modularisasi:**\n",
    "1. **Pemeliharaan Kode:** Kode yang modular lebih mudah dipelihara dan dikembangkan.\n",
    "2. **Reusabilitas:** Modul yang dibuat dapat digunakan kembali di program lain tanpa harus menulis ulang kode.\n",
    "3. **Organisasi yang Lebih Baik:** Program yang besar dapat dipecah menjadi modul-modul yang lebih kecil dan terpisah, sehingga lebih terstruktur.\n",
    "\n",
    "#### **Cara Menggunakan Modul:**\n",
    "Untuk menggunakan modul dalam program Python, kita bisa menggunakan perintah `import`. Contoh:\n",
    "\n",
    "```python\n",
    "import contoh\n",
    "```\n",
    "\n",
    "Dengan `import`, kita bisa mengakses fungsi, variabel, atau kelas yang ada di dalam modul tersebut. Jika nama modul terlalu panjang, kita bisa menggunakan alias:\n",
    "\n",
    "```python\n",
    "import contoh as c\n",
    "```\n",
    "\n",
    "Kita juga bisa mengimpor hanya sebagian fungsi atau variabel dari modul:\n",
    "\n",
    "```python\n",
    "from contoh import pi, pangkat\n",
    "```\n",
    "\n",
    "---\n",
    "\n",
    "## **Tugas**\n",
    "\n",
    "**Note:** Gunakan logika pemrograman bukan cuman ngikutin gambar. Baca betul-betul apa yang di intruksikan!!"
   ]
  },
  {
   "attachments": {},
   "cell_type": "markdown",
   "id": "e989c82b-4c5e-4eaf-9152-4a4c9a494b65",
   "metadata": {},
   "source": [
    "### **Soal 1: Membuat Modul dan Menggunakan Modul**\n",
    "\n",
    "#### **Instruksi:**\n",
    "1. Buatlah sebuah modul yang bernama `tabung.py` yang berisi fungsi untuk menghitung volume tabung. Rumus volume tabung: \n",
    "   \\begin{equation} A = 2\\pi r(h + r) \\end{equation} \n",
    "   Di mana \\( r \\) adalah jari-jari dan \\( t \\) adalah tinggi tabung. Fungsi tersebut menerima dua parameter: jari-jari dan tinggi, dan mengembalikan hasil perhitungan volume.\n",
    "   \n",
    "   Berikut adalah contoh format yang benar:\n",
    "\n",
    "   <img src=\"Screenshot (1).png\" alt=\"Deskripsi Gambar\" width=\"250\" style=\"margin-left: 30px;\" />\n",
    "\n",
    "3. Buatlah program utama yang mengimpor modul `tabung` dan menggunakan fungsi `volume_tabung` untuk menghitung volume tabung dengan jari-jari 7 dan tinggi 10. Berikut format penggunaan yang benar:\n",
    "\n",
    "   <img src=\"Screenshot (2).png\" alt=\"Deskripsi Gambar\" width=\"250\" style=\"margin-left: 30px;\" />\n",
    "\n",
    "4. Jelaskan secara terperinci bagaimana caranya dia bisa mengambil nilai dari file `tabung.py` tersebut\n",
    "\n",
    "---\n"
   ]
  },
  {
   "cell_type": "code",
   "execution_count": 8,
   "id": "b4beb5da-51a9-47ff-a732-d6cf9247ae74",
   "metadata": {
    "id": "ea6a12c4-1360-4bfe-a05f-4098604926bc"
   },
   "outputs": [
    {
     "name": "stdout",
     "output_type": "stream",
     "text": [
      "Volume Tabung: 8869722818.6\n"
     ]
    }
   ],
   "source": [
    "# Ketikan Code Disini lalu Jalankan (Run)\n",
    "import tabung #Import di gunakan untuk menarik rumus dan proses volume tabung di file yang berbeda.\n",
    "#lalu menggunakan indeks file volume.py karena format (py) akan membaca semua sel yang ada\n",
    "#jadi untuk proses hitung ada di file tabung(py)\n",
    "\n",
    "r = 7 #r untuk jari jari\n",
    "t = 10 #t untuk tinggi\n",
    "volume = tabung.volume_tabung(r, t) #jadi volume = nama file(tabung) fungsi(volume tabung) yang memiliki parameter(r, t)\n",
    "print(\"Volume Tabung:\", volume) #hasil output memanggil fungsi yang telah di buat yaitu volume"
   ]
  },
  {
   "cell_type": "markdown",
   "id": "28e24639-72f7-4d78-8169-b805c5bee744",
   "metadata": {},
   "source": [
    "\n",
    "### **Soal 2: Informasi Modul**\n",
    "\n",
    "#### **Instruksi:**\n",
    "1. Buatlah program Python yang mengimpor modul `tabung` dari soal 1, kemudian gunakan fungsi `dir()` untuk menampilkan semua fungsi dan variabel yang ada di dalam modul tersebut.\n",
    "\n",
    "   Berikut adalah contoh kode yang benar:\n",
    "\n",
    "   <img src=\"Screenshot (3).png\" alt=\"Deskripsi Gambar\" width=\"250\" style=\"margin-left: 30px;\" />\n",
    "\n",
    "2. Jelaskan kode dan hasil output programnya serta apa itu fungsi ```dir()``` dan buat apa!\n",
    "\n",
    "---\n",
    "\n"
   ]
  },
  {
   "cell_type": "code",
   "execution_count": 9,
   "id": "b3f87cea-e50a-46fd-820f-bc12703db8da",
   "metadata": {
    "id": "ea6a12c4-1360-4bfe-a05f-4098604926bc"
   },
   "outputs": [
    {
     "name": "stdout",
     "output_type": "stream",
     "text": [
      "['__builtins__', '__cached__', '__doc__', '__file__', '__loader__', '__name__', '__package__', '__spec__', 'pi', 'volume_tabung']\n"
     ]
    }
   ],
   "source": [
    "# Ketikan Code Disini lalu Jalankan (Run)\n",
    "import tabung #Import di gunakan untuk menarik fungsi di file tabung(py) ke file P10(ipynb)\n",
    "\n",
    "info_modul = dir(tabung) #disini untuk mengecek atribut/modul membuat cek modul = dan menggunakan fungsi dir dengan parameter file (tabung)\n",
    "print(info_modul) #output untuk menampilkan fungsi dir \n",
    "\n",
    "#di bawahh akan menampilkan banyak atribut dan juga fungsi code di dalam file tabung(py)"
   ]
  },
  {
   "cell_type": "markdown",
   "id": "04451d75-fd5c-418f-b2b3-bfe3ca35497d",
   "metadata": {},
   "source": [
    "### **Soal 3: Membuat Modul Aritmatika Lengkap**\n",
    "\n",
    "#### **Instruksi:**\n",
    "1. Buatlah sebuah modul bernama `aritmatika.py` yang berisi beberapa fungsi aritmatika:\n",
    "   - `tambah(a, b)` : Fungsi untuk menjumlahkan dua angka.\n",
    "   - `kurang(a, b)` : Fungsi untuk mengurangi dua angka.\n",
    "   - `kali(a, b)` : Fungsi untuk mengalikan dua angka.\n",
    "   - `bagi(a, b)` : Fungsi untuk membagi dua angka.\n",
    "\n",
    "2. Buatlah program Python yang mengimpor modul `aritmatika` dan menggunakan semua fungsi di dalamnya untuk mengoperasikan dua angka. Misalnya, gunakan angka 10 dan 5.\n",
    "   - Perbaiki code serta jelaskan apa yang salah dari code tersebut perbarisnya \n",
    "   Berikut contoh penggunaannya:\n",
    "\n",
    "   <img src=\"Screenshot (4).png\" alt=\"Deskripsi Gambar\" width=\"250\" style=\"margin-left: 30px;\" />\n",
    "\n",
    "---"
   ]
  },
  {
   "cell_type": "code",
   "execution_count": 11,
   "id": "75357d06-3bb8-4b42-94cf-f4b2be24a792",
   "metadata": {
    "id": "ea6a12c4-1360-4bfe-a05f-4098604926bc"
   },
   "outputs": [
    {
     "name": "stdout",
     "output_type": "stream",
     "text": [
      "Tambah: 15\n",
      "Kurang: 5\n",
      "Kali: 50\n",
      "Bagi: 2.0\n"
     ]
    }
   ],
   "source": [
    "# Ketikan Code Disini lalu Jalankan (Run)\n",
    "#pertama membuat file aritmatika(py) untuk melakukan proses perhitungan aritmatika yaitu tambah,kurang,kali,bagi\n",
    "import aritmatika #import di gunakan untuk menarik fungsi dan proses pada file aritmatika(py)\n",
    "\n",
    "a = 10\n",
    "b = 5\n",
    "print(\"Tambah:\", aritmatika.tambah(a, b))#di sini ada output untuk tambah yang berisikan nama file (aritmatika) fungsi(tambah) dan parameter(a,b)\n",
    "print(\"Kurang:\", aritmatika.kurang(a, b))#di sini ada output untuk kurang yang berisikan nama file (aritmatika) fungsi(kurang) dan parameter(a,b)\n",
    "print(\"Kali:\", aritmatika.kali(a, b))#di sini ada output untuk kali yang berisikan nama file (aritmatika) fungsi(kali) dan parameter(a,b)\n",
    "print(\"Bagi:\", aritmatika.bagi(a, b))#di sini ada output untuk bagi yang berisikan nama file (aritmatika) fungsi(bagi) dan parameter(a,b)\n",
    "\n",
    "# jadi ketika proses angka a dan b di proses dan perhitungan di tarik dari file aritmatika \n",
    "#ketika tambah maka 10 + 5\n",
    "#ketika kura maka 10 - 5\n",
    "#begitu seterusnya\n"
   ]
  },
  {
   "cell_type": "markdown",
   "id": "2b0246ff-584f-4484-b52d-18733bcde7ae",
   "metadata": {},
   "source": [
    "### **Soal 4: Penggunaan Modul di Berbagai Program**\n",
    "\n",
    "#### **Instruksi:**\n",
    "1. Buatlah modul bernama `konversi.py` yang berisi fungsi-fungsi untuk konversi suhu antara Celcius, Fahrenheit, dan Kelvin:\n",
    "   - `celcius_ke_fahrenheit(c)` : Mengubah suhu dari Celcius ke Fahrenheit.\n",
    "   - `fahrenheit_ke_celcius(f)` : Mengubah suhu dari Fahrenheit ke Celcius.\n",
    "   - `celcius_ke_kelvin(c)` : Mengubah suhu dari Celcius ke Kelvin.\n",
    "   - `kelvin_ke_celcius(k)` : Mengubah suhu dari Kelvin ke Celcius.\n",
    "\n",
    "2. Buatlah program Python yang mengimpor modul `konversi` dan meminta input suhu dari pengguna, lalu mengonversinya ke satuan lain sesuai pilihan pengguna.\n",
    "\n",
    "3. **Tantangan tambahan:** Modifikasilah program sehingga bisa menangani semua konversi suhu dengan fleksibel. Misalnya, pengguna dapat memilih untuk mengonversi suhu dari Fahrenheit ke Kelvin, atau dari Kelvin ke Fahrenheit, dengan menggunakan fungsi yang ada secara modular.\n",
    "\n",
    "   <img src=\"Screenshot (5).png\" alt=\"Deskripsi Gambar\" width=\"450\" />\n",
    "\n",
    "---"
   ]
  },
  {
   "cell_type": "code",
   "execution_count": 8,
   "id": "a61ed888-46f5-4412-bffe-22824dc41f1e",
   "metadata": {
    "id": "ea6a12c4-1360-4bfe-a05f-4098604926bc"
   },
   "outputs": [
    {
     "name": "stdout",
     "output_type": "stream",
     "text": [
      "Hasil: 20.0'C = 68.0 'F\n"
     ]
    }
   ],
   "source": [
    "#sudah di modif\n",
    "import konversi\n",
    "\n",
    "pilihan = input(\"Masukan Konversi yang diinginkan (CtoF, CtoR, CtoK, RtoC, RtoF, RtoK, FtoK, FtoC, FtoR, KtoF, KtoC, KtoK) \")\n",
    "suhu = float(input(\"Masukan Suhu Yang Ingin Dikonversikan: \"))\n",
    "\n",
    "if pilihan == \"CtoF\":\n",
    "    hasil = konversi.celciuskefahrenheit(suhu)\n",
    "    print(f\"Hasil: {suhu}'C = {hasil} 'F\")\n",
    "elif pilihan  == \"CtoR\":\n",
    "     hasil = konversi.celciuskereamur(suhu)\n",
    "     print(f\"Hasil: {suhu}'C = {hasil} 'R\")\n",
    "elif pilihan == \"CtoK\":\n",
    "     hasil = konversi.celciuskekelvin(suhu)\n",
    "     print(f\"Hasil: {suhu}'C = {hasil} 'K\")\n",
    "elif pilihan == \"RtoC\":\n",
    "    hasil = konversi.reamurkecelcius(suhu)\n",
    "    print(f\"Hasil: {suhu}'R = {hasil} 'C\")\n",
    "elif pilihan == \"RtoF\":\n",
    "    hasil = konversi.reamurkefahrenheit(suhu)\n",
    "    print(f\"Hasil: {suhu}'R = {hasil} 'F\")\n",
    "elif pilihan == \"RtoK\":\n",
    "    hasil = konversi.reamurkekelvin(suhu)\n",
    "    print(f\"Hasil: {suhu}'R = {hasil} 'K\")\n",
    "elif pilihan == \"FtoK\":\n",
    "    hasil = konversi.farhenheitkekelvin(suhu)\n",
    "    print(f\"Hasil: {suhu}'F = {hasil} 'K\")\n",
    "elif pilihan == \"FtoK\":\n",
    "    hasil = konversi.farhrenheitkecelcius(suhu)\n",
    "    print(f\"Hasil: {suhu}'F = {hasil} 'C\")\n",
    "elif pilihan == \"FtoR\":\n",
    "    hasil = konversi.farhrenheitkereamur(suhu)\n",
    "    print(f\"Hasil: {suhu}'F = {hasil} 'K\")\n",
    "elif pilihan == \"KtoF\":\n",
    "    hasil = konversi.kelvinkefarhrenheit(suhu)\n",
    "    print(f\"Hasil: {suhu}'K = {hasil} 'F\")\n",
    "elif pilihan == \"KtoC\":\n",
    "    hasil = konversi.kelvinkecelcius(suhu)\n",
    "    print(f\"Hasil: {suhu}'K = {hasil} 'c\")\n",
    "elif pilihan == \"KtoF\":\n",
    "    hasil = konversi.kelvinkereamur(suhu)\n",
    "    print(f\"Hasil: {suhu}'K = {hasil} 'R\")\n",
    "else:\n",
    "    print(\"Pilihan Tidak Ada\")\n",
    "    \n",
    "    "
   ]
  },
  {
   "cell_type": "markdown",
   "id": "0782271c-ccc3-44bd-b3b1-1ea50e756cc2",
   "metadata": {},
   "source": [
    "<span style=\"color:red; font-size: 20px;\">\n",
    "<b>Tugas Mandiri </b>\n",
    "</span>\n",
    "\n",
    "- Buatlah aplikasi sederhana menggunakan studikasus yang kalian tentukan sendiri dengan menggunakan modularisasi built-in and user defined, yang di mana menampilkan hasil dan bisa di lihat file nya menggunakan fungsi ```dir()```.\n",
    "- Jelaskan program."
   ]
  },
  {
   "cell_type": "code",
   "execution_count": 15,
   "id": "80305451-1911-4946-89ed-33821567766f",
   "metadata": {
    "id": "ea6a12c4-1360-4bfe-a05f-4098604926bc"
   },
   "outputs": [
    {
     "name": "stdout",
     "output_type": "stream",
     "text": [
      "Pilih Volume Yang Akan Di Hitung\n",
      "1. Hitung Volume Balok: \n",
      "2. Hitung Volume Kubus: \n",
      "3. Hitung Volume Tabung: \n",
      "Volume Balok : 13800\n",
      "['__builtins__', '__cached__', '__doc__', '__file__', '__loader__', '__name__', '__package__', '__spec__', 'volumebalok', 'volumekubus', 'volumetabung']\n"
     ]
    }
   ],
   "source": [
    "# Ketikan Code Disini lalu Jalankan (Run)\n",
    "#Hitung volume Bangun Ruang (Balok, Kubus, Dan Tabung)\n",
    "import hitungvolume #buat file hitungvolume(py) lalu di import\n",
    "\n",
    "\n",
    "print(\"Pilih Volume Yang Akan Di Hitung\") #output untuk melihatkan opsi pilihan volume yang akan di hitung\n",
    "print(\"1. Hitung Volume Balok: \")\n",
    "print(\"2. Hitung Volume Kubus: \")\n",
    "print(\"3. Hitung Volume Tabung: \")\n",
    "pilihan = int(input(\"Masukan Pilihan: \")) #pilihan untuk melakukan input dan proses pemilihan\n",
    "\n",
    "if pilihan == 1: #pilihan 1 di untuk menghitung volume balok yang berisikan panjang lebar tinggi\n",
    "    panjang = int(input(\"Panjang: \"))\n",
    "    lebar = int(input(\"Lebar: \"))\n",
    "    tinggi = int(input(\"Tinggi: \"))\n",
    "    print(f\"Volume Balok : {hitungvolume.volumebalok(panjang,lebar,tinggi)}\")\n",
    "elif pilihan == 2: #pilihan 2 di gunakan untuk menghitung kubus yang berisikan s ** 3 (sisi pangkat 3)\n",
    "    sisi = int(input(\"Sisi: \"))\n",
    "    print(f\"Volume Kubus: {hitungvolume.volumekubus(sisi)}\")\n",
    "elif pilihan == 3: #pilihan di gunakan menghitung tabung yang berisikan (pi 22/7, jari jari, dan tinggi)\n",
    "    jari = int(input(\"jari - jari: \"))\n",
    "    tinggi = int(input(\"Tinggi: \"))\n",
    "    print(f\"volume tabung: {int(hitungvolume.volumetabung(jari,tinggi))}\")\n",
    "else:\n",
    "    print(\"Tidak ada pilihan\")\n",
    "    \n",
    "    \n",
    "cekatribut = dir(hitungvolume)\n",
    "print(cekatribut)\n",
    "#dir di gunakan untuk mengecek atribut dan berbagai fungsi di dalam code\n",
    "#disini dir di gunakan untuk mengecek atribut pada file hitung volume\n",
    "#untuk menampilkan semua atribut dan fungsi yang ada dalam modul hitungvolume.\n",
    "# Ini juga merupakan cara untuk memanfaatkan built-in function dir().\n",
    "\n",
    "#Note:\n",
    "#Semua proses perhitungan volume sudah ada di dalam file hitungvolume(py) sesuai dengan rumus yang di masukan.\n",
    "#untuk modularisasi built in code ini menggunakan math yang di mana sudah di sediakan oleh python dari sananya\n",
    "#math untuk math.pi dalam perhitungan volume tabung. Ini adalah contoh penggunaan modul built-in.\n"
   ]
  },
  {
   "cell_type": "markdown",
   "id": "2fd0d7bf",
   "metadata": {},
   "source": [
    "# Jelaskan  Kesimpulan dari Pertemuan kali ini Dengan Format Markdown, Min.3 Baris\n",
    "# Note: nilai plus buat yang masukkan gambar, visualisasi penjelasan, dan table penjelasan\n",
    "**Kesimpulan Dari Praktikum 10, Modularisasi Adalah** <br>\n",
    "<br>\n",
    "**Modularisasi**<br>\n",
    "modularisasi adalah proses pengelompokan kode ke dalam beberapa bagian yang logis sehingga lebih mudah dimengerti, digunakan kembali, dan dikelola. Setiap bagian dari program yang modular biasanya ditempatkan dalam satu file Python, yang disebut modul. Modul ini bisa berisi definisi fungsi, kelas, atau variabel. <br>\n",
    "**Manfaat Modularisasi:** <br>\n",
    "1. **Pemeliharaan Kode:** Kode yang modular lebih mudah dipelihara dan dikembangkan.\n",
    "2. **Reusabilitas:** Modul yang dibuat dapat digunakan kembali di program lain tanpa harus menulis ulang kode.\n",
    "3. **Organisasi yang Lebih Baik:** Program yang besar dapat dipecah menjadi modul-modul yang lebih kecil dan terpisah, sehingga lebih terstruktur. <br>\n",
    "**Cara Menggunakan Modul:** <br>\n",
    "Untuk menggunakan modul dalam program Python, kita bisa menggunakan perintah `import`.<br>\n",
    "<br>\n",
    "**Note :** <br>\n",
    "**Modularisasi Built In Dir()**\n",
    "<img src=\"1.png\" widht=\"500px\"/> <br>\n",
    "Disini dir di gunakan untuk mengecek atribut dan fungsi pada code. Modularisasi Built in merupakan modul yang sudah ada di dalam python dan di<br>sediakan seperti math,dir,random,dll<br>\n",
    "<br>\n",
    "<img src=\"3.png\" widht=\"500px\"/> <br>\n",
    "Dengan Modularisasi kita dapat mengatur code pemerosesan dan pengeluaran sehingga lebih mudah untuk mengatur baris code\n"
   ]
  },
  {
   "cell_type": "markdown",
   "id": "892632fa",
   "metadata": {},
   "source": []
  }
 ],
 "metadata": {
  "colab": {
   "provenance": []
  },
  "kernelspec": {
   "display_name": "Python 3 (ipykernel)",
   "language": "python",
   "name": "python3"
  },
  "language_info": {
   "codemirror_mode": {
    "name": "ipython",
    "version": 3
   },
   "file_extension": ".py",
   "mimetype": "text/x-python",
   "name": "python",
   "nbconvert_exporter": "python",
   "pygments_lexer": "ipython3",
   "version": "3.12.4"
  },
  "widgets": {
   "application/vnd.jupyter.widget-state+json": {
    "state": {},
    "version_major": 2,
    "version_minor": 0
   }
  }
 },
 "nbformat": 4,
 "nbformat_minor": 5
}
