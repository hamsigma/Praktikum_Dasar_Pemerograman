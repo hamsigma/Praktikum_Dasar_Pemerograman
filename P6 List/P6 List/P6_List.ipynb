{
 "cells": [
  {
   "cell_type": "markdown",
   "id": "b3450a5a-c882-48e6-8aae-8be59018aedb",
   "metadata": {
    "id": "b3450a5a-c882-48e6-8aae-8be59018aedb"
   },
   "source": [
    "# Modul Soal Pertemuan 6 - **List**\n",
    "\n",
    "**Topik:** List dalam Python\n",
    "\n",
    "**Tujuan Pembelajaran:**\n",
    "- Memahami konsep dasar List dalam Python.\n",
    "- Mampu melakukan manipulasi data dalam List menggunakan operasi dan method.\n",
    "- Menggunakan fungsi dan method yang terkait dengan List untuk berbagai aplikasi praktis.\n",
    "\n",
    "---\n",
    "\n",
    "## 1. **Pendahuluan**\n",
    "\n",
    "List adalah salah satu struktur data yang paling sering digunakan dalam Python karena fleksibilitasnya. List dapat menyimpan berbagai jenis data dan memungkinkan kita melakukan berbagai operasi seperti menambah, menghapus, dan mengubah elemen.\n",
    "\n",
    "---\n",
    "\n",
    "## 2. **Pembahasan Singkat Fungsi dan Method pada List**\n",
    "\n",
    "| **No** | **Fungsi/Method**   | **Penjelasan**                                                                                   | **Contoh Kode**                                                                                                                                  |\n",
    "|--------|---------------------|---------------------------------------------------------------------------------------------------|--------------------------------------------------------------------------------------------------------------------------------------------------|\n",
    "| 1      | `len()`              | Menghitung jumlah elemen dalam List.                                                             | ```python len([1, 2, 3])  # Output: 3```                                                                                                         |\n",
    "| 2      | `min()`              | Mengembalikan elemen dengan nilai terkecil (hanya bisa digunakan pada elemen yang bisa dibandingkan). | ```python min([4, 2, 8, 1])  # Output: 1```                                                                                                     |\n",
    "| 3      | `max()`              | Mengembalikan elemen dengan nilai terbesar.                                                      | ```python max([4, 2, 8, 1])  # Output: 8```                                                                                                     |\n",
    "| 4      | `append()`           | Menambahkan elemen baru di akhir List.                                                          | ```python buah = ['apel', 'jeruk'] buah.append('pisang')  # Output: ['apel', 'jeruk', 'pisang']```                                               |\n",
    "| 5      | `insert()`           | Menyisipkan elemen baru pada posisi tertentu dalam List.                                         | ```python buah = ['apel', 'jeruk'] buah.insert(1, 'mangga')  # Output: ['apel', 'mangga', 'jeruk']```                                           |\n",
    "| 6      | `extend()`           | Menggabungkan dua List atau koleksi data lainnya ke akhir List.                                  | ```python buah = ['apel'] sayur = ['bayam'] buah.extend(sayur)  # Output: ['apel', 'bayam']```                                                   |\n",
    "| 7      | `remove()`           | Menghapus elemen pertama yang ditemukan dengan nilai tertentu dari List.                        | ```python buah = ['apel', 'jeruk', 'mangga'] buah.remove('jeruk')  # Output: ['apel', 'mangga']```                                               |\n",
    "| 8      | `pop()`              | Menghapus elemen pada indeks tertentu (default: elemen terakhir) dan mengembalikannya.           | ```python buah = ['apel', 'jeruk', 'mangga'] buah.pop()  # Output: 'mangga'```                                                                  |\n",
    "| 9      | `clear()`            | Menghapus semua elemen dalam List.                                                              | ```python buah = ['apel', 'jeruk'] buah.clear()  # Output: []```                                                                                 |\n",
    "| 10     | `sort()`             | Mengurutkan elemen dalam List secara menaik (secara default).                                   | ```python angka = [5, 2, 9] angka.sort()  # Output: [2, 5, 9]```                                                                                 |\n",
    "| 11     | `reverse()`          | Membalik urutan elemen dalam List.                                                              | ```python angka = [1, 2, 3] angka.reverse()  # Output: [3, 2, 1]```                                                                             |\n",
    "| 12     | `copy()`             | Membuat salinan List baru dari List yang ada.                                                   | ```python buah = ['apel'] buah_copy = buah.copy()  # Output: ['apel']```                                                                         |\n",
    "| 13     | `count()`            | Menghitung jumlah kemunculan elemen tertentu dalam List.                                        | ```python buah = ['apel', 'apel', 'jeruk'] buah.count('apel')  # Output: 2```                                                                   |\n",
    "| 14     | `index()`            | Mengembalikan indeks dari elemen pertama yang ditemukan.                                         | ```python buah = ['apel', 'jeruk'] buah.index('jeruk')  # Output: 1```                                                                          |\n",
    "---\n",
    "\n",
    "## 3. **Soal dan Latihan** \n",
    "**Note:** Gunakan logika pemrograman bukan cuman ngikutin gambar. Baca betul-betul apa yang di intruksikan!!\n",
    "\n"
   ]
  },
  {
   "cell_type": "markdown",
   "id": "a248317e-96f4-4bc7-b72c-5604ae57cab5",
   "metadata": {},
   "source": [
    "### **Soal 1 - Fungsi `len()`, `min()`, dan `max()`**\n",
    "<img src=\"Screenshot (1).png\" alt=\"Deskripsi Gambar\" width=\"450\" style=\"margin-left: 30px;\" />\n",
    "\n",
    "**Instruksi:**\n",
    "1. Buat sebuah List berisi angka NIM dibagi 2 value tiap NIM nya.\n",
    "2. Tampilkan jumlah elemen dalam List, nilai terkecil, dan nilai terbesar.\n",
    "3. Jelaskan code beserta outputnya!"
   ]
  },
  {
   "cell_type": "code",
   "execution_count": 7,
   "id": "b3f87cea-e50a-46fd-820f-bc12703db8da",
   "metadata": {
    "id": "ea6a12c4-1360-4bfe-a05f-4098604926bc"
   },
   "outputs": [
    {
     "name": "stdout",
     "output_type": "stream",
     "text": [
      "Jumlah Elemen: 7\n",
      "Jumlah Terkecil: 0.6\n",
      "Jumlah Terbesar: 41\n"
     ]
    }
   ],
   "source": [
    "# Ketikan Code Disini lalu Jalankan (Run)\n",
    "nim = [24,11,10,24,41,0.6,6] #mendeklarasikan data nim yang berisi nilai angka dari nim\n",
    "print(f\"Jumlah Elemen: {len(nim)}\") #output yang di kelaurkan dari fungsi len adalah menjumlahkan elemen di dalam list nim jadi 7 elemen dalam list\n",
    "print(f\"Jumlah Terkecil: {min(nim)}\") #output yang di keluarkan dari fungsi min adalah mengembalikan elemen dengan nilai terkecil dari nim jadi 0.6\n",
    "print(f\"Jumlah Terbesar: {max(nim)}\") #output yang di keluar kan dari fungso max adalah mengembalikan elemen dengan nilai yang terbesar dari nim jadi 41\n",
    "\n",
    "#method perlu object \n",
    "#fungsi tidak terikat dengan object"
   ]
  },
  {
   "cell_type": "markdown",
   "id": "2b0246ff-584f-4484-b52d-18733bcde7ae",
   "metadata": {},
   "source": [
    "### **Soal 2 - Method `append()`, `insert()`, dan `extend()`**\n",
    "<img src=\"Screenshot (2).png\" alt=\"Deskripsi Gambar\" width=\"450\" style=\"margin-left: 30px;\" />\n",
    "\n",
    "**Instruksi:**\n",
    "1. Buatlah List berisi nama-nama kota.\n",
    "2. Tambahkan satu kota baru menggunakan `append()`.\n",
    "3. Sisipkan kota baru di posisi kedua menggunakan `insert()`.\n",
    "4. Gabungkan List kota dengan List negara menggunakan `extend()`.\n",
    "5. Jelaskan code beserta outputnya!"
   ]
  },
  {
   "cell_type": "code",
   "execution_count": 23,
   "id": "a61ed888-46f5-4412-bffe-22824dc41f1e",
   "metadata": {
    "id": "ea6a12c4-1360-4bfe-a05f-4098604926bc"
   },
   "outputs": [
    {
     "name": "stdout",
     "output_type": "stream",
     "text": [
      " Penggunaan append: ['Sangatta', 'Samarinda', 'Bontang', 'Sidney']\n",
      "penggunaan insert: ['Sangatta', 'Samarinda', 'Tenggarong', 'Bontang', 'Sidney']\n",
      "Penggunaan extend: ['Sangatta', 'Samarinda', 'Tenggarong', 'Bontang', 'Sidney', 'Indonesia', 'Australia']\n"
     ]
    }
   ],
   "source": [
    "# Ketikan Code Disini lalu Jalankan (Run)\n",
    "kota = [\"Sangatta\", \"Samarinda\", \"Bontang\"] #Mendeklarasikan variable kota dengan nilai list nama nama kota\n",
    "kota.append(\"Sidney\")#append di gunakan untuk menambahkan item kedalam list jadi, variable(kota). append(method) (\"sidney\") jadi kota sidney di tambahkan ke dalam list paling ujung\n",
    "print(f\" Penggunaan append: {kota}\")#Output yang di keluarkan append adalah kota yang di tambahkan ke dalam list\n",
    "kota.insert(2, \"Tenggarong\")#insert di gunakan untuk memasukan item ke dalam list jadi yang di masukan ke dalam () itu angka 2 dan kotanya jadi kota tenggarong akan masuk setelah 1 dan sebelum 3 \n",
    "print(f\" penggunaan insert: {kota}\")#Output dari insert jadi yang awalnya kota bontang menempati urutan 2 menjadi kota tenggarong \n",
    "negara = [\"Indonesia\", \"Australia\"] # mendeklarasikan variable negara \n",
    "kota.extend(negara)#extend di dgunakan untuk menggabungkan 2 list jadi list kota dan negara akan di gabung\n",
    "print(f\" Penggunaan extend: {kota}\")#Output yang di hasilkan dari extend adalah penggabungan 2 list kota dan negara\n",
    "\n",
    "#append variable . pilih metodenya (1,) item yang di tambahkan\n",
    "#extend untuk menggabungkan 2 list\n",
    "#biru biru metode, argumen/komponen list mana yang mau di gabung"
   ]
  },
  {
   "cell_type": "markdown",
   "id": "027609a3-346c-4999-a485-772128a8bb6a",
   "metadata": {},
   "source": [
    "### **Soal 3 - Method `pop()`, `remove()`, dan `clear()`**\n",
    "<img src=\"Screenshot (3).png\" alt=\"Deskripsi Gambar\" width=\"450\" style=\"margin-left: 30px;\" />\n",
    "\n",
    "**Instruksi:**\n",
    "1. Buat sebuah List berisi nama buah.\n",
    "2. Hapus elemen terakhir dari List menggunakan `pop()`.\n",
    "3. Hapus buah tertentu dari List menggunakan `remove()`.\n",
    "4. Kosongkan seluruh List menggunakan `clear()`.\n",
    "5. Jelaskan code beserta outputnya!"
   ]
  },
  {
   "cell_type": "code",
   "execution_count": 27,
   "id": "64ab0c5d-e597-4c67-94f2-4d239e9009b5",
   "metadata": {},
   "outputs": [
    {
     "name": "stdout",
     "output_type": "stream",
     "text": [
      "Penggunaan Pop: ['Durian', 'Mangga', 'Apel']\n",
      "Penggunaan Remove: ['Durian', 'Mangga']\n",
      "Penggunaan Clear: []\n"
     ]
    }
   ],
   "source": [
    "# Ketikan Code Disini lalu Jalankan (Run)\n",
    "buah = [\"Durian\",\"Mangga\",\"Apel\",\"Melon\"] #Mendeklarasikan variable buah yang berisikan nilai buah \n",
    "buah.pop() #penggunaan pop, buah(variable). pop(method) akan menggunakan indeks untuk menghapus baris/ujung dari sebuah list\n",
    "print(f\"Penggunaan Pop: {buah}\") #menampilkan output dengan\n",
    "buah.remove(\"Apel\") #penggunaan clear, buah(variable). remove(method) akan menggunakan elemen dari list jadi yang di lepas/remove adalah apple sehingga apel pas di output akan hilang \n",
    "print(f\"Penggunaan Remove: {buah}\") #menampilkan output                         \n",
    "buah.clear() #penggunaan clear, buah(variable). clear(method) akan menghapus semua nilai yang ada di dalam list buah.\n",
    "print(f\"Penggunaan Clear: {buah}\") #menampilkan output\n",
    "\n",
    "#Ketika eksekusi pertama ya itu pop buah yang di hilangkan yang pertama adalah melon yang di ujung\n",
    "#eksekusi ke 2 remove apel, buah yang akan di hilangkan di list adalah buah apel. jadi melon dan apel hilang pada list buah, \n",
    "#eksekusi ke 3 clear, semua buah yang ada pada list yaitu durian dan mangga akan di hilangkan di dalam list\n",
    "\n",
    "#pop menggunakan indeks untuk menghapus baris terakhir/ujung dari sebuah list\n",
    "#remove menggunakan elemen untuk mengilangkan elemen dari list \n",
    "#clear menghapus semua isi list"
   ]
  },
  {
   "cell_type": "markdown",
   "id": "c787923f-618e-435c-9f45-280b9ce74bef",
   "metadata": {},
   "source": [
    "### **Soal 4 - Method `sort()` dan `reverse()`**\n",
    "<img src=\"Screenshot (4).png\" alt=\"Deskripsi Gambar\" width=\"300\" style=\"margin-left: 30px;\" />\n",
    "\n",
    "**Instruksi:**\n",
    "1. Buatlah sebuah List berisi beberapa angka.\n",
    "2. Urutkan List tersebut dalam urutan menaik menggunakan `sort()`.\n",
    "3. Balik urutan List menggunakan `reverse()`.\n",
    "4. Jelaskan code beserta outputnya!\n"
   ]
  },
  {
   "cell_type": "code",
   "execution_count": 28,
   "id": "ea6a12c4-1360-4bfe-a05f-4098604926bc",
   "metadata": {
    "id": "ea6a12c4-1360-4bfe-a05f-4098604926bc"
   },
   "outputs": [
    {
     "name": "stdout",
     "output_type": "stream",
     "text": [
      "Penggunaan Sort: [6, 7, 8, 9, 10]\n",
      "Penggunaan: [10, 9, 8, 7, 6]\n"
     ]
    }
   ],
   "source": [
    "# Ketikan Code Disini lalu Jalankan (Run)\n",
    "angka = [7,6,9,8,10] #mendeklarasikan variable angka yang berisikan nilai list dari angka 6 sampai 10\n",
    "angka.sort() #Penggunaan sort adalah mengurutkan / merapikan angka yang berantakan dari yang terkecil ke yang terbesar\n",
    "print(f\"Penggunaan Sort: {angka}\") #menampilkan output sort\n",
    "angka.reverse() #Penggunaan reverse adalah kebalikan dari sort reverse akan mengurutkan angka dari yang terbesar ke terkecil di dalam list\n",
    "print(f\"Penggunaan reverse: {angka}\") #menampilkan output reverse\n",
    "\n",
    "#sort mengurutkan angka dari terkecil ke terbesar\n",
    "#reverse membalikan"
   ]
  },
  {
   "cell_type": "markdown",
   "id": "ca4c6caa-fb54-453a-bef8-99634775a4f1",
   "metadata": {},
   "source": [
    "### **Soal 5 - Menerapkan Semua Fungsi dan Method**\n",
    "<img src=\"Screenshot (5).png\" alt=\"Deskripsi Gambar\" width=\"450\" style=\"margin-left: 30px;\" />\n",
    "\n",
    "**Instruksi:**\n",
    "1. Buatlah program yang meminta pengguna memasukkan 5 nilai numerik.\n",
    "2. Simpan nilai-nilai tersebut ke dalam List.\n",
    "3. Gunakan:\n",
    "   - `len()` untuk menghitung jumlah elemen.\n",
    "   - `min()` dan `max()` untuk mencari nilai terkecil dan terbesar.\n",
    "   - `append()` untuk menambahkan nilai baru yang diminta dari pengguna.\n",
    "   - `pop()` untuk menghapus elemen terakhir.\n",
    "   - `sort()` untuk mengurutkan nilai-nilai dalam List.\n",
    "4. Tampilkan hasil setelah setiap operasi dan jelaskan code beserta outputnya!.\n",
    "\n"
   ]
  },
  {
   "cell_type": "code",
   "execution_count": 34,
   "id": "f2fd563a-d434-422c-a920-aab426953dbf",
   "metadata": {
    "id": "ea6a12c4-1360-4bfe-a05f-4098604926bc"
   },
   "outputs": [
    {
     "name": "stdin",
     "output_type": "stream",
     "text": [
      "Masukan nilai ke-1:  7\n",
      "Masukan nilai ke-2:  6\n",
      "Masukan nilai ke-3:  8\n",
      "Masukan nilai ke-4:  9\n",
      "Masukan nilai ke-5:  10\n"
     ]
    },
    {
     "name": "stdout",
     "output_type": "stream",
     "text": [
      "Jumlah elemen 5\n",
      "Nilai terkecil 6\n",
      "Nilai terbesar 10\n"
     ]
    },
    {
     "name": "stdin",
     "output_type": "stream",
     "text": [
      "Masukan nilai tambahan: 3\n"
     ]
    },
    {
     "name": "stdout",
     "output_type": "stream",
     "text": [
      "Setelah menambah nilai: [7, 6, 8, 9, 10, 10]\n",
      "Setelah menghapus elemen: [7, 6, 8, 9, 10]\n",
      "Setelah diurutkan: [6, 7, 8, 9, 10]\n"
     ]
    }
   ],
   "source": [
    "# Ketikan Code Disini lalu Jalankan (Run)\n",
    "nilai = [] \n",
    "for i in range(5): #variable untuk range 5\n",
    "    angka = int(input(f\"Masukan nilai ke-{i+1}: \")) #angka yang di masukan kedalam inputan + 1 \n",
    "    nilai.append(angka) # nilai yang di ambil pada inputan akan di hilangkan di list ujungnya\n",
    "    \n",
    "print(f\"Jumlah elemen {len(nilai)}\") #output yang di tampilan len akan di hitung elementnya\n",
    "print(f\"Nilai terkecil {min(nilai)}\") #output yang di tampilkan min akan di keluarkan nilai yang terkecil di dalam list yang telah di inputkan\n",
    "print(f\"Nilai terbesar {max(nilai)}\") #output yang di tampilkan max akan di keluarkan nilai yang paling besar di dalam list yang telah di inputkan\n",
    "\n",
    "nilai_baru = int(input(\"Masukan nilai tambahan:\")) #mendeklarasikan untuk memasukan nilai tambahan\n",
    "nilai.append(angka) #angk\n",
    "print(f\"Setelah menambah nilai: {nilai}\")#\n",
    "\n",
    "nilai.pop()#\n",
    "print(f\"Setelah menghapus elemen: {nilai}\")#\n",
    "\n",
    "nilai.sort()#\n",
    "print(f\"Setelah diurutkan: {nilai}\")#\n"
   ]
  },
  {
   "cell_type": "markdown",
   "id": "7b1c0c84-10dc-472e-9ec1-2c43f1ffaeb7",
   "metadata": {},
   "source": [
    "<span style=\"color:red; font-size: 20px;\">\n",
    "<b>Tugas Mandiri </b>\n",
    "</span>\n",
    "\n",
    "1. Buatlah program untuk mengelola daftar belanja menggunakan List, di mana pengguna bisa menambahkan, menghapus, dan melihat item dalam daftar belanja tersebut.\n",
    "2. Implementasikan semua fungsi dan method yang telah dipelajari pada skenario yang lebih relevan dengan aplikasi dunia nyata.\n"
   ]
  },
  {
   "cell_type": "code",
   "execution_count": 16,
   "id": "e9d65228-9b6d-4496-8074-529cdf7e909f",
   "metadata": {
    "id": "ea6a12c4-1360-4bfe-a05f-4098604926bc"
   },
   "outputs": [
    {
     "name": "stdout",
     "output_type": "stream",
     "text": [
      "1. untuk menambahkan barang\n",
      "2. untuk mengurangi barang\n",
      "3. untuk menampilkan barang\n",
      "4. untuk keluar\n"
     ]
    },
    {
     "name": "stdin",
     "output_type": "stream",
     "text": [
      "Masukan Metode Pilihan 1\n"
     ]
    },
    {
     "name": "stdout",
     "output_type": "stream",
     "text": [
      "============================\n"
     ]
    },
    {
     "name": "stdin",
     "output_type": "stream",
     "text": [
      "Tambahkan Barang Kedalam Belanjaan:  a\n",
      "Tambahkan Barang Kedalam Belanjaan:  b\n",
      "Tambahkan Barang Kedalam Belanjaan:  c\n",
      "Tambahkan Barang Kedalam Belanjaan:  d\n",
      "Tambahkan Barang Kedalam Belanjaan:  e\n"
     ]
    },
    {
     "name": "stdout",
     "output_type": "stream",
     "text": [
      "Daftar Barang Yang Ada Di Belanja: \n",
      "1. untuk menambahkan barang\n",
      "2. untuk mengurangi barang\n",
      "3. untuk menampilkan barang\n",
      "4. untuk keluar\n"
     ]
    },
    {
     "name": "stdin",
     "output_type": "stream",
     "text": [
      "Masukan Metode Pilihan 2\n"
     ]
    },
    {
     "name": "stdout",
     "output_type": "stream",
     "text": [
      "============================\n"
     ]
    },
    {
     "name": "stdin",
     "output_type": "stream",
     "text": [
      "Input Barang Belanja Yang Ingin Di Hapus:  b\n"
     ]
    },
    {
     "name": "stdout",
     "output_type": "stream",
     "text": [
      "Barang Belanja Setelah Di Hapus: ['a', 'c', 'd', 'e']\n",
      "1. untuk menambahkan barang\n",
      "2. untuk mengurangi barang\n",
      "3. untuk menampilkan barang\n",
      "4. untuk keluar\n"
     ]
    },
    {
     "name": "stdin",
     "output_type": "stream",
     "text": [
      "Masukan Metode Pilihan 4\n"
     ]
    },
    {
     "name": "stdout",
     "output_type": "stream",
     "text": [
      "============================\n",
      "Program Selesai\n",
      "Terimakasih Sudah Berbelanja \n"
     ]
    }
   ],
   "source": [
    "# Ketikan Code Disini lalu Jalankan (Run)\n",
    "barang = [] #untuk memasukan nilai, barang(variable), dan list kosong\n",
    "\n",
    "for metode in range(5): #fungsi for untuk mengambil langkah berapa kali kita melakukan proses eksekusi \n",
    "   \n",
    "    if metode == 1:                               #jika metode 1, i dengan jarak 5 barang di input sebanyak 5 kali ,\n",
    "        for i in range(5):                               # daftar barang di tampilkan \n",
    "            i = input(\"Tambahkan Barang Kedalam Belanjaan: \") \n",
    "            barang.append(i)\n",
    "        print(f\"Daftar Barang Yang Ada Di Belanja: \")\n",
    "        print (\"============================\")\n",
    "    elif metode == 2:                 #apabila metode 2 \n",
    "        if barang == []:                #jika barang 0 tidak ada barang inputan masuk tampilan tidak ada barang yang di kurangin\n",
    "            print(\"Tidak Ada Barang Yang Di Kurangain\")\n",
    "            print (\"============================\")\n",
    "        else: \n",
    "            hapus_barang = input(\"Input Barang Belanja Yang Ingin Di Hapus: \") #apabila hapus barang \n",
    "            barang.remove(hapus_barang)\n",
    "            print(f\"Barang Belanja Setelah Di Hapus: {barang}\")\n",
    "            print (\"============================\")\n",
    "    elif metode == 3:\n",
    "        if barang == []:\n",
    "            print(\"Tidak Ada Barang Yang Bisa Di Tampmilkan\")\n",
    "            print (\"============================\")\n",
    "        else:\n",
    "            print(f\"Dafar barang\")\n",
    "    else: \n",
    "        print(\"Program Selesai\")\n",
    "        break\n",
    "\n",
    "print(\"Terimakasih Sudah Berbelanja \")\n",
    "  "
   ]
  },
  {
   "cell_type": "markdown",
   "id": "8e779e86-8436-46bf-a1e5-37850df37e85",
   "metadata": {},
   "source": [
    "# Jelaskan  Kesimpulan dari Pertemuan kali ini Dengan Format Markdown, Min.3 Baris\n",
    "# Note: nilai plus buat yang masukkan gambar, visualisasi penjelasan, dan table penjelasan\n",
    "**Kesimpulan Dari Praktikum 6 Kali Ini Adalah** <br>\n",
    "Saya dapat memahami beberapa metode dalam penggunaan list seperti append, remove,clear,insert, dan metode list yang lainnya <br>\n",
    "dengan metode yang di pelajari kita bisa menggabungkan list dengan struktur kontrol untuk di buat menjadi program yang lebih kompleks <br>\n",
    "menggunakan metode list banyak kegunaannya untuk beberapa program sederhana yang akan kita buat dan juga memudahkan user untuk membuat list.<br>\n",
    "**Note :** <br>\n",
    "<img src=\"a.png\" widht=\"500px\"/> <br>\n"
   ]
  },
  {
   "cell_type": "code",
   "execution_count": null,
   "id": "4c891622-e3a6-4bd1-9ff7-0eb148c4bdb4",
   "metadata": {},
   "outputs": [],
   "source": []
  }
 ],
 "metadata": {
  "colab": {
   "provenance": []
  },
  "kernelspec": {
   "display_name": "Python 3 (ipykernel)",
   "language": "python",
   "name": "python3"
  },
  "language_info": {
   "codemirror_mode": {
    "name": "ipython",
    "version": 3
   },
   "file_extension": ".py",
   "mimetype": "text/x-python",
   "name": "python",
   "nbconvert_exporter": "python",
   "pygments_lexer": "ipython3",
   "version": "3.12.4"
  },
  "widgets": {
   "application/vnd.jupyter.widget-state+json": {
    "state": {},
    "version_major": 2,
    "version_minor": 0
   }
  }
 },
 "nbformat": 4,
 "nbformat_minor": 5
}
