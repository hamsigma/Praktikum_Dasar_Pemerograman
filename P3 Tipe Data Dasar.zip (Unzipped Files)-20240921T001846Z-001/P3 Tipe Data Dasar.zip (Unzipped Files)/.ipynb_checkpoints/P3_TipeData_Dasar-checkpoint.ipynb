{
 "cells": [
  {
   "cell_type": "markdown",
   "id": "b3450a5a-c882-48e6-8aae-8be59018aedb",
   "metadata": {
    "id": "b3450a5a-c882-48e6-8aae-8be59018aedb"
   },
   "source": [
    "# Pertemuan 3: Tipe Data Dasar\n",
    "\n",
    "Pada pertemuan ini, kita akan membahas beberapa tipe data dasar yang sering digunakan dalam pemrograman Python. Di antaranya adalah:\n",
    "\n",
    "1. **Tipe Data Numerik**: `int`, `float`, `complex`\n",
    "2. **Fungsi pada Data Numerik**: fungsi bawaan Python seperti `abs()`, `pow()`, `round()`, dll.\n",
    "3. **Tipe Data String**: Tipe data untuk menyimpan teks\n",
    "4. **Method pada String**: Method yang dapat digunakan pada string seperti `.lower()`, `.upper()`, `.replace()`, dll.\n",
    "5. **String Formatting**: Format string menggunakan `f-string`, `.format()`\n",
    "6. **Type Casting**: Mengubah tipe data dari satu tipe ke tipe lainnya\n",
    "Berikut adalah penjabaran materi pertemuan 3 dalam format tabel, yang mencakup **Tipe Data Numerik**, **Fungsi pada Data Numerik**, **Tipe Data String**, **Method String**, **String Formatting**, dan **Type Casting**.\n",
    "\n",
    "| **Materi**            | **Penjelasan**                                                                                                                                                      | **Contoh**                                                                                                                                                 |\n",
    "|-----------------------|---------------------------------------------------------------------------------------------------------------------------------------------------------------------|------------------------------------------------------------------------------------------------------------------------------------------------------------|\n",
    "| **Tipe Data Numerik**  | Tipe data untuk menyimpan nilai numerik dalam Python, seperti `int` (bilangan bulat), `float` (bilangan desimal), dan `complex` (bilangan kompleks).                  | ```python angka1 = 5  # int angka2 = 3.14  # float angka3 = 2 + 3j  # complex ```                                                                           |\n",
    "| **Fungsi pada Data Numerik** | Fungsi bawaan Python untuk mengoperasikan angka seperti `abs()`, `pow()`, `round()`, dll.                                                                       | ```python abs(-10)  # Hasil: 10 pow(2, 3)  # Hasil: 8 round(3.14159, 2)  # Hasil: 3.14 ```                                                                  |\n",
    "| **Tipe Data String**   | Tipe data yang menyimpan teks atau karakter. String biasanya diapit oleh tanda kutip tunggal (`'...'`) atau ganda (`\"...\"`).                                         | ```python teks = \"Hello World!\" ```                                                                                                                         |\n",
    "| **Method String**      | Fungsi yang dapat digunakan pada tipe data string seperti `lower()`, `upper()`, `title()`, dan `replace()`.                                                          | ```python teks.lower()  # Hasil: \"hello world\" teks.upper()  # Hasil: \"HELLO WORLD\" teks.title()  # Hasil: \"Hello World\" ```                                 |\n",
    "| **String Formatting**  | Teknik untuk menyisipkan variabel atau nilai ke dalam string. Python menyediakan beberapa metode, termasuk `f-string` dan `.format()`.                                | ```python nama = \"Aisyah\" umur = 21 print(f\"Halo, {nama}! Usia Anda {umur} tahun.\") print(\"Halo, {}! Usia Anda {} tahun.\".format(nama, umur)) ```           |\n",
    "| **Type Casting**       | Mengubah tipe data dari satu tipe ke tipe lainnya. Fungsi umum termasuk `int()`, `float()`, dan `str()`.                                                             | ```python angka = \"10\"  # string angka_numerik = int(angka)  # mengubah string ke integer ```                                                               |\n",
    "\n",
    "### Tipe Data Numerik\n",
    "\n",
    "| **Tipe Data** | **Penjelasan**                                | **Contoh**       |\n",
    "|---------------|-----------------------------------------------|------------------|\n",
    "| `int`         | Bilangan bulat                                | `x = 10`         |\n",
    "| `float`       | Bilangan desimal                              | `x = 10.5`       |\n",
    "| `complex`     | Bilangan kompleks (memiliki bagian imajiner)  | `x = 2 + 3j`     |\n",
    "\n",
    "### Fungsi pada Data Numerik\n",
    "\n",
    "| **Fungsi**    | **Penjelasan**                                | **Contoh**                                |\n",
    "|---------------|-----------------------------------------------|-------------------------------------------|\n",
    "| `abs(x)`      | Mengembalikan nilai absolut dari x             | `abs(-10)` hasil: `10`                    |\n",
    "| `pow(x, y)`   | Mengembalikan hasil pangkat x^y                | `pow(2, 3)` hasil: `8`                    |\n",
    "| `round(x, n)` | Membulatkan angka x ke n digit desimal         | `round(3.14159, 2)` hasil: `3.14`         |\n",
    "\n",
    "### Tipe Data String\n",
    "\n",
    "| **Tipe Data** | **Penjelasan**                                | **Contoh**        |\n",
    "|---------------|-----------------------------------------------|-------------------|\n",
    "| `str`         | Tipe data untuk menyimpan teks atau karakter  | `x = \"Hello\"`     |\n",
    "\n",
    "### Method pada String\n",
    "\n",
    "| **Method**    | **Penjelasan**                                | **Contoh**                                  |\n",
    "|---------------|-----------------------------------------------|---------------------------------------------|\n",
    "| `upper()`     | Mengubah semua karakter string menjadi huruf besar | `\"hello\".upper()` hasil: `\"HELLO\"`          |\n",
    "| `lower()`     | Mengubah semua karakter string menjadi huruf kecil | `\"HELLO\".lower()` hasil: `\"hello\"`          |\n",
    "| `title()`     | Mengubah huruf pertama dari setiap kata menjadi huruf kapital | `\"hello world\".title()` hasil: `\"Hello World\"` |\n",
    "| `replace(a, b)`| Mengganti karakter atau substring a dengan b | `\"hello\".replace(\"h\", \"j\")` hasil: `\"jello\"`|\n",
    "\n",
    "### String Formatting\n",
    "\n",
    "| **Metode**    | **Penjelasan**                                | **Contoh**                                                                 |\n",
    "|---------------|-----------------------------------------------|----------------------------------------------------------------------------|\n",
    "| `f-string`    | Menggunakan string literal yang mendukung ekspresi di dalam `{}` | `f\"Nama saya {nama}, umur saya {umur}.\"`                                   |\n",
    "| `.format()`   | Memformat string dengan menyisipkan variabel di dalam placeholder `{}` | `\"Nama saya {}, umur saya {}.\".format(nama, umur)`                         |\n",
    "\n",
    "### Type Casting (Konversi Tipe Data)\n",
    "\n",
    "| **Fungsi**    | **Penjelasan**                                | **Contoh**                                |\n",
    "|---------------|-----------------------------------------------|-------------------------------------------|\n",
    "| `int(x)`      | Mengubah x menjadi integer                    | `int(\"10\")` hasil: `10`                  |\n",
    "| `float(x)`    | Mengubah x menjadi float                      | `float(\"10.5\")` hasil: `10.5`            |\n",
    "| `str(x)`      | Mengubah x menjadi string                     | `str(10)` hasil: `\"10\"`                  |\n",
    "\n",
    "### Contoh Soal\n",
    "\n",
    "1. **Tipe Data Numerik:**\n",
    "   Buatlah program yang menerima dua input angka, lalu hitung penjumlahan, pengurangan, perkalian, dan pembagian.\n",
    "\n",
    "2. **Fungsi pada Data Numerik:**\n",
    "   Gunakan fungsi `pow()`, `abs()`, dan `round()` untuk mengolah data numerik.\n",
    "\n",
    "3. **Tipe Data String dan Method String:**\n",
    "   Buat program yang meminta nama pengguna lalu ubah menjadi huruf besar, kecil, dan kapital pada setiap kata.\n",
    "\n",
    "4. **String Formatting:**\n",
    "   Gunakan `f-string` dan `.format()` untuk menampilkan informasi nama dan usia.\n",
    "\n",
    "5. **Type Casting:**\n",
    "   Minta input angka dalam bentuk string, lalu ubah ke tipe numerik (`int` atau `float`) dan tampilkan hasil konversinya.\n",
    "---\n",
    "\n",
    "**Catatan:** Pastikan Anda memahami tiap materi sebelum mengerjakan soal. Gunakan dokumentasi Python jika diperlukan."
   ]
  },
  {
   "attachments": {},
   "cell_type": "markdown",
   "id": "e989c82b-4c5e-4eaf-9152-4a4c9a494b65",
   "metadata": {},
   "source": [
    "## Soal 1: Operasi Aritmatika pada Tipe Data Numerik\n",
    "\n",
    "### Contoh Program yang Salah:\n",
    "<img src=\"Screenshot (1).png\" alt=\"Deskripsi Gambar\" width=\"550\" style=\"margin-left: 30px;\" />\n",
    "\n",
    "\n",
    "### Tugas Anda:\n",
    "1. **Perbaiki** kesalahan program di atas. Beberapa kesalahan yang harus diperbaiki antara lain:\n",
    "   - Kesalahan nama variabel (`angka1` seharusnya `angka_1`).\n",
    "   - Kesalahan operator pembagian (gunakan `/` untuk pembagian float, bukan `//`).\n",
    "   - Perbaiki format string pada `print()` agar hasil operasi benar-benar ditampilkan.\n",
    "   - Pastikan hasil pembagian dibulatkan dengan benar.\n",
    "\n",
    "2. Gunakan dua angka dari 3 digit terakhir NIM Anda sebagai input untuk menjalankan program.\n",
    "\n",
    "3. Program yang telah diperbaiki harus:\n",
    "   - Menampilkan hasil penjumlahan, pengurangan, perkalian, dan pembagian dari kedua angka.\n",
    "   - Menampilkan hasil pemangkatan angka pertama terhadap angka kedua.\n",
    "   - Menghitung nilai maksimum dan minimum dari kedua angka.\n",
    "   - Membulatkan hasil pembagian ke dua angka di belakang koma.\n",
    "4. Jelaskan Program yang anda perbaiki"
   ]
  },
  {
   "cell_type": "code",
   "execution_count": 2,
   "id": "7864298d-d409-4303-a4bd-c5f203aa3802",
   "metadata": {},
   "outputs": [
    {
     "name": "stdin",
     "output_type": "stream",
     "text": [
      "masukan angka pertama:  11\n",
      "masukan angka kedua:  66\n"
     ]
    },
    {
     "name": "stdout",
     "output_type": "stream",
     "text": [
      "hasil penjumlahan: 77.0\n",
      "hasil pengurangan: -55.0\n",
      "hasil perkalian: 726.0\n",
      "hasil pembagian: 0.16666666666666666\n",
      "hasil pangkat: 5.394077978276342e+68\n",
      "nilai maximum: 66.0\n",
      "nilai minimum: 11.0\n",
      "pembagian(di bulatkan 2 angka): 0.17\n"
     ]
    }
   ],
   "source": [
    "angka_1 = float(input(\"masukan angka pertama: \"))\n",
    "angka_2 = float(input(\"masukan angka kedua: \"))\n",
    "\n",
    "penjumlahan = angka_1 + angka_2 #kesalahan deklarasi\n",
    "pengurangan = angka_1 - angka_2\n",
    "perkalian = angka_1 * angka_2\n",
    "pembagian = angka_1 / angka_2 #kesalahan operator pada operator pembagian\n",
    "pangkat = angka_1 ** angka_2\n",
    "\n",
    "maximum = max(angka_1, angka_2)\n",
    "minimum = min(angka_1, angka_2)\n",
    "pembagian_rounded = round(pembagian, 2) \n",
    "\n",
    "print(f\"hasil penjumlahan: {penjumlahan}\") #kekurangan f\n",
    "print(f\"hasil pengurangan: {pengurangan}\")\n",
    "print(f\"hasil perkalian: {perkalian}\")\n",
    "print(f\"hasil pembagian: {pembagian}\")\n",
    "print(f\"hasil pangkat: {pangkat}\")\n",
    "print(f\"nilai maximum: {maximum}\")\n",
    "print(f\"nilai minimum: {minimum}\")\n",
    "print(f\"pembagian(di bulatkan 2 angka): {pembagian_rounded}\")"
   ]
  },
  {
   "cell_type": "code",
   "execution_count": 3,
   "id": "b4beb5da-51a9-47ff-a732-d6cf9247ae74",
   "metadata": {
    "id": "ea6a12c4-1360-4bfe-a05f-4098604926bc"
   },
   "outputs": [],
   "source": [
    "# Ketikan Code Disini lalu Jalankan (Run)\n",
    "nama = \"Ilham Ramadhani\"\n",
    "print(nama.upper())\n",
    "print(nama.lower())\n",
    "print(nama.title())\n",
    "print(nama.replace(\"ILHAM\", \"SKIBIDI\"))\n",
    "angka_1 = float(input(\"masukan_angka\"))\n",
    "angka_2 = float(input(\"masukan_angka\"))\n",
    "\n",
    "\n",
    "\n",
    "print(float(10))\n",
    "a = 121\n",
    "print(float(a))\n",
    "angka = input(\"masukan umur anda\")\n",
    "print = (angka)"
   ]
  },
  {
   "cell_type": "markdown",
   "id": "28e24639-72f7-4d78-8169-b805c5bee744",
   "metadata": {},
   "source": [
    "## Soal 2: Fungsi pada Data Numerik\n",
    "\n",
    "### Contoh Program yang Salah:\n",
    "<img src=\"Screenshot (2).png\" alt=\"Deskripsi Gambar\" width=\"450\" style=\"margin-left: 30px;\" />\n",
    "\n",
    "\n",
    "### Tugas Anda:\n",
    "1. **Perbaiki** kesalahan program di atas. Anda harus menginisialisasi nilai `angka1` dan `angka2` menggunakan input dari pengguna (seperti yang telah dijelaskan pada soal sebelumnya).\n",
    "2. Gunakan dua angka dari 3 digit terakhir NIM Anda sebagai input untuk menjalankan program.\n",
    "3. Gunakan fungsi bawaan Python:\n",
    "   - Gunakan `pow(angka1, angka2)` untuk menghitung hasil pemangkatan.\n",
    "   - Gunakan `abs(angka1)` untuk menghitung nilai absolut dari angka pertama.\n",
    "   - Gunakan `round(angka2, 2)` untuk membulatkan angka kedua hingga dua angka di belakang koma.\n",
    "   \n",
    "4. **Tampilkan hasilnya** dalam format yang sesuai.\n",
    "5. Jelaskan Program yang anda perbaiki\n",
    "\n",
    "### Contoh Input:\n",
    "```\n",
    "Masukkan angka pertama: -5.67\n",
    "Masukkan angka kedua: 3.14159\n",
    "```\n",
    "\n",
    "### Contoh Output:\n",
    "```\n",
    "Hasil Pangkat: -181.85835692800002\n",
    "Nilai Absolut: 5.67\n",
    "Hasil Pembulatan: 3.14\n",
    "```\n",
    "\n",
    "### Penjelasan:\n",
    "1. **Input**: Program akan meminta dua angka dari pengguna.\n",
    "2. **pow(angka1, angka2)**: Fungsi ini menghitung angka1 pangkat angka2.\n",
    "3. **abs(angka1)**: Fungsi ini menghitung nilai absolut (nilai positif) dari angka pertama.\n",
    "4. **round(angka2, 2)**: Fungsi ini membulatkan angka kedua hingga dua angka di belakang koma.\n",
    "```"
   ]
  },
  {
   "cell_type": "code",
   "execution_count": 6,
   "id": "b3f87cea-e50a-46fd-820f-bc12703db8da",
   "metadata": {
    "id": "ea6a12c4-1360-4bfe-a05f-4098604926bc"
   },
   "outputs": [
    {
     "name": "stdin",
     "output_type": "stream",
     "text": [
      "masukan angka pertama : -11\n",
      "masukan angka kedua : 6.6\n"
     ]
    },
    {
     "name": "stdout",
     "output_type": "stream",
     "text": [
      "hasil pangkat: (-2307672.029361713+7102284.213966372j)\n",
      "hasil absoult: 11.0\n",
      "hasil pembulatan: 6.6\n"
     ]
    }
   ],
   "source": [
    "# Ketikan Code Disini lalu Jalankan (Run)\n",
    "angka1 = float(input(\"masukan angka pertama :\"))\n",
    "angka2 = float(input(\"masukan angka kedua :\"))\n",
    "\n",
    "hasil_pangkat = pow(angka1, angka2)\n",
    "\n",
    "nilai_absolut = abs(angka1)\n",
    "\n",
    "pembulatan = round(angka2, 2)\n",
    "\n",
    "print(f\"hasil pangkat: {hasil_pangkat}\")\n",
    "print(f\"hasil absoult: {nilai_absolut}\")\n",
    "print(f\"hasil pembulatan: {pembulatan}\")"
   ]
  },
  {
   "cell_type": "markdown",
   "id": "04451d75-fd5c-418f-b2b3-bfe3ca35497d",
   "metadata": {},
   "source": [
    "## Soal 3: Tipe Data String dan Method String\n",
    "\n",
    "### Tugas Anda:\n",
    "Buatlah program yang:\n",
    "1. Meminta input nama lengkap dari pengguna.\n",
    "2. Mengubah nama lengkap tersebut menjadi:\n",
    "   - Huruf kapital semua (`upper()`).\n",
    "   - Huruf kecil semua (`lower()`).\n",
    "   - Huruf kapital di setiap awal kata (`title()`).\n",
    "3. Hitung berapa banyak karakter yang ada di nama lengkap pengguna (termasuk spasi) menggunakan fungsi `len()`.\n",
    "\n",
    "### Contoh Input:\n",
    "```\n",
    "Masukkan nama lengkap Anda: Budi Prasetyo\n",
    "```\n",
    "\n",
    "### Contoh Output:\n",
    "```\n",
    "Nama dalam huruf kapital: BUDI PRASETYO\n",
    "Nama dalam huruf kecil: budi prasetyo\n",
    "Nama dengan huruf kapital di setiap kata: Budi Prasetyo\n",
    "Jumlah karakter dalam nama: 12\n",
    "```\n",
    "\n",
    "### Penjelasan:\n",
    "1. **Input**: Program akan meminta pengguna untuk memasukkan nama lengkap.\n",
    "2. **Mengubah huruf kapital/kecil**:\n",
    "   - Gunakan `upper()` untuk mengubah semua huruf menjadi huruf kapital.\n",
    "   - Gunakan `lower()` untuk mengubah semua huruf menjadi huruf kecil.\n",
    "   - Gunakan `title()` untuk mengubah setiap kata menjadi huruf kapital pada huruf pertama.\n",
    "3. **Menghitung jumlah karakter**: Gunakan fungsi `len()` untuk menghitung jumlah karakter termasuk spasi.\n",
    "```"
   ]
  },
  {
   "cell_type": "code",
   "execution_count": 25,
   "id": "75357d06-3bb8-4b42-94cf-f4b2be24a792",
   "metadata": {
    "id": "ea6a12c4-1360-4bfe-a05f-4098604926bc"
   },
   "outputs": [
    {
     "name": "stdin",
     "output_type": "stream",
     "text": [
      "Nama Lengkap: ilham akbar\n"
     ]
    },
    {
     "name": "stdout",
     "output_type": "stream",
     "text": [
      " nama dalam huruf kapital: ILHAM AKBAR\n",
      " nama dalam huruf kecil: ilham akbar\n",
      " nama dengan huruf kapital di setiap kata: Ilham Akbar\n",
      " jumlah karakter dalam nama: 11\n"
     ]
    }
   ],
   "source": [
    "# Ketikan Code Disini lalu Jalankan (Run)\n",
    "nama = input(\"Nama Lengkap:\")\n",
    "\n",
    "kapital = nama.upper()\n",
    "kecil = nama.lower()\n",
    "title = nama.title()\n",
    "menghitung = len(nama)\n",
    "\n",
    "print(f\" nama dalam huruf kapital: {kapital}\")\n",
    "print(f\" nama dalam huruf kecil: {kecil}\")\n",
    "print(f\" nama dengan huruf kapital di setiap kata: {title}\")\n",
    "print(f\" jumlah karakter dalam nama: {menghitung}\")"
   ]
  },
  {
   "cell_type": "markdown",
   "id": "2b0246ff-584f-4484-b52d-18733bcde7ae",
   "metadata": {},
   "source": [
    "## Soal 4: Formatting String\n",
    "\n",
    "### Tugas Anda:\n",
    "Buatlah program yang:\n",
    "1. Meminta input nama nim dan umur dari pengguna.\n",
    "2. Menampilkan kalimat berikut menggunakan **dua metode string formatting**:\n",
    "   - \"Assalamualaikum, Hai. Nama ulun [Nama] dengan NIM [NIM]! Usia saya adalah [Umur] tahun.\"\n",
    "3. Jelaskan code anda.\n",
    "### Dua metode string formatting yang harus digunakan:\n",
    "1. **f-string**: Cara yang lebih modern dan mudah dibaca untuk memformat string.\n",
    "2. **.format()**: Cara yang lebih lama tetapi tetap sering digunakan untuk memformat string.\n",
    "\n",
    "### Contoh Input:\n",
    "```\n",
    "Masukkan nama Anda: Ahmad\n",
    "Masukkan NIM Anda: 211112123123\n",
    "Masukkan umur Anda: 21\n",
    "```\n",
    "\n",
    "### Contoh Output:\n",
    "```\n",
    "Assalamualaikum, Hai. Nama ulun Ahmad dengan NIM 211112123123! Usia saya adalah 21 tahun.  # menggunakan f-string\n",
    "Assalamualaikum, Hai. Nama ulun Ahmad dengan NIM 211112123123! Usia saya adalah 21 tahun.  # menggunakan .format()\n",
    "```\n",
    "\n",
    "### Penjelasan Jawaban:\n",
    "- **f-string**: String yang dimulai dengan `f` di depan kutip, memungkinkan kita untuk langsung menyisipkan variabel ke dalam string menggunakan kurung kurawal `{}`.\n",
    "- **.format()**: Metode `format()` menggunakan placeholder `{}` dalam string, dan variabel dimasukkan ke dalam placeholder sesuai urutan yang ditentukan dalam `format()`."
   ]
  },
  {
   "cell_type": "code",
   "execution_count": 29,
   "id": "a61ed888-46f5-4412-bffe-22824dc41f1e",
   "metadata": {
    "id": "ea6a12c4-1360-4bfe-a05f-4098604926bc"
   },
   "outputs": [
    {
     "name": "stdin",
     "output_type": "stream",
     "text": [
      "Masukan Nama Anda Ilham Ramadhani\n",
      "Masukan Nim Anda 241110244066\n",
      "Masukan Umur Anda 19\n"
     ]
    },
    {
     "name": "stdout",
     "output_type": "stream",
     "text": [
      "Assalamualaikum, hai. Nama Ulun Ilham Ramadhani Dengan NIM 241110244066 Usia Saya Adalah 19 Tahun.\n",
      "Assalamualaikum, hai. Nama Ulun Ilham Ramadhani dengan NIM 241110244066 Usia Saya Adalah 19 Tahun.\n"
     ]
    }
   ],
   "source": [
    "# Ketikan Code Disini lalu Jalankan (Run)\n",
    "nama = input(\"Masukan Nama Anda\")\n",
    "nim  = input(\"Masukan Nim Anda\")\n",
    "umur = input(\"Masukan Umur Anda\")\n",
    "print(f\"Assalamualaikum, hai. Nama Ulun {nama} Dengan NIM {nim} Usia Saya Adalah {umur} Tahun.\")\n",
    "print(\"Assalamualaikum, hai. Nama Ulun {0} dengan NIM {1} Usia Saya Adalah {2} Tahun.\". format(nama, nim, umur))"
   ]
  },
  {
   "cell_type": "markdown",
   "id": "027609a3-346c-4999-a485-772128a8bb6a",
   "metadata": {},
   "source": [
    "## Soal 5: Type Casting\n",
    "\n",
    "### Program yang Harus diperbaiki:\n",
    "<img src=\"Screenshot (3).png\" alt=\"Deskripsi Gambar\" width=\"450\" style=\"margin-left: 30px;\" />\n",
    "\n",
    "### Tugas Anda:\n",
    "Buatlah program yang:\n",
    "1. Perbaiki Program diatas.\n",
    "2. Meminta input sebuah angka dalam bentuk string dari pengguna.\n",
    "3. Menampilkan tipe data dari input sebelum diubah.\n",
    "4. Mengubah string tersebut menjadi tipe data numerik (`int` atau `float`), dan menampilkan tipe data setelah diubah.\n",
    "5. Jelaskan Program yang telah anda perbaiki!\n",
    "\n",
    "### Contoh Input:\n",
    "```\n",
    "Masukkan sebuah angka: 45.67\n",
    "```\n",
    "\n",
    "### Contoh Output:\n",
    "```\n",
    "Tipe data sebelum diubah: <class 'str'>\n",
    "Tipe data setelah diubah: <class 'float'>\n",
    "Angka setelah diubah: 45.67\n",
    "```\n",
    "\n",
    "### Penjelasan Jawaban:\n",
    "- **Input sebagai string**: Saat pengguna memasukkan angka melalui fungsi `input()`, angka tersebut dianggap sebagai string.\n",
    "- **Type Casting ke float**: String diubah menjadi tipe data `float` menggunakan `float()`.\n",
    "- **Menampilkan tipe data**: Fungsi `type()` digunakan untuk menampilkan tipe data sebelum dan setelah diubah.\n",
    "- **Output angka**: Selain menampilkan tipe datanya, angka yang sudah diubah juga ditampilkan.\n"
   ]
  },
  {
   "cell_type": "code",
   "execution_count": 34,
   "id": "ea6a12c4-1360-4bfe-a05f-4098604926bc",
   "metadata": {
    "id": "ea6a12c4-1360-4bfe-a05f-4098604926bc"
   },
   "outputs": [
    {
     "name": "stdin",
     "output_type": "stream",
     "text": [
      "Masukan Sebuah Angka:  11.66\n"
     ]
    },
    {
     "name": "stdout",
     "output_type": "stream",
     "text": [
      "tipe data sebelum di ubah: <class 'str'>\n",
      "tipe data sebelum di ubah: <class 'float'>\n",
      "angka setelah di ubah: 11.66\n"
     ]
    }
   ],
   "source": [
    "# Ketikan Code Disini lalu Jalankan (Run)\n",
    "angka_string = input(\"Masukan Sebuah Angka: \")#kesalahan tipe data variablenya yang di input ke outputnya\n",
    "print(f\"tipe data sebelum di ubah: {type(angka_string)}\")\n",
    "angka_numerik = float(angka_string)\n",
    "print(f\"tipe data sebelum di ubah: {type(angka_numerik)}\")#kekurangan fungsi f untuk forcasting nya\n",
    "print(f\"angka setelah di ubah: {angka_numerik}\")"
   ]
  },
  {
   "cell_type": "code",
   "execution_count": null,
   "id": "b54abe5c-314e-4f9a-8af8-5f3a371bd786",
   "metadata": {},
   "outputs": [],
   "source": [
    "# Tugas Mandiri (latihan membuat alur teks program)\n",
    "## Buatlah program dengan alur yang anda bikin sesuai materi diatas\n",
    "## Dimulai dari alur teks (Algoritma Informal)\n",
    "\"\"\"\n",
    "Contoh sederhana dari sebuah algoritma informal yang menjelaskan bagaimana menentukan apakah sebuah angka adalah positif, negatif, atau nol:\n",
    "\n",
    "- Mulai - Mulai proses.\n",
    "- Baca angka - Ambil sebuah angka dari pengguna.\n",
    "- Periksa angka tersebut:\n",
    "- - Jika angka itu lebih besar dari nol, cetak \"Angka positif\".\n",
    "- - Jika angka itu kurang dari nol, cetak \"Angka negatif\".\n",
    "- - Jika angka itu sama dengan nol, cetak \"Angka adalah nol\".\n",
    "- Selesai - Proses selesai.\n",
    "\n",
    "atau\n",
    "- Mulai - Mulai proses pengecekan.\n",
    "- Tanya ke diri sendiri - Apakah saya sudah mandi hari ini?\n",
    "- Evaluasi jawaban:\n",
    "- - Jika jawabannya adalah \"tidak\", maka:\n",
    "- - - Kesimpulan: Saya mungkin bau karena tidak mandi.\n",
    "- - - Tindakan: Pertimbangkan untuk mandi agar tidak bau.\n",
    "- - Jika jawabannya adalah \"ya\", maka:\n",
    "- - - Kesimpulan: Saya tidak bau karena sudah mandi.\n",
    "Selesai - Proses selesai, lanjutkan dengan aktivitas lain.\n",
    "\n",
    "\"\"\""
   ]
  },
  {
   "cell_type": "code",
   "execution_count": null,
   "id": "bb27e2e5-e129-401d-8db2-fcc3961db8b7",
   "metadata": {},
   "outputs": [],
   "source": [
    "#Algoritma Informal\n",
    "#Tipe Data String Dan Method\n",
    "\"\"\"\n",
    "- Deklarasikan Variable nama = Input(\"nama lengkap\")\n",
    "- Gunakan Method upper,lower,title,dan len\n",
    "- - Run Code Dan Inputkan Data \"ali abar\" maka :\n",
    "- - - Kesimpulan : Jika Kapital maka \"ALIL ABAR\", Jika Lower maka \"alil abar\", Jika Title maka \"Alil Abar\", Jika len maka \"7\"\n",
    "- - - proses selesai\n",
    "\"\""
   ]
  },
  {
   "cell_type": "markdown",
   "id": "3c74739a-56c7-488b-aed6-e1cdafc2894e",
   "metadata": {},
   "source": [
    "# Jelaskan  Kesimpulan dari Pertemuan kali ini Dengan Format Markdown, Min.3 Baris\n",
    "# Note: nilai plus buat yang masukkan gambar, visualisasi penjelasan, dan table penjelasan\n",
    "**Kesimpulan Dari Praktikum 3 Kali Ini Adalah** <br>\n",
    "Saya sekarang memahami penggunaan method dan tau tipe data dasar pada python sehingga bisa menggunakan beberapa fungsi atau pun method<br>\n",
    "dalam berbagai operasi di dalam pemerograman. seperti penggunaan tipe data numerik, fungsi pada data numerik, method pada string dan <br>\n",
    "materi lain lainnya. dan juga dengan soal yang di berikan kita dapat mengasa dan mencoba sehingga skill kita terbangun dan tahu. <br>\n",
    "**Note :** <br>\n",
    "<img src=\"3.png\" widht=\"500px\"/> <br>\n",
    "dengan pengamatan yang saya pelajari menggunakan formattin string kita dapat mengetahui bahawa menggunakan format ada 2 cara."
   ]
  },
  {
   "cell_type": "code",
   "execution_count": null,
   "id": "6dac00b8-d58c-479e-82de-21ee53d2a69d",
   "metadata": {},
   "outputs": [],
   "source": []
  }
 ],
 "metadata": {
  "colab": {
   "provenance": []
  },
  "kernelspec": {
   "display_name": "Python 3 (ipykernel)",
   "language": "python",
   "name": "python3"
  },
  "language_info": {
   "codemirror_mode": {
    "name": "ipython",
    "version": 3
   },
   "file_extension": ".py",
   "mimetype": "text/x-python",
   "name": "python",
   "nbconvert_exporter": "python",
   "pygments_lexer": "ipython3",
   "version": "3.12.4"
  },
  "widgets": {
   "application/vnd.jupyter.widget-state+json": {
    "state": {},
    "version_major": 2,
    "version_minor": 0
   }
  }
 },
 "nbformat": 4,
 "nbformat_minor": 5
}
