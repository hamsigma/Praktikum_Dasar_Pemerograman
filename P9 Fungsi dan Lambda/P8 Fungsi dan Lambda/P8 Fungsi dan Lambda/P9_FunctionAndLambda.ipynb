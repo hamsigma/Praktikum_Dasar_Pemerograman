{
 "cells": [
  {
   "cell_type": "markdown",
   "id": "b3450a5a-c882-48e6-8aae-8be59018aedb",
   "metadata": {
    "id": "b3450a5a-c882-48e6-8aae-8be59018aedb"
   },
   "source": [
    "# **Modul Pertemuan 10: Fungsi dan Lambda**\n",
    "\n",
    "## **Pembahasan**\n",
    "\n",
    "Pada pertemuan kali ini, kita akan membahas dua konsep penting dalam Python, yaitu fungsi dan lambda. Pemahaman terhadap kedua konsep ini akan sangat membantu dalam menyusun kode yang lebih modular, rapi, dan efisien.\n",
    "\n",
    "### **1. Fungsi**\n",
    "\n",
    "Fungsi adalah kumpulan perintah yang dirancang untuk melakukan tugas tertentu. Dalam Python, fungsi dapat didefinisikan dengan kata kunci `def`. Fungsi ini dapat memiliki parameter sebagai input untuk diproses, dan bisa mengembalikan output menggunakan `return`.\n",
    "\n",
    "Berikut adalah contoh sederhana fungsi yang menghitung luas segitiga:\n",
    "\n",
    "   <img src=\"Screenshot (1).png\" alt=\"Deskripsi Gambar\" width=\"450\" style=\"margin-left: 30px;\" />\n",
    "\n",
    "#### **Manfaat menggunakan fungsi:**\n",
    "1. **Reusabilitas Kode:** Fungsi memungkinkan kita untuk menggunakan kembali kode tanpa perlu menulis ulang.\n",
    "2. **Modularitas:** Program yang kompleks dapat dibagi menjadi beberapa fungsi yang lebih kecil dan mudah dikelola.\n",
    "\n",
    "### **2. Parameter pada Fungsi**\n",
    "\n",
    "Parameter digunakan untuk memberikan data yang akan diproses oleh fungsi. Fungsi dapat memiliki parameter opsional (default) atau wajib diisi oleh pengguna. Misalnya, berikut contoh fungsi dengan parameter default:\n",
    "\n",
    "   <img src=\"Screenshot (2).png\" alt=\"Deskripsi Gambar\" width=\"450\" style=\"margin-left: 30px;\" />\n",
    "\n",
    "Pada contoh di atas, jika nilai pi tidak diberikan, maka secara default fungsi akan menggunakan 3.14.\n",
    "\n",
    "### **3. Fungsi dengan Nilai Balik (Return Value)**\n",
    "\n",
    "Fungsi dapat mengembalikan nilai menggunakan perintah `return`. Nilai yang dikembalikan dapat digunakan oleh bagian lain dari program. Berikut contoh fungsi yang mengembalikan nilai balik:\n",
    "\n",
    "   <img src=\"Screenshot (3).png\" alt=\"Deskripsi Gambar\" width=\"450\" style=\"margin-left: 30px;\" />\n",
    "\n",
    "### **4. Fungsi Rekursif**\n",
    "\n",
    "Fungsi rekursif adalah fungsi yang memanggil dirinya sendiri di dalam tubuh fungsi tersebut. Fungsi rekursif sangat berguna untuk memecah masalah yang kompleks menjadi sub-masalah yang lebih kecil.\n",
    "\n",
    "Berikut contoh sederhana dari fungsi rekursif:\n",
    "\n",
    "   <img src=\"Screenshot (4).png\" alt=\"Deskripsi Gambar\" width=\"350\" style=\"margin-left: 30px;\" />\n",
    "   \n",
    "### **5. Fungsi Lambda**\n",
    "\n",
    "Fungsi lambda adalah fungsi anonim yang didefinisikan tanpa menggunakan nama. Fungsi ini biasanya digunakan untuk tugas-tugas sederhana yang membutuhkan satu baris kode.\n",
    "\n",
    "Contoh fungsi lambda:\n",
    "\n",
    "   <img src=\"Screenshot (5).png\" alt=\"Deskripsi Gambar\" width=\"350\" style=\"margin-left: 30px;\" />\n",
    "\n",
    "Lambda sering digunakan bersama fungsi seperti `map()` dan `filter()` untuk melakukan operasi cepat.\n",
    "\n",
    "---\n",
    "\n",
    "## **Tugas**\n",
    "\n",
    "Setelah memahami konsep-konsep di atas, selanjutnya adalah latihan soal. Pada setiap soal, kerjakan dengan benar sesuai dengan instruksi.\n",
    "**Note:** Gunakan logika pemrograman bukan cuman ngikutin gambar. Baca betul-betul apa yang di intruksikan!!\n"
   ]
  },
  {
   "attachments": {},
   "cell_type": "markdown",
   "id": "e989c82b-4c5e-4eaf-9152-4a4c9a494b65",
   "metadata": {},
   "source": [
    "### **1. Soal Fungsi**\n",
    "\n",
    "#### Soal 1\n",
    "Buatlah sebuah fungsi bernama ```volume_kubus``` yang menghitung volume sebuah kubus dengan parameter panjang sisi menggunakan ```return``` . Volume kubus dihitung dengan rumus: \\begin{equation}( V = s^3 ).\\end{equation}\n",
    "Berikut adalah **format fungsi** yang **salah**:\n",
    "\n",
    "   <img src=\"Screenshot (6).png\" alt=\"Deskripsi Gambar\" width=\"250\" style=\"margin-left: 30px;\" />\n",
    "   \n",
    "- Perbaiki lalu jelaskan apa yang salah dari **format fungsi** tersebut\n"
   ]
  },
  {
   "cell_type": "code",
   "execution_count": 23,
   "id": "b4beb5da-51a9-47ff-a732-d6cf9247ae74",
   "metadata": {
    "id": "ea6a12c4-1360-4bfe-a05f-4098604926bc"
   },
   "outputs": [
    {
     "data": {
      "text/plain": [
       "27"
      ]
     },
     "execution_count": 23,
     "metadata": {},
     "output_type": "execute_result"
    }
   ],
   "source": [
    "# Ketikan Code Disini lalu Jalankan (Run)\n",
    "\n",
    "def volume_kubus(s): #penggunaan defenisi untuk membuat fungsi kubus dan memiliki parameter (s) \n",
    "    return s ** 3 #fungsi return adalah untuk mengembalikan nilai  \n",
    "\n",
    "volume_kubus(3) #memanggil fungsi kubus secara spesifik "
   ]
  },
  {
   "attachments": {},
   "cell_type": "markdown",
   "id": "e5f438bd-f3c6-4dda-980f-21b9b9fc4125",
   "metadata": {},
   "source": [
    "#### Soal 2\n",
    "Buatlah sebuah fungsi bernama `cek_genap` yang menerima satu parameter bilangan bulat dan mengembalikan `True` jika bilangan tersebut genap, dan `False` jika ganjil.\n",
    "\n",
    "\n"
   ]
  },
  {
   "cell_type": "code",
   "execution_count": 50,
   "id": "d952ff4f-fbe5-465e-a064-b997bb5aa1a0",
   "metadata": {
    "id": "ea6a12c4-1360-4bfe-a05f-4098604926bc"
   },
   "outputs": [
    {
     "name": "stdout",
     "output_type": "stream",
     "text": [
      "False\n",
      "True\n"
     ]
    }
   ],
   "source": [
    "# Ketikan Code Disini lalu Jalankan (Run)\n",
    "\n",
    "def bilangan_genap(angka):\n",
    "    return angka % 2 == 0\n",
    "\n",
    "print(bilangan_genap(1)) #output yang menghasilkan False karena 1 adalah bilangan ganjil\n",
    "print(bilangan_genap(4)) #output yang menghasilkan True"
   ]
  },
  {
   "attachments": {},
   "cell_type": "markdown",
   "id": "cd9029d1-efb9-470a-86ab-d4398ff9bf7d",
   "metadata": {},
   "source": [
    "#### Soal 3\n",
    "Modifikasi dan perbaikilah fungsi di soal 2 menjadi fungsi lambda. Jelaskan kenapa bisa begitu!"
   ]
  },
  {
   "cell_type": "code",
   "execution_count": 51,
   "id": "b66bfaa8-ddd5-48b8-82a6-51ce2b3fc73f",
   "metadata": {
    "id": "ea6a12c4-1360-4bfe-a05f-4098604926bc"
   },
   "outputs": [
    {
     "name": "stdout",
     "output_type": "stream",
     "text": [
      "False\n",
      "True\n"
     ]
    }
   ],
   "source": [
    "# Ketikan Code Disini lalu Jalankan (Run)\n",
    "\n",
    "bilangan_genap = lambda angka: angka % 2 == 0\n",
    "#membuat fungsi (bilangan_genap) yang meiliki parameter yaitu (angka)\n",
    "#mencari bilangan genap dengan cara % 2 == 0\n",
    "\n",
    "print(bilangan_genap(1)) #Output yang menghasilkan False\n",
    "print(bilangan_genap(2))\n",
    "\n",
    "\n",
    "# Ketika menggunakan fungsi lambda kita bisa memodifikasi code hanya 1 baris, karena\n",
    "# Fungsi lambda adalah fungsi anonim yang didefinisikan tanpa menggunakan nama.\n",
    "# Fungsi ini biasanya digunakan untuk tugas-tugas sederhana yang membutuhkan satu baris kode.\n"
   ]
  },
  {
   "attachments": {},
   "cell_type": "markdown",
   "id": "b4a48e8a-56e1-46b9-8f73-254be026c712",
   "metadata": {},
   "source": [
    "#### Soal 4\n",
    "Buatlah fungsi rekursif yang menghitung faktorial dari sebuah bilangan bulat positif. Faktorial dari n dinyatakan sebagai\n",
    "\\begin{equation}\n",
    "n! = n \\times (n-1) \\times (n-2) \\times \\dots \\times 1\n",
    "\\end{equation}\n",
    "\n",
    "Berikut contoh pemanggilan fungsi:\n",
    "   \n",
    "   <img src=\"Screenshot (7).png\" alt=\"Deskripsi Gambar\" width=\"250\" style=\"margin-left: 30px;\" />\n",
    "\n",
    "- Jelaskan outputnya kenapa begitu, dari alur perhitungan sampai ke alur code\n"
   ]
  },
  {
   "cell_type": "code",
   "execution_count": 59,
   "id": "a0a08a3c-ebff-45bc-949d-c9b72eb7f9d7",
   "metadata": {
    "id": "ea6a12c4-1360-4bfe-a05f-4098604926bc"
   },
   "outputs": [
    {
     "data": {
      "text/plain": [
       "6"
      ]
     },
     "execution_count": 59,
     "metadata": {},
     "output_type": "execute_result"
    }
   ],
   "source": [
    "# Ketikan Code Disini lalu Jalankan (Run)\n",
    "\n",
    "def faktorial(n):\n",
    "    if n == 1:\n",
    "        return 1\n",
    "    else:\n",
    "        return n * faktorial(n-1)\n",
    "        \n",
    "faktorial(3)\n",
    "\n",
    "\n",
    "# alur perhitungan:\n",
    "# Faktorial dari suatu bilangan bulat positif n (ditulis sebagai n!) \n",
    "# adalah hasil perkalian semua bilangan bulat positif dari 1 hingga n. \n",
    "# Misalnya:\n",
    "# karena kita menggunakan angka 3 di faktorial\n",
    "# maka 3 x 3 x 3 x 1 = 6\n",
    "# 1! = 1\n",
    "\n",
    "# Pertama: faktorial(3)\n",
    "# n adalah 3, jadi kita masuk ke bagian else.\n",
    "# Menghitung 3 * faktorial(2).\n",
    "\n",
    "# Kedua: faktorial(2)\n",
    "# n adalah 2, jadi kita masuk ke bagian else.\n",
    "# Menghitung 2 * faktorial(1).\n",
    "\n",
    "# Ketiga: faktorial(1)\n",
    "# n adalah 1, jadi kita masuk ke bagian if.\n",
    "# Mengembalikan 1.\n",
    "\n",
    "# Jadi ketika kita memanggil faktorial sesuai angka yang di panggil,\n",
    "# proses faktorial melibatkan pemanggilan 3 fungsi / proses,\n",
    "# setiap fungsi akan di kalikan (n) dengan hasil dari fungsi yang di panggil,\n",
    "# oleh fungsi sebelumnya hingga kondisi terpenuhi.\n",
    "\n"
   ]
  },
  {
   "cell_type": "markdown",
   "id": "28e24639-72f7-4d78-8169-b805c5bee744",
   "metadata": {},
   "source": [
    "### **2. Soal Lambda**\n",
    "\n",
    "#### Soal 5\n",
    "Buatlah sebuah lambda function yang menerima dua parameter `x` dan `y`, dan mengembalikan nilai `x` pangkat `y`. Jelaskan code dan outputnya\n"
   ]
  },
  {
   "cell_type": "code",
   "execution_count": 49,
   "id": "b3f87cea-e50a-46fd-820f-bc12703db8da",
   "metadata": {
    "id": "ea6a12c4-1360-4bfe-a05f-4098604926bc"
   },
   "outputs": [
    {
     "name": "stdout",
     "output_type": "stream",
     "text": [
      "12\n",
      "144\n"
     ]
    }
   ],
   "source": [
    "# Ketikan Code Disini lalu Jalankan (Run)\n",
    "\n",
    "pangkat = lambda x, y: x ** y \n",
    "#mendefinisikan sebuah lambda function yang diberi nama pangkat.\n",
    "#lambda x, y menunjukkan bahwa fungsi ini menerima dua argumen, yaitu x dan y.\n",
    "#x ** y adalah ekspresi yang menghitung x pangkat y. Dalam Python,\n",
    "#operator ** digunakan untuk menghitung pangkat.\n",
    "\n",
    "hasil_pangkat1 = pangkat(12, 1)  \n",
    "hasil_pangkat2 = pangkat(12, 2)  \n",
    "#hasil_pangkat1 = pangkat(12, 1) memanggil fungsi pangkat dengan x = 12 dan y = 1. \n",
    "# Ini berarti kita menghitung (12^1), yang hasilnya adalah 12.\n",
    "# hasil_pangkat2 = pangkat(5, 2) memanggil fungsi pangkat dengan x = 12 dan y = 2. \n",
    "# Ini berarti kita menghitung (12^2), yang hasilnya adalah 144.\n",
    "\n",
    "print(hasil_pangkat1)  \n",
    "print(hasil_pangkat2)  "
   ]
  },
  {
   "cell_type": "markdown",
   "id": "e209067c-8f21-42d5-9a2a-8c7e753e4488",
   "metadata": {},
   "source": [
    "\n",
    "#### Soal 6\n",
    "Gunakan fungsi lambda untuk memfilter bilangan genap dari daftar berikut menggunakan `filter()`:\n",
    "\n",
    "   <img src=\"Screenshot (8).png\" alt=\"Deskripsi Gambar\" width=\"250\" style=\"margin-left: 30px;\" />\n",
    "\n",
    "jelaskan code dan output nya!\n",
    "\n",
    "---\n"
   ]
  },
  {
   "cell_type": "code",
   "execution_count": 52,
   "id": "4815cd3f-46c7-4bdd-b5c2-832718a85d39",
   "metadata": {
    "id": "ea6a12c4-1360-4bfe-a05f-4098604926bc"
   },
   "outputs": [
    {
     "name": "stdout",
     "output_type": "stream",
     "text": [
      "ini adalah bilangan genap: [2, 4, 6, 8, 10]\n"
     ]
    }
   ],
   "source": [
    "# Ketikan Code Disini lalu Jalankan (Run)\n",
    "\n",
    "angka = [1,2,3,4,5,6,7,8,9,10] #membuat list angka yang berisikan bilangan bulat 1 sampai 10\n",
    "genap = list(filter(lambda x: x % 2 ==0, angka)) \n",
    "#fungsi filter untuk  digunakan untuk menyaring elemen dari iterable \n",
    "# fungsi lambda yang menerima satu argumen x dan mengembalikan True jika x adalah bilangan genap\n",
    "#(yaitu, jika sisa pembagian x dengan 2 sama dengan 0).\n",
    "#Dengan kata lain, fungsi ini digunakan untuk memeriksa apakah suatu angka genap.\n",
    "\n",
    "print(f\"ini adalah bilangan genap: {genap}\")\n",
    "#maka hasil outputnya adalah bilangan genap yaitu (2,4,6,8,10)"
   ]
  },
  {
   "cell_type": "markdown",
   "id": "100a88f2-117e-419e-b456-844dc22bb899",
   "metadata": {},
   "source": [
    "<span style=\"color:red; font-size: 20px;\">\n",
    "<b>Tugas Mandiri </b>\n",
    "</span>\n",
    "\n",
    "- Buatlah program sederhana menggunakan studikasus yang kalian temukan sendiri meenggunakan perulangan def rekursif, dimana menggunakan perulangan tanpa menggunakan perulangan.\n",
    "- Jelaskan program."
   ]
  },
  {
   "cell_type": "code",
   "execution_count": 67,
   "id": "9b372de8-ac25-424f-ba50-a7ca18bf1871",
   "metadata": {
    "id": "ea6a12c4-1360-4bfe-a05f-4098604926bc"
   },
   "outputs": [
    {
     "name": "stdout",
     "output_type": "stream",
     "text": [
      "5\n",
      "4\n",
      "3\n",
      "2\n",
      "1\n",
      "0\n",
      "-1\n",
      "-2\n",
      "-3\n",
      "-4\n",
      "-5\n"
     ]
    }
   ],
   "source": [
    "# Ketikan Code Disini lalu Jalankan (Run)\n",
    "\n",
    "def perulangan(angka): \n",
    "    print(angka) #mencetak nilai dari angka setiap kali fungsi dipanggil.\n",
    "    if angka > -5: #if angka > -5: memeriksa apakah angka lebih besar dari -5. Jika kondisi ini benar, maka\n",
    "        angka -= 1 #angka -= 1 mengurangi nilai angka sebesar 1\n",
    "        perulangan(angka) #perulangan(angka) memanggil kembali fungsi perulangan dengan nilai angka yang telah dikurangi.\n",
    "\n",
    "perulangan(5) #perulangan(5) memanggil fungsi perulangan dengan argumen awal 5.\n",
    "\n",
    "#Perulangan def rekrusif\n",
    "#Fungsi perulangan(5) dipanggil.\n",
    "# Program menampilkan 5, lalu mengurangi nilainya menjadi 4 dan memanggil fungsi lagi.\n",
    "# Program menampilkan 4, lalu mengurangi nilainya menjadi 3 dan memanggil fungsi lagi.\n",
    "# Proses ini akan berlanjut sampai nilai angka mencapai -5.\n",
    "# Ketika angka mencapai -5, kondisi if angka > -5 akan False, sehingga fungsi tidak lagi memanggil dirinya sendiri dan proses berhenti."
   ]
  },
  {
   "cell_type": "markdown",
   "id": "515dcc32-c492-4299-a32e-8718df27961b",
   "metadata": {},
   "source": [
    "# Jelaskan  Kesimpulan dari Pertemuan kali ini Dengan Format Markdown, Min.3 Baris\n",
    "# Note: nilai plus buat yang masukkan gambar, visualisasi penjelasan, dan table penjelasan\n",
    "**Kesimpulan Dari Praktikum 9, Fungsi dan Lambda Kali Ini Adalah** <br>\n",
    "<br>\n",
    "**Fungsi**<br>\n",
    "Fungsi merupakan suatu kelompok perintah-perintah yang saling terkait untuk<br>\n",
    "melakukan suatu tugas yang spesifik. Suatu fungsi berfungsi untuk membuat<br>\n",
    "kode kita lebih pendek dan modular. Suatu program akan semakin<br>\n",
    "berkembang dan berkembang sehingga penggunaan fungsi dapat membuat<br>\n",
    "program lebih terorganisasi<br>\n",
    "<br>\n",
    "**Parameter pada Fungsi**<br>\n",
    "Suatu fungsi dapat memiliki satu atau beberapa parameter, namun parameter<br>\n",
    "juga bersifat optional artinya suatu fungsi boleh tidak memiliki parameter.<br>\n",
    "Parameter digunakan untuk memberikan data ke dalam fungsi untuk diol<br>\n",
    "<br>\n",
    "**Fungsi Lambda**<br>\n",
    "Pada Python, fungsi anonymous merupakan sebuah fungsi yang didefinisikan<br>\n",
    "tanpa nama. Pada pendefinisian fungsi pada umumnya menggunakan<br>\n",
    "keyword def, sementara fungsi anonymous didefinisikan dengan<br>\n",
    "menggunakan keyword lambda, sehingga fungsi anonymous juga disebut<br>\n",
    "dengan fungsi la VARIABEL = lambda PARAMETER: PERINTAH<br>\n",
    "<br>\n",
    "**Manfaat menggunakan fungsi:**<br>\n",
    "**Reusabilitas Kode:** Fungsi memungkinkan kita untuk menggunakan kembali kode tanpa<br> perlu menulis ulang.<br>\n",
    "**Modularitas:** Program yang kompleks dapat dibagi menjadi beberapa fungsi yang lebih<br>\n",
    "kecil dan mudah dikelola.<br>\n",
    "<br>\n",
    "**Note :** <br>\n",
    "<img src=\"1.png\" widht=\"500px\"/> <br>\n",
    "pada tugas ini sudah menggunakan fungsi def dan return untuk mengembalikan nilai<br>\n",
    "<img src=\"2.png\" widht=\"500px\"/> <br>\n",
    "pada tugas ini sudah menggunakan fungsi lambda"
   ]
  },
  {
   "cell_type": "code",
   "execution_count": null,
   "id": "ee78e414-760e-4727-b04c-0b5a66a74c77",
   "metadata": {},
   "outputs": [],
   "source": []
  }
 ],
 "metadata": {
  "colab": {
   "provenance": []
  },
  "kernelspec": {
   "display_name": "Python 3 (ipykernel)",
   "language": "python",
   "name": "python3"
  },
  "language_info": {
   "codemirror_mode": {
    "name": "ipython",
    "version": 3
   },
   "file_extension": ".py",
   "mimetype": "text/x-python",
   "name": "python",
   "nbconvert_exporter": "python",
   "pygments_lexer": "ipython3",
   "version": "3.12.4"
  },
  "widgets": {
   "application/vnd.jupyter.widget-state+json": {
    "state": {},
    "version_major": 2,
    "version_minor": 0
   }
  }
 },
 "nbformat": 4,
 "nbformat_minor": 5
}
