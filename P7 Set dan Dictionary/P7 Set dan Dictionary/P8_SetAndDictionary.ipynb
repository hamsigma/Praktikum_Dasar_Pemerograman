{
 "cells": [
  {
   "cell_type": "markdown",
   "id": "b3450a5a-c882-48e6-8aae-8be59018aedb",
   "metadata": {
    "id": "b3450a5a-c882-48e6-8aae-8be59018aedb"
   },
   "source": [
    "# Modul Soal Pertemuan 8 - **Set dan Dictionary**\n",
    "\n",
    "**Topik:** Set dan Dictionary dalam Python\n",
    "\n",
    "**Tujuan Pembelajaran:**\n",
    "- Memahami konsep dasar Set dan Dictionary dalam Python.\n",
    "- Mengetahui perbedaan antara Set, List, dan Dictionary.\n",
    "- Mampu menggunakan fungsi dan method yang tersedia untuk Set dan Dictionary.\n",
    "\n",
    "---\n",
    "\n",
    "## 1. **Pendahuluan**\n",
    "\n",
    "### **Set**\n",
    "Set adalah tipe data koleksi yang menyimpan elemen-elemen yang **unik** (tidak ada duplikat) dan tidak terurut. Set didefinisikan dengan tanda kurung kurawal `{}` atau dengan menggunakan fungsi `set()`.\n",
    "\n",
    "**Contoh:**\n",
    "```python\n",
    "# Membuat Set\n",
    "buah = {\"apel\", \"jeruk\", \"mangga\"}\n",
    "```\n",
    "\n",
    "### **Dictionary**\n",
    "Dictionary adalah tipe data koleksi yang menyimpan pasangan **kunci** dan **nilai** (key-value pairs). Setiap kunci dalam Dictionary harus unik. Dictionary didefinisikan dengan tanda kurung kurawal `{}` dengan format `kunci: nilai`.\n",
    "\n",
    "**Contoh:**\n",
    "```python\n",
    "# Membuat Dictionary\n",
    "mahasiswa = {\"nama\": \"Andi\", \"NIM\": \"123456\"}\n",
    "```\n",
    "\n",
    "---\n",
    "\n",
    "## 2. **Tabel Pembahasan Fungsi dan Method pada Set dan Dictionary**\n",
    "\n",
    "### **Set**\n",
    "\n",
    "| **No** | **Fungsi/Method**   | **Penjelasan**                                                                                   | **Contoh Kode**                                                                                                                         |\n",
    "|--------|---------------------|---------------------------------------------------------------------------------------------------|-----------------------------------------------------------------------------------------------------------------------------------------|\n",
    "| 1      | `add()`             | Menambahkan elemen baru ke dalam Set.                                                            | ```python buah = {\"apel\", \"jeruk\"} buah.add(\"mangga\")  # Output: {'apel', 'jeruk', 'mangga'}```                                       |\n",
    "| 2      | `remove()`          | Menghapus elemen dari Set. Jika elemen tidak ada, akan menghasilkan error.                       | ```python buah = {\"apel\", \"jeruk\"} buah.remove(\"jeruk\")  # Output: {'apel'}```                                                       |\n",
    "| 3      | `discard()`         | Menghapus elemen dari Set tanpa menghasilkan error jika elemen tidak ada.                       | ```python buah = {\"apel\", \"jeruk\"} buah.discard(\"mangga\")  # Output: {'apel', 'jeruk'}```                                            |\n",
    "| 4      | `pop()`             | Menghapus dan mengembalikan elemen acak dari Set.                                               | ```python buah = {\"apel\", \"jeruk\"} elemen = buah.pop()  # Output: elemen adalah 'apel' atau 'jeruk' (elemen acak)```                |\n",
    "| 5      | `clear()`           | Menghapus semua elemen dalam Set.                                                                | ```python buah = {\"apel\", \"jeruk\"} buah.clear()  # Output: set()```                                                                   |\n",
    "| 6      | `union()`           | Menggabungkan dua Set dan mengembalikan Set baru dengan elemen unik.                             | ```python set1 = {1, 2, 3} set2 = {3, 4, 5} gabungan = set1.union(set2)  # Output: {1, 2, 3, 4, 5}```                                |\n",
    "| 7      | `intersection()`     | Mengembalikan Set yang berisi elemen yang sama dari dua Set.                                    | ```python set1 = {1, 2, 3} set2 = {2, 3, 4} irisan = set1.intersection(set2)  # Output: {2, 3}```                                   |\n",
    "| 8      | `difference()`      | Mengembalikan elemen yang ada di Set pertama tetapi tidak ada di Set kedua.                     | ```python set1 = {1, 2, 3} set2 = {2, 3, 4} selisih = set1.difference(set2)  # Output: {1}```                                       |\n",
    "| 9      | `symmetric_difference()` | Mengembalikan elemen yang ada di salah satu Set tetapi tidak ada di keduanya.               | ```python set1 = {1, 2, 3} set2 = {2, 3, 4} simetris = set1.symmetric_difference(set2)  # Output: {1, 4}```                        |\n",
    "\n",
    "### **Dictionary**\n",
    "\n",
    "| **No** | **Fungsi/Method**   | **Penjelasan**                                                                                   | **Contoh Kode**                                                                                                                         |\n",
    "|--------|---------------------|---------------------------------------------------------------------------------------------------|-----------------------------------------------------------------------------------------------------------------------------------------|\n",
    "| 1      | `get()`             | Mengambil nilai dari kunci tertentu. Jika kunci tidak ada, mengembalikan `None` atau nilai default. | ```python mahasiswa = {\"nama\": \"Andi\", \"NIM\": \"123456\"} mahasiswa.get(\"nama\")  # Output: 'Andi'```                                 |\n",
    "| 2      | `keys()`            | Mengembalikan semua kunci dalam Dictionary.                                                    | ```python mahasiswa.keys()  # Output: dict_keys(['nama', 'NIM'])```                                                                    |\n",
    "| 3      | `values()`          | Mengembalikan semua nilai dalam Dictionary.                                                   | ```python mahasiswa.values()  # Output: dict_values(['Andi', '123456'])```                                                           |\n",
    "| 4      | `items()`           | Mengembalikan semua pasangan kunci-nilai dalam Dictionary.                                     | ```python mahasiswa.items()  # Output: dict_items([('nama', 'Andi'), ('NIM', '123456')])```                                         |\n",
    "| 5      | `update()`          | Memperbarui nilai kunci yang ada atau menambahkan pasangan kunci-nilai baru.                  | ```python mahasiswa.update({\"jurusan\": \"Informatika\"})  # Output: {'nama': 'Andi', 'NIM': '123456', 'jurusan': 'Informatika'}```    |\n",
    "| 6      | `pop()`             | Menghapus pasangan kunci-nilai berdasarkan kunci dan mengembalikan nilai yang dihapus.         | ```python mahasiswa.pop(\"NIM\")  # Output: '123456'```                                                                                   |\n",
    "| 7      | `clear()`           | Menghapus semua pasangan kunci-nilai dalam Dictionary.                                        | ```python mahasiswa.clear()  # Output: {}```                                                                                           |\n",
    "| 8      | `copy()`            | Membuat salinan dari Dictionary.                                                                | ```python mahasiswa_copy = mahasiswa.copy()  # Output: {'nama': 'Andi', 'NIM': '123456'}```                                          |\n",
    "\n",
    "---\n",
    "\n",
    "## 3. **Perbedaan Set dan Dictionary**\n",
    "\n",
    "| **Set**                        | **Dictionary**                   |\n",
    "|--------------------------------|----------------------------------|\n",
    "| Menyimpan elemen yang unik.    | Menyimpan pasangan kunci-nilai.  |\n",
    "| Didefinisikan dengan `{}`.     | Didefinisikan dengan `{kunci: nilai}`. |\n",
    "| Tidak terurut.                 | Terurut berdasarkan kunci.       |\n",
    "| Tidak memiliki indeks.         | Memiliki kunci sebagai indeks.   |\n",
    "\n",
    "---\n",
    "\n",
    "## 4. **Soal dan Latihan**\n",
    "**Note:** Gunakan logika pemrograman bukan cuman ngikutin gambar. Baca betul-betul apa yang di intruksikan!!\n"
   ]
  },
  {
   "cell_type": "markdown",
   "id": "9502de9f-73ef-4878-b929-0168c571a32b",
   "metadata": {},
   "source": [
    "### **Soal 1 - Operasi Dasar pada Set**\n",
    "**Contoh Kode:**\n",
    "\n",
    "<img src=\"Screenshot (1).png\" alt=\"Deskripsi Gambar\" width=\"250\" style=\"margin-left: 30px;\" />\n",
    "\n",
    "**Instruksi:**\n",
    "1. Buatlah Set berisi jenis-jenis buah.\n",
    "2. Tambahkan satu jenis buah baru menggunakan `add()`.\n",
    "3. Hapus jenis buah tertentu menggunakan `remove()`.\n",
    "4. Tampilkan isi Set setelah setiap operasi.\n",
    "\n",
    "\n",
    "\n",
    "---\n"
   ]
  },
  {
   "cell_type": "code",
   "execution_count": 3,
   "id": "b4beb5da-51a9-47ff-a732-d6cf9247ae74",
   "metadata": {
    "id": "ea6a12c4-1360-4bfe-a05f-4098604926bc"
   },
   "outputs": [
    {
     "name": "stdout",
     "output_type": "stream",
     "text": [
      "{'apel', 'durian', 'mangga', 'jambu'}\n"
     ]
    }
   ],
   "source": [
    "# Ketikan Code Disini lalu Jalankan (Run)\n",
    "buah = {\"apel\", \"jeruk\",\"durian\",\"jambu\"} #variable buah bernilai apel dan jeruk\n",
    "buah.add(\"mangga\") #fungsi add untuk menambahkan jadi buah di tambahkan elemen baru \n",
    "\n",
    "buah.remove(\"jeruk\") #fungsi remove untuk menghilangkan atau menghapus sebuah elemen pada dalam variable\n",
    "print(buah) #output"
   ]
  },
  {
   "cell_type": "markdown",
   "id": "28e24639-72f7-4d78-8169-b805c5bee744",
   "metadata": {},
   "source": [
    "### **Soal 2 - Operasi Set Lanjutan**\n",
    "**Contoh Kode:**\n",
    "\n",
    "<img src=\"Screenshot (2).png\" alt=\"Deskripsi Gambar\" width=\"350\" style=\"margin-left: 30px;\" />\n",
    "\n",
    "**Instruksi:**\n",
    "1. Buat dua Set berisi angka.\n",
    "2. Temukan gabungan dari kedua Set menggunakan `union()`.\n",
    "3. Temukan irisan dari kedua Set menggunakan `intersection()`.\n",
    "4. Temukan selisih antara kedua Set menggunakan `difference()`.\n",
    "\n",
    "\n",
    "\n",
    "---\n"
   ]
  },
  {
   "cell_type": "code",
   "execution_count": 4,
   "id": "b3f87cea-e50a-46fd-820f-bc12703db8da",
   "metadata": {
    "id": "ea6a12c4-1360-4bfe-a05f-4098604926bc"
   },
   "outputs": [
    {
     "name": "stdout",
     "output_type": "stream",
     "text": [
      "{1, 2, 3, 4, 5}\n",
      "{3}\n",
      "{1, 2}\n"
     ]
    }
   ],
   "source": [
    "# Ketikan Code Disini lalu Jalankan (Run)\n",
    "set1 = {1,2,3} #ada 2 variable set yang berisikan nilai angka (int)\n",
    "set2 = {3,4,5}\n",
    "\n",
    "gabungan = set1.union(set2) #fungsi union adalah menggabungkan set 1 dan 2\n",
    "print(gabungan)\n",
    "\n",
    "irisan = set1.intersection(set2) #fungsi intersection adalah mencari irisan dari variable 1 dan 2 yaitu angka 3\n",
    "print(irisan)\n",
    "\n",
    "selisih = set1.difference(set2) #fungsi difference adalah mencari seleisih yang ada di dalam variable\n",
    "print(selisih)"
   ]
  },
  {
   "cell_type": "markdown",
   "id": "04451d75-fd5c-418f-b2b3-bfe3ca35497d",
   "metadata": {},
   "source": [
    "\n",
    "### **Soal 3 - Operasi Dasar pada Dictionary**\n",
    "\n",
    "**Contoh Kode:**\n",
    "\n",
    "<img src=\"Screenshot (3).png\" alt=\"Deskripsi Gambar\" width=\"550\" style=\"margin-left: 30px;\" />\n",
    "\n",
    "**Instruksi:**\n",
    "1. Buatlah Dictionary berisi informasi mahasiswa (nama, NIM, jurusan).\n",
    "2. Tampilkan nilai berdasarkan kunci tertentu menggunakan `get()`.\n",
    "3. Tambahkan informasi baru ke Dictionary menggunakan `update()`.\n",
    "4. Hapus informasi menggunakan `pop()`.\n",
    "\n",
    "\n",
    "\n",
    "---\n"
   ]
  },
  {
   "cell_type": "code",
   "execution_count": 5,
   "id": "75357d06-3bb8-4b42-94cf-f4b2be24a792",
   "metadata": {
    "id": "ea6a12c4-1360-4bfe-a05f-4098604926bc"
   },
   "outputs": [
    {
     "name": "stdout",
     "output_type": "stream",
     "text": [
      "Ilham Ramadhani\n",
      "{'nama': 'Ilham Ramadhani', 'NIM': '2411102441066', 'jurusan': 'Informatika', 'alamat': 'Samarinda'}\n",
      "{'nama': 'Ilham Ramadhani', 'jurusan': 'Informatika', 'alamat': 'Samarinda'}\n"
     ]
    }
   ],
   "source": [
    "# Ketikan Code Disini lalu Jalankan (Run)\n",
    "mahasiswa = {\"nama\": \"Ilham Ramadhani\",  #variabel mahasiswa menggunakan dictionary yang berisikan nama nim dan jurusan\n",
    "             \"NIM\": \"2411102441066\", \n",
    "             \"jurusan\": \"Informatika\"}\n",
    "\n",
    "print(mahasiswa.get(\"nama\")) #fungsi pada get adalah menggambil keys yang pada dalam dictionary\n",
    "\n",
    "mahasiswa.update({\"alamat\": \"Samarinda\"}) #fungsi update adalah menambahkan elemen baru ke dalam dictionary\n",
    "print(mahasiswa)\n",
    "\n",
    "mahasiswa.pop(\"NIM\") #fungsi pop adalah menghapus dan mengembalikan elemen pada dictionary\n",
    "print(mahasiswa)"
   ]
  },
  {
   "cell_type": "markdown",
   "id": "2b0246ff-584f-4484-b52d-18733bcde7ae",
   "metadata": {},
   "source": [
    "\n",
    "### **Soal 4 - Menggunakan Fungsi pada Dictionary**\n",
    "\n",
    "**Contoh Kode:**\n",
    "\n",
    "<img src=\"Screenshot (4).png\" alt=\"Deskripsi Gambar\" width=\"250\" style=\"margin-left: 30px;\" />\n",
    "\n",
    "**Instruksi:**\n",
    "1. Buatlah Dictionary berisi beberapa mahasiswa dengan nama sebagai kunci dan nilai sebagai NIM.\n",
    "2. Tampilkan semua kunci, semua nilai, dan semua pasangan kunci-nilai menggunakan `keys()`, `values()`, dan `items()`.\n",
    "\n",
    "\n",
    "\n",
    "---\n"
   ]
  },
  {
   "cell_type": "code",
   "execution_count": 6,
   "id": "a61ed888-46f5-4412-bffe-22824dc41f1e",
   "metadata": {
    "id": "ea6a12c4-1360-4bfe-a05f-4098604926bc"
   },
   "outputs": [
    {
     "name": "stdout",
     "output_type": "stream",
     "text": [
      "dict_keys(['Andi', 'Budi', 'Citra'])\n",
      "dict_values(['123456', '12347', '123458'])\n",
      "dict_items([('Andi', '123456'), ('Budi', '12347'), ('Citra', '123458')])\n"
     ]
    }
   ],
   "source": [
    "# Ketikan Code Disini lalu Jalankan (Run)\n",
    "mahasiswa = {\n",
    "    \"Andi\": \"123456\",\n",
    "    \"Budi\" : \"12347\",\n",
    "    \"Citra\" : \"123458\"\n",
    "}\n",
    "\n",
    "print(mahasiswa.keys()) #fungsi keys menampilkan semua kunci dalam dictionary\n",
    "print(mahasiswa.values()) #fungsi values menampilkan semua nilai dalam dictionary\n",
    "print(mahasiswa.items()) #fungsi items mengembalikan semua pasangan kunci pada dictionary\n",
    "\n",
    "\n",
    "#note fungsi adalah blok kode yang menjalankan tugas tertentu,\n",
    "#sementara elemen adalah item dalam sebuah struktur data yang menyimpan informasi atau data."
   ]
  },
  {
   "cell_type": "markdown",
   "id": "79c0a401-ea11-4aa7-918b-ce64613be986",
   "metadata": {},
   "source": [
    "<span style=\"color:red; font-size: 20px;\">\n",
    "<b>Tugas Mandiri </b>\n",
    "</span>\n",
    "\n",
    "- Buatlah aplikasi sederhana untuk mengelola daftar kontak menggunakan Dictionary, yang di mana NIM mahasiswa adalah key dan Nama Mahasiswa adalah value.\n",
    "- Pastikan Anda dapat menambahkan, menghapus, dan menampilkan kontak dengan menggunakan method-method yang telah dipelajari."
   ]
  },
  {
   "cell_type": "code",
   "execution_count": null,
   "id": "6aad91c5-02b6-445c-9030-466ff345a2cd",
   "metadata": {},
   "outputs": [
    {
     "name": "stdout",
     "output_type": "stream",
     "text": [
      "===Aplikasi Menyimpan Kontak Mahasiswa===\n",
      "1. Tambah Kontak\n",
      "2. Tampilkan Semua Kontak\n",
      "3. Perbarui Kontak\n",
      "4. Hapus Kontak\n",
      "5. Keluar\n"
     ]
    }
   ],
   "source": [
    "# Ketikan Code Disini lalu Jalankan (Run)\n",
    "# Program Dictionary untuk menyimpan kontak mahasiswa\n",
    "\n",
    "kontak_mahasiswa = {}\n",
    "\n",
    "while True:\n",
    "    print(\"===Aplikasi Menyimpan Kontak Mahasiswa===\")\n",
    "    print(\"1. Tambah Kontak\")\n",
    "    print(\"2. Tampilkan Semua Kontak\")\n",
    "    print(\"3. Perbarui Kontak\")\n",
    "    print(\"4. Hapus Kontak\")\n",
    "    print(\"5. Keluar\")\n",
    "\n",
    "    pilihan = input(\"Pilih menu (1-5): \")\n",
    "\n",
    "    # Tambah Kontak\n",
    "    if pilihan == \"1\":\n",
    "        nim = input(\"Masukkan NIM: \")\n",
    "        nama = input(\"Masukkan Nama: \")\n",
    "        if nim in kontak_mahasiswa:\n",
    "            print(\"Kontak dengan NIM tersebut sudah ada.\")\n",
    "        else:\n",
    "            kontak_mahasiswa[nim] = nama\n",
    "            print(\"Kontak berhasil ditambahkan.\")\n",
    "            \n",
    "    # Tampilkan Semua Kontak\n",
    "    elif pilihan == \"2\":\n",
    "        if kontak_mahasiswa:\n",
    "            print(\"Daftar Kontak Mahasiswa:\")\n",
    "            for nim, nama in kontak_mahasiswa.items():\n",
    "                print(f\"NIM: {nim}, Nama: {nama}\")\n",
    "        else:\n",
    "            print(\"Belum ada kontak yang tersimpan.\")\n",
    "\n",
    "    # Perbarui Kontak\n",
    "    elif pilihan == \"3\":\n",
    "        nim = input(\"Masukkan NIM kontak yang ingin diperbarui: \")\n",
    "        if nim in kontak_mahasiswa:\n",
    "            nama_baru = input(\"Masukkan Nama baru: \")\n",
    "            kontak_mahasiswa[nim] = nama_baru\n",
    "            print(\"Kontak berhasil diperbarui.\")\n",
    "        else:\n",
    "            print(\"Kontak dengan NIM tersebut tidak ditemukan.\")\n",
    "\n",
    "    # Hapus Kontak\n",
    "    elif pilihan == \"4\":\n",
    "        nim = input(\"Masukkan NIM kontak yang ingin dihapus: \")\n",
    "        if nim in kontak_mahasiswa:\n",
    "            kontak_mahasiswa.pop[nim]\n",
    "            print(\"Kontak berhasil dihapus.\")\n",
    "        else:\n",
    "            print(\"Kontak dengan NIM tersebut tidak ditemukan.\")\n",
    "\n",
    "    # Keluar dari aplikasi\n",
    "    elif pilihan == \"5\":\n",
    "        print(\"===Keluar dari aplikasi===\")\n",
    "        break\n",
    "\n",
    "    else:\n",
    "        print(\"Pilihan tidak valid. Silakan pilih antara 1-5.\")\n",
    "        \n",
    "# Dictionary kontak_mahasiswa digunakan untuk menyimpan kontak mahasiswa dengan NIM sebagai key dan nama sebagai value.\n",
    "# Setiap operasi CRUD (tambah, tampilkan, perbarui, hapus) dijalankan langsung di dalam loop utama, tanpa menggunakan fungsi.\n",
    "# Kontrol Pilihan Menu menggunakan if-elif untuk mengeksekusi setiap opsi berdasarkan input pengguna."
   ]
  },
  {
   "cell_type": "markdown",
   "id": "0c9bf291-b3f3-4db1-984a-4081ece8ae04",
   "metadata": {},
   "source": [
    "# Jelaskan Kesimpulan dari Pertemuan kali ini Dengan Format Markdown, Min.3 Baris\n",
    "# Note: nilai plus buat yang masukkan gambar, visualisasi penjelasan, dan table penjelasan\n",
    "**Kesimpulan Dari Praktikum 8, Set Dan Dictionary Kali Ini Adalah** <br>\n",
    "Set adalah struktur data di Python yang digunakan untuk menyimpan kumpulan elemen unik tanpa urutan tertentu. <br>\n",
    "Set didefinisikan dengan tanda kurung kurawal `{}` atau dengan menggunakan fungsi `set()`. <br>\n",
    "<br>\n",
    "Dictionary adalah tipe data koleksi yang menyimpan pasangan **kunci** dan **nilai**. Setiap kunci dalam Dictionary harus unik. <br> \n",
    "Dictionary didefinisikan dengan tanda kurung kurawal `{}` dengan format `kunci: nilai`. <br>\n",
    "Walaupun set dan dictionary memeiliki kesamaan pada defenisi yaitu menggunakan kurung kurawal `{}` tetapi memiliki perbedaan<br>\n",
    " **Perbedaan Set dan Dictionary**\n",
    "\n",
    "| **Set**                        | **Dictionary**                   |\n",
    "|--------------------------------|----------------------------------|\n",
    "| Menyimpan elemen yang unik.    | Menyimpan pasangan kunci-nilai.  |\n",
    "| Didefinisikan dengan `{}`.     | Didefinisikan dengan `{kunci: nilai}`. |\n",
    "| Tidak terurut.                 | Terurut berdasarkan kunci.       |\n",
    "| Tidak memiliki indeks.         | Memiliki kunci sebagai indeks.   |\n",
    "<br>\n",
    "**Note :** <br>\n",
    "<img src=\"1.png\" widht=\"500px\"/> <br>\n",
    "sesuai dengan penjelasan di atas Set digunakan untuk menyimpan kumpulan elemen yang unik tanpa urutan tertentu<br>\n",
    "ada beberapa metode pada set yang banyak di gunakan untuk menggabungkan menghapus dan metod lainnya.\n",
    "<img src=\"2.png\" widht=\"500px\"/> <br>\n",
    "sedangkan dictionary adalah tipe data koleksi yang menyimpan pasanagan yaitu keys dan value seperti gambar di atas <br>\n",
    "\n",
    "\n",
    "\n",
    "\n"
   ]
  },
  {
   "cell_type": "markdown",
   "id": "326b1bac-8e20-4e4a-a385-a253f9f0e4eb",
   "metadata": {},
   "source": []
  }
 ],
 "metadata": {
  "colab": {
   "provenance": []
  },
  "kernelspec": {
   "display_name": "Python 3 (ipykernel)",
   "language": "python",
   "name": "python3"
  },
  "language_info": {
   "codemirror_mode": {
    "name": "ipython",
    "version": 3
   },
   "file_extension": ".py",
   "mimetype": "text/x-python",
   "name": "python",
   "nbconvert_exporter": "python",
   "pygments_lexer": "ipython3",
   "version": "3.12.4"
  },
  "widgets": {
   "application/vnd.jupyter.widget-state+json": {
    "state": {},
    "version_major": 2,
    "version_minor": 0
   }
  }
 },
 "nbformat": 4,
 "nbformat_minor": 5
}
