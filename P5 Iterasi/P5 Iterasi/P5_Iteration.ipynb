{
 "cells": [
  {
   "cell_type": "markdown",
   "id": "b3450a5a-c882-48e6-8aae-8be59018aedb",
   "metadata": {
    "id": "b3450a5a-c882-48e6-8aae-8be59018aedb"
   },
   "source": [
    "\n",
    "# Praktikum 5: Iterasi\n",
    "\n",
    "## Tujuan Pembelajaran\n",
    "- Memahami dan mengimplementasikan jenis-jenis iterasi/perulangan (for, while) dalam Python.\n",
    "- Menggunakan perulangan untuk menyelesaikan berbagai kasus pemrograman.\n",
    "\n",
    "## Pokok Bahasan\n",
    "- Perulangan for\n",
    "- Perulangan while\n",
    "- Penggunaan `break` dan `continue` dalam perulangan\n",
    "\n",
    "Berikut ini adalah beberapa percobaan dan latihan yang bertujuan untuk memahami konsep iterasi dalam Python.\n"
   ]
  },
  {
   "attachments": {},
   "cell_type": "markdown",
   "id": "e989c82b-4c5e-4eaf-9152-4a4c9a494b65",
   "metadata": {},
   "source": [
    "\n",
    "### Percobaan 5.1: Perulangan For\n",
    "\n",
    "Tabel di bawah ini menunjukkan skenario perulangan menggunakan perintah `for`. Buatlah program berdasarkan tabel ini.\n",
    "\n",
    "| Kondisi Perulangan                     | Perintah                                                   |\n",
    "|----------------------------------------|------------------------------------------------------------|\n",
    "| Menampilkan angka 1 sampai 10          | `for i in range(1, 11): print(i)`                          |\n",
    "| Menampilkan bilangan genap 0 sampai 10 | `for i in range(0, 11, 2): print(i)`                       |\n",
    "| Menampilkan setiap karakter dalam \"Python\" | `for char in \"Python\": print(char)`                       |\n",
    "\n",
    "#### Soal:\n",
    "1. Implementasikan program dari setiap skenario pada tabel di atas.\n",
    "2. Uji program dengan output yang benar.\n",
    "\n",
    "<img src=\"Screenshot (1).png\" alt=\"Deskripsi Gambar\" width=\"350\" style=\"margin-left: 30px;\" />\n"
   ]
  },
  {
   "cell_type": "code",
   "execution_count": 7,
   "id": "b4beb5da-51a9-47ff-a732-d6cf9247ae74",
   "metadata": {
    "id": "ea6a12c4-1360-4bfe-a05f-4098604926bc"
   },
   "outputs": [
    {
     "name": "stdout",
     "output_type": "stream",
     "text": [
      "1\n",
      "2\n",
      "3\n",
      "4\n",
      "5\n",
      "6\n",
      "7\n",
      "8\n",
      "9\n",
      "10\n",
      "\n",
      "=================\n",
      "\n",
      "0\n",
      "2\n",
      "4\n",
      "6\n",
      "8\n",
      "10\n",
      "\n",
      "=================\n",
      "\n",
      "p\n",
      "y\n",
      "t\n",
      "h\n",
      "o\n",
      "n\n",
      "\n",
      "=================\n",
      "\n",
      "0123456789100246810python\n",
      "=================\n",
      "\n",
      "index0,I\n",
      "index1,l\n",
      "index2,h\n",
      "index3,a\n",
      "index4,m\n",
      "index5, \n",
      "index6,R\n",
      "index7,a\n",
      "index8,m\n",
      "index9,a\n",
      "index10,d\n",
      "index11,h\n",
      "index12,a\n",
      "index13,n\n",
      "index14,i\n"
     ]
    }
   ],
   "source": [
    "# Ketikan Code Disini lalu Jalankan (Run)\n",
    "for i in range(1, 11):\n",
    "    print(i)\n",
    "print(\"\\n=================\\n\")\n",
    "\n",
    "for i in range(0, 11, 2):\n",
    "    print(i)\n",
    "print(\"\\n=================\\n\")  \n",
    "\n",
    "for char in \"python\":\n",
    "    print(char)\n",
    "print(\"\\n=================\\n\")\n",
    "\n",
    "for i in range(0, 11):\n",
    "    print(i, end=\"\")\n",
    "for i in range(0, 11, 2):\n",
    "    print(i, end=\"\")\n",
    "for char in \"python\":\n",
    "    print(char, end=\"\")\n",
    "print(\"\\n=================\\n\")\n",
    "\n",
    "a = \"Ilham Ramadhani\"\n",
    "for i in range (len(a)):\n",
    "    print(f\"index{i},{a[i]}\")"
   ]
  },
  {
   "cell_type": "markdown",
   "id": "28e24639-72f7-4d78-8169-b805c5bee744",
   "metadata": {},
   "source": [
    "\n",
    "### Percobaan 5.2: Perulangan While\n",
    "\n",
    "Tabel di bawah ini menunjukkan contoh penggunaan perulangan `while` dalam berbagai skenario.\n",
    "\n",
    "| Kondisi Perulangan                      | Perintah                                                      |\n",
    "|-----------------------------------------|---------------------------------------------------------------|\n",
    "| Menampilkan angka 1 sampai 5            | `i = 1 while i <= 5: print(i) i += 1`                         |\n",
    "| Menampilkan bilangan ganjil 1 sampai 19 | `i = 1 while i < 20: if i % 2 != 0: print(i) i += 1`          |\n",
    "| Berhenti ketika angka mencapai 10       | `i = 0 while True: if i == 10: break print(i) i += 1`         |\n",
    "\n",
    "#### Soal:\n",
    "1. Implementasikan program dari setiap skenario pada tabel di atas.\n",
    "2. Uji program dengan output yang benar.\n",
    "\n",
    "<img src=\"Screenshot (2).png\" alt=\"Deskripsi Gambar\" width=\"350\" style=\"margin-left: 30px;\" />"
   ]
  },
  {
   "cell_type": "code",
   "execution_count": 4,
   "id": "b3f87cea-e50a-46fd-820f-bc12703db8da",
   "metadata": {
    "id": "ea6a12c4-1360-4bfe-a05f-4098604926bc"
   },
   "outputs": [
    {
     "name": "stdout",
     "output_type": "stream",
     "text": [
      "1\n",
      "2\n",
      "3\n",
      "4\n",
      "5\n",
      "Program selesai\n",
      "1\n",
      "3\n",
      "5\n",
      "7\n",
      "9\n",
      "11\n",
      "13\n",
      "15\n",
      "17\n",
      "19\n",
      "Program selesai\n",
      "0\n",
      "1\n",
      "2\n",
      "3\n",
      "4\n",
      "5\n",
      "6\n",
      "7\n",
      "8\n",
      "9\n",
      "Hentikan Perulangan\n"
     ]
    }
   ],
   "source": [
    "# Ketikan Code Disini lalu Jalankan (Run)\n",
    "i = 1 \n",
    "while i <= 5:\n",
    "    print(i)\n",
    "    i += 1 #Assignment di gunakan untuk menambahkan i + 1 (+=)\n",
    "print(\"Program selesai 1\")\n",
    "\n",
    "i = 1 \n",
    "while i < 20:\n",
    "    if i % 2 != 0:\n",
    "        print(i)\n",
    "    i += 1\n",
    "print(\"Program selesai 2\")\n",
    "\n",
    "i = 0 \n",
    "while True:\n",
    "    if i == 10:\n",
    "        print(\"Hentikan Perulangan\")\n",
    "        break\n",
    "    print(i)\n",
    "    i += 1\n",
    "\n"
   ]
  },
  {
   "cell_type": "markdown",
   "id": "04451d75-fd5c-418f-b2b3-bfe3ca35497d",
   "metadata": {},
   "source": [
    "\n",
    "### Percobaan 5.3: Penggunaan `break` dan `continue`\n",
    "\n",
    "Tabel di bawah ini memberikan skenario bagaimana `break` dan `continue` digunakan dalam perulangan.\n",
    "\n",
    "| Kondisi Perulangan                                        | Perintah                                                      |\n",
    "|-----------------------------------------------------------|---------------------------------------------------------------|\n",
    "| Berhenti ketika angka habis dibagi 3 dan 7                 | `for i in range(1, 100): if i % 3 == 0 and i % 7 == 0: break print(i)` |\n",
    "| Menampilkan hanya bilangan genap dari 1 sampai 10 (skip ganjil) | `for i in range(1, 11): if i % 2 != 0: continue print(i)` |\n",
    "\n",
    "#### Soal:\n",
    "1. Implementasikan program berdasarkan tabel di atas.\n",
    "2. Jelaskan peran `break` dan `continue` dalam program yang Anda buat.\n",
    "\n",
    "<img src=\"Screenshot (3).png\" alt=\"Deskripsi Gambar\" width=\"350\" style=\"margin-left: 30px;\" />"
   ]
  },
  {
   "cell_type": "code",
   "execution_count": 23,
   "id": "75357d06-3bb8-4b42-94cf-f4b2be24a792",
   "metadata": {
    "id": "ea6a12c4-1360-4bfe-a05f-4098604926bc"
   },
   "outputs": [
    {
     "name": "stdout",
     "output_type": "stream",
     "text": [
      "1\n",
      "2\n",
      "3\n",
      "4\n",
      "5\n",
      "6\n",
      "7\n",
      "8\n",
      "9\n",
      "10\n",
      "11\n",
      "12\n",
      "13\n",
      "14\n",
      "15\n",
      "16\n",
      "17\n",
      "18\n",
      "19\n",
      "20\n",
      "_______Program 1______\n",
      "Bilangan Genap: 2\n",
      "Bilangan Genap: 4\n",
      "Bilangan Genap: 6\n",
      "Bilangan Genap: 8\n",
      "Bilangan Genap: 10\n",
      "_______Program 2______\n",
      "Bilangan Ganjil: 1\n",
      "Bilangan Ganjil: 3\n",
      "Bilangan Ganjil: 5\n",
      "Bilangan Ganjil: 7\n",
      "Bilangan Ganjil: 9\n",
      "___________Untuk mencari bilangan ganjil_________\n"
     ]
    }
   ],
   "source": [
    "# Ketikan Code Disini lalu Jalankan (Run)\n",
    "for i in range(1, 100):\n",
    "    if i % 3 == 0 and i % 7 == 0: # jika i modulo 3 = 0 DAN i modulo 7 = 0 / habis di bagi maka,\n",
    "        break # maka break akan memberhentikan program ketika 3 dan 7 di bagi habis(modulo) / kondisi sudah terpenuhi dari (DAN)\n",
    "    print(i)\n",
    "print(\"_______Program 1______\")\n",
    "\n",
    "for i in range(1, 11):\n",
    "    if i % 2 != 0: # jika i modulo tidak sama dengan 0 maka fungsi continue,\n",
    "        continue # menampilkan hanya bilangan genap dari 1 - 10 jika ada bilangan ganjil continue melakukan skip / melewati bilangan ganjil\n",
    "    print(f\"Bilangan Genap: {i}\")\n",
    "print(\"_______Program 2______\")\n",
    "\n",
    "for i in range(1, 11):\n",
    "    if i % 2 != 1:\n",
    "        continue \n",
    "    print(f\"Bilangan Ganjil: {i}\")\n",
    "print(\"___________Untuk mencari bilangan ganjil_________\")\n",
    "\n",
    "#Break ketika ada data yang sudah terpenuhi maka program akan langsung berhenti\n",
    "#continue akan di jalankan terus menerus tapi ketika ada data yang terpenuhi maka data akan terus berlanjut / di skip"
   ]
  },
  {
   "cell_type": "markdown",
   "id": "2b0246ff-584f-4484-b52d-18733bcde7ae",
   "metadata": {},
   "source": [
    "\n",
    "### Percobaan 5.4: Perulangan Bersarang (Nested Loops)\n",
    "\n",
    "Buatlah program yang mencetak tabel perkalian (multiplication table) 1 sampai 5 menggunakan perulangan bersarang.\n",
    "\n",
    "#### Soal:\n",
    "1. Gunakan perulangan bersarang untuk mencetak tabel perkalian.\n",
    "2. Jelaskan bagaimana cara kerja perulangan bersarang dalam program ini.\n",
    "\n",
    "<img src=\"Screenshot (4).png\" alt=\"Deskripsi Gambar\" width=\"450\" style=\"margin-left: 30px;\" />"
   ]
  },
  {
   "cell_type": "code",
   "execution_count": 28,
   "id": "a61ed888-46f5-4412-bffe-22824dc41f1e",
   "metadata": {
    "id": "ea6a12c4-1360-4bfe-a05f-4098604926bc"
   },
   "outputs": [
    {
     "name": "stdout",
     "output_type": "stream",
     "text": [
      "1 2 3 4 5 \n",
      "2 4 6 8 10 \n",
      "3 6 9 12 15 \n",
      "4 8 12 16 20 \n",
      "5 10 15 20 25 \n"
     ]
    },
    {
     "data": {
      "text/plain": [
       "'\\n'"
      ]
     },
     "execution_count": 28,
     "metadata": {},
     "output_type": "execute_result"
    }
   ],
   "source": [
    "# Ketikan Code Disini lalu Jalankan (Run)\n",
    "for i in range(1, 6):\n",
    "    for j in range(1, 6):\n",
    "        print(i*j, end=\" \")\n",
    "    print()\n",
    "\n",
    "\"\"\"\n",
    "Jadi for i dan for j memiliki nilai dan range yang sama misalkan kita mempunyai nilai X,\n",
    "X i (1,2,3,4,5)\n",
    "X j (1,2,3,4,5)\n",
    "dan sedangkan perhitungan ada di identasi / proses di bagian X j, jadi\n",
    "rumus nya akan di ambil dari nilai i dan j dan akan di kalikan dengan perulangan (i*j) : jadi X i = 1 x (Xj1,Xj2,Xj3,Xj4,Xj5) = dengan perhtiungan \n",
    "Xj1  = 1x1,1x2,1x3,1x4,1x5 = 1,2,3,4,5\n",
    "Xj2  = 2x1,2x2,2x3,2x4,2x5 = 2,4,6,8\n",
    "Xj3  = 3x1,3x2,3x3,3x4,3x5 = 3,6,9,12,15\n",
    "Xj4  = 4x1,4x2,4x3,4x4,4x5 = 4,8,12,16,25\n",
    "Xj5  = 5x1,5x2,5x3,5x4,5x5 = 5,10,15,20,20\n",
    "jika operasi sudah selesai makan output akan keluar \n",
    "\"\"\""
   ]
  },
  {
   "cell_type": "markdown",
   "id": "027609a3-346c-4999-a485-772128a8bb6a",
   "metadata": {},
   "source": [
    "\n",
    "### Percobaan 5.5: Perulangan dengan Input Pengguna\n",
    "\n",
    "Buatlah program yang meminta pengguna untuk memasukkan bilangan bulat `n` dan menampilkan bilangan genap dari 1 sampai `n` menggunakan perulangan `for`.\n",
    "\n",
    "#### Soal:\n",
    "1. Gunakan input dari pengguna sebagai batasan perulangan.\n",
    "2. Jelaskan bagaimana program bekerja berdasarkan input pengguna.\n",
    "\n",
    "<img src=\"Screenshot (5).png\" alt=\"Deskripsi Gambar\" width=\"450\" style=\"margin-left: 30px;\" />\n"
   ]
  },
  {
   "cell_type": "code",
   "execution_count": 33,
   "id": "ea6a12c4-1360-4bfe-a05f-4098604926bc",
   "metadata": {
    "id": "ea6a12c4-1360-4bfe-a05f-4098604926bc"
   },
   "outputs": [
    {
     "name": "stdin",
     "output_type": "stream",
     "text": [
      "Masukan Bilangan Bulat:  20\n"
     ]
    },
    {
     "name": "stdout",
     "output_type": "stream",
     "text": [
      "2\n",
      "4\n",
      "6\n",
      "8\n",
      "10\n",
      "12\n",
      "14\n",
      "16\n",
      "18\n",
      "20\n"
     ]
    },
    {
     "data": {
      "text/plain": [
       "'\\nJadi ketika saya memasukan inputan\\n'"
      ]
     },
     "execution_count": 33,
     "metadata": {},
     "output_type": "execute_result"
    }
   ],
   "source": [
    "# Ketikan Code Disini lalu Jalankan (Run)\n",
    "n = int(input(\"Masukan Bilangan Bulat: \")) # Input masukan bilangan yang di inginkan\n",
    "\n",
    "for i in range(1, n+1): # proses untuk mencari dari bilangan genap dari 1 sampai n dengan menggunakan perulangan \n",
    "    if i % 2 == 0: # cara mencari bilangan genap\n",
    "        print(i)\n",
    "\"\"\"\n",
    "Jadi ketika saya memasukan inputan bilangan bulat 20 maka proses programnya akan melakukan proses pencarian bilangan \n",
    "genap di mulai dari angka 2 hingga 20.\n",
    "\"\"\"\n",
    "\n",
    "#Note (for : variable/index in range(mulai,akhir,kelipatan))"
   ]
  },
  {
   "cell_type": "markdown",
   "id": "64898842-5af6-4a9b-9b53-4d0b1c697e30",
   "metadata": {},
   "source": [
    "\n",
    "### Percobaan 5.6: Perulangan While dengan Kondisi Spesifik\n",
    "\n",
    "Buatlah program yang terus meminta input bilangan bulat dari pengguna dan hanya berhenti jika pengguna memasukkan angka yang merupakan kelipatan dari 5.\n",
    "\n",
    "#### Soal:\n",
    "1. Gunakan perulangan while untuk terus meminta input pengguna.\n",
    "2. Jelaskan bagaimana kondisi dalam while loop mengontrol kapan perulangan berhenti.\n",
    "\n",
    "<img src=\"Screenshot (6).png\" alt=\"Deskripsi Gambar\" width=\"450\" style=\"margin-left: 30px;\" />\n"
   ]
  },
  {
   "cell_type": "code",
   "execution_count": 37,
   "id": "a9c46ecf-3aef-48a8-9a3e-fce71f2da399",
   "metadata": {
    "id": "ea6a12c4-1360-4bfe-a05f-4098604926bc"
   },
   "outputs": [
    {
     "name": "stdin",
     "output_type": "stream",
     "text": [
      "Masukan bilangan bulat:  1\n"
     ]
    },
    {
     "name": "stdout",
     "output_type": "stream",
     "text": [
      "Bukan kelipatan 5, coba lagi.\n"
     ]
    },
    {
     "name": "stdin",
     "output_type": "stream",
     "text": [
      "Masukan bilangan bulat:  2\n"
     ]
    },
    {
     "name": "stdout",
     "output_type": "stream",
     "text": [
      "Bukan kelipatan 5, coba lagi.\n"
     ]
    },
    {
     "name": "stdin",
     "output_type": "stream",
     "text": [
      "Masukan bilangan bulat:  3\n"
     ]
    },
    {
     "name": "stdout",
     "output_type": "stream",
     "text": [
      "Bukan kelipatan 5, coba lagi.\n"
     ]
    },
    {
     "name": "stdin",
     "output_type": "stream",
     "text": [
      "Masukan bilangan bulat:  4\n"
     ]
    },
    {
     "name": "stdout",
     "output_type": "stream",
     "text": [
      "Bukan kelipatan 5, coba lagi.\n"
     ]
    },
    {
     "name": "stdin",
     "output_type": "stream",
     "text": [
      "Masukan bilangan bulat:  5\n"
     ]
    },
    {
     "name": "stdout",
     "output_type": "stream",
     "text": [
      "Anda memasukan kelipatan 5, program berhenti.\n"
     ]
    }
   ],
   "source": [
    "# Ketikan Code Disini lalu Jalankan (Run)\n",
    "while True:\n",
    "    angka = int(input(\"Masukan bilangan bulat: \"))\n",
    "    if angka % 5 == 0:\n",
    "        print(\"Anda memasukan kelipatan 5, program berhenti.\")\n",
    "        break\n",
    "    else:\n",
    "        print(\"Bukan kelipatan 5, coba lagi.\")\n",
    "\"\"\"\n",
    "Kondisi dalam while loop kapan mengontrol perulangan berhenti, ketika angka yang di inputkan 5 karena sesuai dengan prosesnya\n",
    "jika angka modulo 5 == 0: jika 5 di bagi habis sama dengan 0 maka program akan berhenti. Sedangkan jika program di inputkan seperti angka\n",
    "1,2,3,4 ataupun 100 atau lebih maka program tidak akan berhenti loop karena kondisi tidak terpenuhi.\n",
    "\"\"\""
   ]
  },
  {
   "cell_type": "markdown",
   "id": "e713da5a-ca89-4d73-a90e-95af177e4918",
   "metadata": {},
   "source": [
    "# Tugas Mandiri (latihan membuat alur teks program)\n",
    "## Buatlah program dengan alur yang anda bikin sesuai materi diatas\n",
    "## Dimulai dari alur teks (Algoritma Informal)\n",
    "\"\"\"\n",
    "Contoh sederhana dari sebuah algoritma informal yang menjelaskan bagaimana menentukan apakah sebuah angka adalah positif, negatif, atau nol:\n",
    "\n",
    "- Mulai - Mulai proses.\n",
    "- Baca angka - Ambil sebuah angka dari pengguna.\n",
    "- Periksa angka tersebut:\n",
    "- - Jika angka itu lebih besar dari nol, cetak \"Angka positif\".\n",
    "- - Jika angka itu kurang dari nol, cetak \"Angka negatif\".\n",
    "- - Jika angka itu sama dengan nol, cetak \"Angka adalah nol\".\n",
    "- Selesai - Proses selesai.\n",
    "\n",
    "atau\n",
    "- Mulai - Mulai proses pengecekan.\n",
    "- Tanya ke diri sendiri - Apakah saya sudah mandi hari ini?\n",
    "- Evaluasi jawaban:\n",
    "- - Jika jawabannya adalah \"tidak\", maka:\n",
    "- - - Kesimpulan: Saya mungkin bau karena tidak mandi.\n",
    "- - - Tindakan: Pertimbangkan untuk mandi agar tidak bau.\n",
    "- - Jika jawabannya adalah \"ya\", maka:\n",
    "- - - Kesimpulan: Saya tidak bau karena sudah mandi.\n",
    "Selesai - Proses selesai, lanjutkan dengan aktivitas lain.\n",
    "\n",
    "\"\"\""
   ]
  },
  {
   "cell_type": "markdown",
   "id": "72e8ee82-46fc-4bf7-b367-1cb6981ab900",
   "metadata": {},
   "source": [
    "#Algoritma Informal\n",
    "Algoritma Informal Perulangan While Jika Angka Yang Di Inputkan Merupakan Kelipatan 10\n",
    "\n",
    "\"\"\"\n",
    "- Mula - mula proses masukan bilangan bulat\n",
    "- Baca angka - Angka di proses\n",
    "- - - Kelipatan di cek :\n",
    "- - - Jika angka kelipatan yang di inputkan angka 2, cetak \"bukan bilangan kelipatan 10, input lagi!\"\n",
    "- - - Jika angka kelipatan yang di inputkan angka 8, cetak \"bukan bilangan kelipatan 10, input lagi!\"\n",
    "- - - Jika angka kelipatan yang di inputkan angka 10, cetak \"user memasukan kelipatan 10, program selesai\"\n",
    "- Proses Selesai\n",
    "\"\"\""
   ]
  },
  {
   "cell_type": "markdown",
   "id": "5fe843fe-982f-4483-a4a6-f4505b37d897",
   "metadata": {},
   "source": [
    "# Jelaskan  Kesimpulan dari Pertemuan kali ini Dengan Format Markdown, Min.3 Baris\n",
    "# Note: nilai plus buat yang masukkan gambar, visualisasi penjelasan, dan table penjelasan\n",
    "**Kesimpulan dari pertemuan 5 kali ini adalah** <br>\n",
    "saya menjadi jadi tahu menggunakan program iterasi atau pengulangan menggunakan for dan while serta <br>\n",
    "penggunaan break dan continue. dengan menggunakan perulangan saya jadi tahu kalau dengan menggunakan perulangan, <br>\n",
    "kita bisa melakukan perulangan bersarang untuk melakukan proses perkalian atau proses lainnya. dan juga dengan menggunakan breaks<br>\n",
    "dan continue kita bisa menampilkan angka ganjil atau pun genap sesuai dengan kondisi.\n",
    "**Note :** <br>\n",
    "<img src=\"whileloop.png\" widht=\"500px\" al1=\"iterasi\"/> <br>\n",
    "sesuai dengan kesimpulan yang saya berikan dengan menggunakan while loop kita di sini bisa tau bahwa penggunaan while loop akan <br>\n",
    "terjadi terus atau berulang ulang sesuai dengan kondisinya apakah kondisi nya terpenuhi atau tida, jika program kondisinya <br>\n",
    "tidak terpenuhi maka program akan terus berjalan, jika program kondisinya terpenuhi maka program akan berhenti.\n",
    "\n"
   ]
  },
  {
   "cell_type": "code",
   "execution_count": null,
   "id": "73db20e3-b151-4e61-b8d4-4a3e41fe3c74",
   "metadata": {},
   "outputs": [],
   "source": []
  }
 ],
 "metadata": {
  "colab": {
   "provenance": []
  },
  "kernelspec": {
   "display_name": "Python 3 (ipykernel)",
   "language": "python",
   "name": "python3"
  },
  "language_info": {
   "codemirror_mode": {
    "name": "ipython",
    "version": 3
   },
   "file_extension": ".py",
   "mimetype": "text/x-python",
   "name": "python",
   "nbconvert_exporter": "python",
   "pygments_lexer": "ipython3",
   "version": "3.12.4"
  },
  "widgets": {
   "application/vnd.jupyter.widget-state+json": {
    "state": {},
    "version_major": 2,
    "version_minor": 0
   }
  }
 },
 "nbformat": 4,
 "nbformat_minor": 5
}
