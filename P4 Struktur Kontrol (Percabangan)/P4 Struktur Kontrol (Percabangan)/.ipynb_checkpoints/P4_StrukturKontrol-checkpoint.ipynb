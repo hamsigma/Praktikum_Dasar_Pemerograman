{
 "cells": [
  {
   "cell_type": "markdown",
   "id": "b3450a5a-c882-48e6-8aae-8be59018aedb",
   "metadata": {
    "id": "b3450a5a-c882-48e6-8aae-8be59018aedb"
   },
   "source": [
    "\n",
    "# Praktikum 4: Struktur Kontrol\n",
    "\n",
    "## Tujuan Pembelajaran\n",
    "- Mengimplementasikan struktur kontrol dalam Python 3.\n",
    "\n",
    "## Pokok Bahasan\n",
    "- If statements\n",
    "- Elif statements\n",
    "- Else statements\n",
    "- Nested control structures\n",
    "- One-line control structures\n",
    "\n",
    "Pada praktikum ini, Anda akan berlatih menggunakan struktur kontrol di dalam bahasa Python untuk menyelesaikan beberapa skenario pemrograman.\n"
   ]
  },
  {
   "attachments": {},
   "cell_type": "markdown",
   "id": "e989c82b-4c5e-4eaf-9152-4a4c9a494b65",
   "metadata": {},
   "source": [
    "\n",
    "### Percobaan 4.1: Menggunakan If Statement\n",
    "\n",
    "Buatlah program yang meminta input umur dari pengguna dan menampilkan pesan \"Anda masih muda!\" jika umur yang diinput kurang dari 30.\n",
    "\n",
    "#### Soal:\n",
    "1. Tuliskan program sesuai dengan deskripsi di atas.\n",
    "2. Berikan penjelasan mengenai output yang dihasilkan.\n",
    "3. Apa yang terjadi jika nilai yang diinput lebih dari atau sama dengan 30?\n",
    "\n",
    "<img src=\"Screenshot (1).png\" alt=\"Deskripsi Gambar\" width=\"450\" style=\"margin-left: 30px;\" />\n",
    "\n"
   ]
  },
  {
   "cell_type": "code",
   "execution_count": 53,
   "id": "b4beb5da-51a9-47ff-a732-d6cf9247ae74",
   "metadata": {
    "id": "ea6a12c4-1360-4bfe-a05f-4098604926bc"
   },
   "outputs": [
    {
     "name": "stdin",
     "output_type": "stream",
     "text": [
      "Berapakah Umur Anda?   35\n"
     ]
    },
    {
     "name": "stdout",
     "output_type": "stream",
     "text": [
      "Terimakasih!\n"
     ]
    }
   ],
   "source": [
    "# Ketikan Code Disini lalu Jalankan (Run)\n",
    "umur = int(input(\"Berapakah Umur Anda?  \"))\n",
    "if umur < 30:\n",
    "    print(\"Anda Masih Muda\")\n",
    "else: \n",
    "    print(\"Anda Sudah Tua!\")\n",
    "\n",
    "print(\"Terimakasih!\")\n",
    "\n",
    "#Jawaban 4.1\n",
    "# Output yang di hasilkan jika memasukan input sama dengan 30 maka output anda masih muda sedangkan,\n",
    "# Output yang di hasilkan jika tidak menggunakan else, dan umur yang di inputkan 35 maka tidak akan terjadi output.\n",
    "# Output yang di hasilkan jika tidak menggunakan else maka hasil output yang tampil hanya terimakasih, dan setelah menambahkan else keterangan dan angka yang di inputkan 35 maka jawabannya anda sudah tua.\n",
    "#note\n",
    "# if untuk kondisi sedangkan else untuk aksi"
   ]
  },
  {
   "cell_type": "markdown",
   "id": "28e24639-72f7-4d78-8169-b805c5bee744",
   "metadata": {},
   "source": [
    "\n",
    "### Percobaan 4.2: Menggunakan If, Elif, dan Else\n",
    "\n",
    "Buatlah program yang meminta input usia pengguna dan menampilkan kategori usia mereka sebagai berikut:\n",
    "- 0-12 tahun: Anak-anak\n",
    "- 13-19 tahun: Remaja\n",
    "- 20-59 tahun: Dewasa\n",
    "- 60 tahun ke atas: Lansia\n",
    "\n",
    "#### Soal:\n",
    "1. Buat program dengan menggunakan if, elif, dan else.\n",
    "2. Berikan penjelasan mengenai setiap kondisi.\n",
    "3. Tampilkan hasilnya dan beri komentar.\n",
    "\n",
    "<img src=\"Screenshot (2).png\" alt=\"Deskripsi Gambar\" width=\"450\" style=\"margin-left: 30px;\" />\n"
   ]
  },
  {
   "cell_type": "code",
   "execution_count": 13,
   "id": "b3f87cea-e50a-46fd-820f-bc12703db8da",
   "metadata": {
    "id": "ea6a12c4-1360-4bfe-a05f-4098604926bc"
   },
   "outputs": [
    {
     "name": "stdin",
     "output_type": "stream",
     "text": [
      "Berapakah Usia Anda?   100\n"
     ]
    },
    {
     "name": "stdout",
     "output_type": "stream",
     "text": [
      "Anda Lansia\n"
     ]
    }
   ],
   "source": [
    "# Ketikan Code Disini lalu Jalankan (Run)\n",
    "usia = int(input(\"Berapakah Usia Anda?  \"))\n",
    "\n",
    "if usia <= 12: # jika input sesuai dengan angka kurang dari sama dengan 12, outputnya sesuai dengan yang ada di program\n",
    "    print(\"Anda Masih Anak Anak\") # jika bernilai benar/true menampilkan output yang sesuai\n",
    "elif usia <= 19: # jika input sesuai dengan angka kurang dari sama dengan 19, outputnya sesuai dengan yang ada di program\n",
    "    print(\"Anda Masih Remaja\")  # jika bernilai benar/true menampilkan output yang sesuai\n",
    "elif usia <= 59: # jika input sesuai dengan angka kurang dari sama dengan 59, outputnya sesuai dengan yang ada di program\n",
    "    print(\"Anda Dewasa\")  # jika bernilai benar/true menampilkan output yang sesuai\n",
    "else:\n",
    "    print(\"Anda Lansia\") # jika kondisinya tidak sesuai dengan sebelumnya maka proses akan di lempar dan outputnya seperti ini\n",
    "\n",
    "#Jawaban 4.2\n",
    "# Hasil outputnya, anda lansia karena yang di inputkan angka 100 di program apabila jika lebih dari sama dengan 59. / 60 tahun keatas,\n",
    "# Maka hasilnya anda lansia.\n",
    "#note\n",
    "#Perbedaan if dan elif, if di gunakan untuk statment awal/pembuka, elif di gunakan untuk melempar proses lain"
   ]
  },
  {
   "cell_type": "markdown",
   "id": "04451d75-fd5c-418f-b2b3-bfe3ca35497d",
   "metadata": {},
   "source": [
    "\n",
    "### Percobaan 4.3: Struktur Kontrol Bersarang (Nested If)\n",
    "\n",
    "Buatlah program yang menanyakan tinggi badan seseorang dan berat badannya, kemudian tentukan apakah mereka memiliki berat badan yang ideal dengan kriteria berikut:\n",
    "- Jika tinggi badan < 160 cm, berat badan ideal adalah < 60 kg.\n",
    "- Jika tinggi badan >= 160 cm, berat badan ideal adalah < 70 kg.\n",
    "\n",
    "#### Soal:\n",
    "1. Implementasikan struktur kontrol bersarang untuk menentukan apakah berat badan ideal.\n",
    "2. Uji dengan berbagai input dan jelaskan hasilnya.\n",
    "\n",
    "<img src=\"Screenshot (3).png\" alt=\"Deskripsi Gambar\" width=\"450\" style=\"margin-left: 30px;\" />\n"
   ]
  },
  {
   "cell_type": "code",
   "execution_count": 15,
   "id": "75357d06-3bb8-4b42-94cf-f4b2be24a792",
   "metadata": {
    "id": "ea6a12c4-1360-4bfe-a05f-4098604926bc"
   },
   "outputs": [
    {
     "name": "stdin",
     "output_type": "stream",
     "text": [
      "Berapa tinggi badan anda (dalam cm)?  170\n",
      "Berapa berat badan anda (dalam kg)?  65\n"
     ]
    },
    {
     "name": "stdout",
     "output_type": "stream",
     "text": [
      "Berat badan anda ideal!\n"
     ]
    }
   ],
   "source": [
    "# Ketikan Code Disini lalu Jalankan (Run)\n",
    "tinggi = float(input(\"Berapa tinggi badan anda (dalam cm)? \"))\n",
    "berat = float (input(\"Berapa berat badan anda (dalam kg)? \"))\n",
    "\n",
    "if tinggi < 160:\n",
    "    if berat < 60:\n",
    "        print(\"Berat badan anda ideal\")\n",
    "    else:\n",
    "        print(\"Berat badan anda tidak ideal.\")\n",
    "else:\n",
    "    if berat < 70:\n",
    "        print(\"Berat badan anda ideal!\")\n",
    "    else:\n",
    "        print(\"Berat badan tidak ideal\")\n",
    "        \n",
    "#Jawaban 4.3\n",
    "\"\"\"\n",
    "- Jika angka yang di inputkan sesuai dengan ketentuan program maka output yang akan keluar berat badan anda ideal,\n",
    "- Sedangkan jika yang di inputkan tidak sesuai ketentuan program misal angka yang di input, berat badannya 90 atau tinggi 100 maka output yang,\n",
    "berat badan tidak ideal.\n",
    "\"\"\""
   ]
  },
  {
   "cell_type": "markdown",
   "id": "2b0246ff-584f-4484-b52d-18733bcde7ae",
   "metadata": {},
   "source": [
    "\n",
    "### Percobaan 4.4: Kombinasi Kondisi dengan Operator Logika\n",
    "\n",
    "Buatlah program yang mengevaluasi tiga nilai: usia, tinggi, dan berat badan seseorang. Program akan menentukan apakah seseorang dapat mengikuti kompetisi atletik dengan kondisi:\n",
    "- Usia antara 18 dan 30 tahun\n",
    "- Tinggi badan lebih dari 165 cm\n",
    "- Berat badan di bawah 80 kg\n",
    "\n",
    "Gunakan operator logika (`and`, `or`, `not`) untuk memeriksa kondisi tersebut.\n",
    "\n",
    "#### Soal:\n",
    "1. Implementasikan program dengan kombinasi kondisi dan operator logika.\n",
    "2. Uji dengan berbagai input untuk memastikan program berfungsi sesuai.\n",
    "\n",
    "<img src=\"Screenshot (4).png\" alt=\"Deskripsi Gambar\" width=\"450\" style=\"margin-left: 30px;\" />\n"
   ]
  },
  {
   "cell_type": "code",
   "execution_count": 47,
   "id": "a61ed888-46f5-4412-bffe-22824dc41f1e",
   "metadata": {
    "id": "ea6a12c4-1360-4bfe-a05f-4098604926bc"
   },
   "outputs": [
    {
     "name": "stdin",
     "output_type": "stream",
     "text": [
      "Berapa usai anda?  18\n",
      "Berapa tinggi badan anda?  170\n",
      "Berapa berat badan anda?  40\n"
     ]
    },
    {
     "name": "stdout",
     "output_type": "stream",
     "text": [
      "Anda memenuhi syarat untuk mengikuti kompetisi atletik\n"
     ]
    }
   ],
   "source": [
    "# Ketikan Code Disini lalu Jalankan (Run)\n",
    "usia = int(input(\"Berapa usai anda? \"))\n",
    "tinggi = float(input(\"Berapa tinggi badan anda? \"))\n",
    "berat = float(input(\"Berapa berat badan anda? \"))\n",
    "\n",
    "if 18 <= usia <= 30 and tinggi > 165 and berat < 80:\n",
    "    print(\"Anda memenuhi syarat untuk mengikuti kompetisi atletik\")\n",
    "\n",
    "else:\n",
    "    print(\"Maaf, anda tidak memenuhi syarat.\")\n",
    "    \n",
    "#Jawaban 4.4\n",
    "\"\"\"\n",
    "- Jika angka yang di inputkan sesuai dengan angka yang ada di program maka, output yang di hasilkan sesuai dengan program. \n",
    "yaitu \"anda memenuhi syarat untuk mengikuti kompetisi atletik\".\n",
    "- Sedangkan jika angka yang di inputkan dan tidak sesuai misalnya, usia 17 tinggi badan 115 berat 45. maka hasil yang di inputkan\n",
    "adalah \"Maaf, anda tidak memenuhi syarat \"\n",
    "\"\"\""
   ]
  },
  {
   "cell_type": "markdown",
   "id": "027609a3-346c-4999-a485-772128a8bb6a",
   "metadata": {},
   "source": [
    "\n",
    "### Percobaan 4.5: Struktur Kontrol Satu Baris\n",
    "\n",
    "Buat program yang menanyakan apakah seseorang memiliki SIM. Jika mereka memiliki SIM, tampilkan \"Anda bisa mengemudi!\", jika tidak tampilkan \"Anda tidak bisa mengemudi!\" Tulis program ini dalam satu baris menggunakan if-else satu baris.\n",
    "\n",
    "#### Soal:\n",
    "1. Buat program yang menggunakan if-else satu baris.\n",
    "2. Berikan penjelasan mengenai cara kerja program.\n",
    "\n",
    "<img src=\"Screenshot (5).png\" alt=\"Deskripsi Gambar\" width=\"550\" style=\"margin-left: 30px;\" />\n"
   ]
  },
  {
   "cell_type": "code",
   "execution_count": 31,
   "id": "ea6a12c4-1360-4bfe-a05f-4098604926bc",
   "metadata": {
    "id": "ea6a12c4-1360-4bfe-a05f-4098604926bc"
   },
   "outputs": [
    {
     "name": "stdin",
     "output_type": "stream",
     "text": [
      "Apakah anda memiliki SIM? (y/n):  y\n"
     ]
    },
    {
     "name": "stdout",
     "output_type": "stream",
     "text": [
      "Anda bisa mengemudi!\n"
     ]
    }
   ],
   "source": [
    "# Ketikan Code Disini lalu Jalankan (Run)\n",
    "sim = input(\"Apakah anda memiliki SIM? (y/n): \").lower() #Program untuk membuat inputan dan format (y/n) dan lower membuat teks pada outputan lower\n",
    "print(\"Anda bisa mengemudi!\") if sim == \"y\" else print(\"Anda tidak bisa mengemudi!\") #dan outputnya anda bisa mengemudi, jika ada sim dan jawabannya y\n",
    "# maka outputnya anda bisa mengemudi\n",
    "# tetapi jika inputnya n, anda tidak bisa mengemudi.\n"
   ]
  },
  {
   "cell_type": "markdown",
   "id": "108ed125-3fcf-4ae5-aa9b-68247522cb89",
   "metadata": {},
   "source": [
    "\n",
    "### Percobaan 4.6: Looping dan Kondisi\n",
    "\n",
    "Buatlah program yang terus meminta input bilangan bulat dari pengguna dan berhenti ketika pengguna memasukkan angka negatif. Jika bilangan yang dimasukkan genap, program akan menampilkan \"Angka genap\". Jika bilangan ganjil, tampilkan \"Angka ganjil\".\n",
    "\n",
    "#### Soal:\n",
    "1. Implementasikan perulangan dengan kondisi untuk mengecek bilangan ganjil atau genap.\n",
    "2. Uji program dengan berbagai input dan berikan penjelasan.\n",
    "\n",
    "<img src=\"Screenshot (6).png\" alt=\"Deskripsi Gambar\" width=\"550\" style=\"margin-left: 30px;\" />\n"
   ]
  },
  {
   "cell_type": "code",
   "execution_count": 3,
   "id": "f69b9cfb-c25a-4a8e-83ea-570757748c97",
   "metadata": {
    "id": "ea6a12c4-1360-4bfe-a05f-4098604926bc"
   },
   "outputs": [
    {
     "name": "stdin",
     "output_type": "stream",
     "text": [
      "Masukan bilangan bulat (negatif untuk berhenti):  1\n"
     ]
    },
    {
     "name": "stdout",
     "output_type": "stream",
     "text": [
      "angka ganjil\n"
     ]
    },
    {
     "name": "stdin",
     "output_type": "stream",
     "text": [
      "Masukan bilangan bulat (negatif untuk berhenti):  2\n"
     ]
    },
    {
     "name": "stdout",
     "output_type": "stream",
     "text": [
      "angka genap\n"
     ]
    },
    {
     "name": "stdin",
     "output_type": "stream",
     "text": [
      "Masukan bilangan bulat (negatif untuk berhenti):  3\n"
     ]
    },
    {
     "name": "stdout",
     "output_type": "stream",
     "text": [
      "angka ganjil\n"
     ]
    },
    {
     "name": "stdin",
     "output_type": "stream",
     "text": [
      "Masukan bilangan bulat (negatif untuk berhenti):  4\n"
     ]
    },
    {
     "name": "stdout",
     "output_type": "stream",
     "text": [
      "angka genap\n"
     ]
    },
    {
     "name": "stdin",
     "output_type": "stream",
     "text": [
      "Masukan bilangan bulat (negatif untuk berhenti):  5\n"
     ]
    },
    {
     "name": "stdout",
     "output_type": "stream",
     "text": [
      "angka ganjil\n"
     ]
    },
    {
     "name": "stdin",
     "output_type": "stream",
     "text": [
      "Masukan bilangan bulat (negatif untuk berhenti):  6\n"
     ]
    },
    {
     "name": "stdout",
     "output_type": "stream",
     "text": [
      "angka genap\n"
     ]
    },
    {
     "name": "stdin",
     "output_type": "stream",
     "text": [
      "Masukan bilangan bulat (negatif untuk berhenti):  1\n"
     ]
    },
    {
     "name": "stdout",
     "output_type": "stream",
     "text": [
      "angka ganjil\n"
     ]
    },
    {
     "name": "stdin",
     "output_type": "stream",
     "text": [
      "Masukan bilangan bulat (negatif untuk berhenti):  1\n"
     ]
    },
    {
     "name": "stdout",
     "output_type": "stream",
     "text": [
      "angka ganjil\n"
     ]
    },
    {
     "name": "stdin",
     "output_type": "stream",
     "text": [
      "Masukan bilangan bulat (negatif untuk berhenti):  -1\n"
     ]
    },
    {
     "name": "stdout",
     "output_type": "stream",
     "text": [
      "program berhenti.\n"
     ]
    },
    {
     "data": {
      "text/plain": [
       "\"\\nfungsi while true adalah menjalankan blok kode secara berulang kali selama kondisi tertentu masih terpenuhi (atau bernilai 'True').\\njadi jika inputan nya kurang dari 0 atau angka negatif maka perogram berhenti, jika program di inputkan angka ganjil atau genap loop akan \\nterus berulang sampai kondisi yang di inginkan terpenuhi\\n\""
      ]
     },
     "execution_count": 3,
     "metadata": {},
     "output_type": "execute_result"
    }
   ],
   "source": [
    "# Ketikan Code Disini lalu Jalankan (Run)\n",
    "while True :\n",
    "    angka = int(input(\"Masukan bilangan bulat (negatif untuk berhenti): \"))\n",
    "    \n",
    "    if angka < 0 :\n",
    "        print (\"program berhenti.\")\n",
    "        break\n",
    "    elif angka % 2 == 0 :\n",
    "        print(\"angka genap\")\n",
    "    else :\n",
    "        print(\"angka ganjil\")\n",
    "\n",
    "#Jawaban 4.6\n",
    "\"\"\"\n",
    "fungsi while true adalah menjalankan blok kode secara berulang kali selama kondisi tertentu masih terpenuhi (atau bernilai 'True').\n",
    "jadi jika inputan nya kurang dari 0 atau angka negatif maka perogram berhenti, jika program di inputkan angka ganjil atau genap loop akan \n",
    "terus berulang sampai kondisi yang di inginkan terpenuhi.\n",
    "\"\"\""
   ]
  },
  {
   "cell_type": "markdown",
   "id": "7dd0cec2-c5fe-4f41-b128-14884e89e119",
   "metadata": {},
   "source": [
    "##### Tugas Mandiri (latihan membuat alur teks program)\n",
    "## Buatlah program dengan alur yang anda bikin sesuai materi diatas\n",
    "## Dimulai dari alur teks (Algoritma Informal)\n",
    "\"\"\"\n",
    "Contoh sederhana dari sebuah algoritma informal yang menjelaskan bagaimana menentukan apakah sebuah angka adalah positif, negatif, atau nol:\n",
    "\n",
    "- Mulai - Mulai proses.\n",
    "- Baca angka - Ambil sebuah angka dari pengguna.\n",
    "- Periksa angka tersebut:\n",
    "- - Jika angka itu lebih besar dari nol, cetak \"Angka positif\".\n",
    "- - Jika angka itu kurang dari nol, cetak \"Angka negatif\".\n",
    "- - Jika angka itu sama dengan nol, cetak \"Angka adalah nol\".\n",
    "- Selesai - Proses selesai.\n",
    "\n",
    "atau\n",
    "- Mulai - Mulai proses pengecekan.\n",
    "- Tanya ke diri sendiri - Apakah saya sudah mandi hari ini?\n",
    "- Evaluasi jawaban:\n",
    "- - Jika jawabannya adalah \"tidak\", maka:\n",
    "- - - Kesimpulan: Saya mungkin bau karena tidak mandi.\n",
    "- - - Tindakan: Pertimbangkan untuk mandi agar tidak bau.\n",
    "- - Jika jawabannya adalah \"ya\", maka:\n",
    "- - - Kesimpulan: Saya tidak bau karena sudah mandi.\n",
    "Selesai - Proses selesai, lanjutkan dengan aktivitas lain.\n",
    "\n",
    "\"\"\""
   ]
  },
  {
   "cell_type": "markdown",
   "id": "036a5e03-9a7a-4b09-a17c-f3be1030a032",
   "metadata": {},
   "source": [
    "### Algoritma Informal (Memasak Tempe Mendoan)\n",
    "\n",
    "- Mula - mula siapkan bumbu.\n",
    "- Apakah bumbu untuk tempe mendoan sudah siap :\n",
    "- - Jika bumbu sudah siap dan lengkap, maka tempe mendoan bisa di masak\n",
    "- - - Apabila bumbu tempe belum siap, maka tempe mendoan tidak enak\n",
    "- - -  Apabila bumbu tempe dan tempe kurang, maka tidak kenyang makan tempe mendoan \n",
    "- - - Selain itu ketika tempe tidak ada maka, tidak bisa masak tempe mendoan\n",
    "- - Proses memasak tempe mendoan selesai\n"
   ]
  },
  {
   "cell_type": "markdown",
   "id": "b9eb38a9-9677-4e04-aa6e-944a6e81c9b3",
   "metadata": {},
   "source": [
    " Jelaskan  Kesimpulan dari Pertemuan kali ini Dengan Format Markdown, Min.3 Baris\n",
    " Note: nilai plus buat yang masukkan gambar, visualisasi penjelasan, dan table penjelasan\n",
    "**Kesimpulan Dari Praktikum 4 Kali Ini Adalah** <br>\n",
    "Saya dapat memahami penggunaan struktur kontrol pada bahasa python setelah di jelaskan oleh kak lukman dan kak fauzan dalam penerapan teori <br>\n",
    "mau pun dalam praktek sehingga saya bisa mempelajari lebih lagi dalam struktur kontrol maupun pada materi yang lain lainnya <br>\n",
    "dan juga saya bisa memahami penggunaan struktur kontrol loop dan dengan penjelasan yang sudah di jelaskan saya sudah dapat skema dan algoritma <br>\n",
    "proses pada strukur kontrol. <br>\n",
    "**Note :** <br>\n",
    "<img src=\"1.png\" widht=\"500px\"/> <br>\n",
    "Dengan menggunakan statment dan penggunaan struktur kontrol saya bisa tahu perbedaan bahasa lain dengan python yaitu saya dapat memahami <br>\n",
    "bahasa python dan sangat singkat untuk membuat proses akan tetapi banyak human eror yang kadang saya buat entah itu invalid syntax ataupun lupa <br>\n",
    "dalam penggunaan simbol"
   ]
  },
  {
   "cell_type": "code",
   "execution_count": null,
   "id": "86b5abff-644d-4149-8d33-ac9ec1840b30",
   "metadata": {},
   "outputs": [],
   "source": []
  }
 ],
 "metadata": {
  "colab": {
   "provenance": []
  },
  "kernelspec": {
   "display_name": "Python 3 (ipykernel)",
   "language": "python",
   "name": "python3"
  },
  "language_info": {
   "codemirror_mode": {
    "name": "ipython",
    "version": 3
   },
   "file_extension": ".py",
   "mimetype": "text/x-python",
   "name": "python",
   "nbconvert_exporter": "python",
   "pygments_lexer": "ipython3",
   "version": "3.12.4"
  },
  "widgets": {
   "application/vnd.jupyter.widget-state+json": {
    "state": {},
    "version_major": 2,
    "version_minor": 0
   }
  }
 },
 "nbformat": 4,
 "nbformat_minor": 5
}
