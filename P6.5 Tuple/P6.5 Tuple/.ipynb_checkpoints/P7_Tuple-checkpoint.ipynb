{
 "cells": [
  {
   "cell_type": "markdown",
   "id": "b3450a5a-c882-48e6-8aae-8be59018aedb",
   "metadata": {
    "id": "b3450a5a-c882-48e6-8aae-8be59018aedb"
   },
   "source": [
    "# Modul Soal Pertemuan 7 - **Tuple**\n",
    "\n",
    "**Topik:** Tuple dalam Python\n",
    "\n",
    "**Tujuan Pembelajaran:**\n",
    "- Memahami konsep dasar Tuple dalam Python.\n",
    "- Mengetahui perbedaan antara List dan Tuple.\n",
    "- Mampu menggunakan fungsi dan method yang tersedia untuk Tuple.\n",
    "\n",
    "---\n",
    "\n",
    "## 1. **Pendahuluan**\n",
    "\n",
    "**Tuple** adalah tipe data koleksi seperti List, namun elemen-elemen di dalam Tuple bersifat **immutable** (tidak dapat diubah). Tuple digunakan saat Anda ingin menyimpan data yang tidak akan diubah setelah dideklarasikan.\n",
    "\n",
    "Tuple didefinisikan dengan tanda kurung biasa `( )` dan elemen-elemen di dalamnya dipisahkan oleh koma.\n",
    "\n",
    "### **Contoh:**\n",
    "```python\n",
    "# Membuat Tuple\n",
    "hewan = (\"kucing\", \"anjing\", \"kelinci\")\n",
    "```\n",
    "\n",
    "---\n",
    "\n",
    "## 2. **Tabel Pembahasan Fungsi dan Method pada Tuple**\n",
    "\n",
    "| **No** | **Fungsi/Method**   | **Penjelasan**                                                                                   | **Contoh Kode**                                                                                                                         |\n",
    "|--------|---------------------|---------------------------------------------------------------------------------------------------|-----------------------------------------------------------------------------------------------------------------------------------------|\n",
    "| 1      | `len()`              | Menghitung jumlah elemen dalam Tuple.                                                             | ```python len((1, 2, 3))  # Output: 3```                                                                                                |\n",
    "| 2      | `min()`              | Mengembalikan elemen dengan nilai terkecil (hanya bisa digunakan pada elemen yang bisa dibandingkan). | ```python min((4, 2, 8, 1))  # Output: 1```                                                                                             |\n",
    "| 3      | `max()`              | Mengembalikan elemen dengan nilai terbesar.                                                       | ```python max((4, 2, 8, 1))  # Output: 8```                                                                                             |\n",
    "| 4      | `index()`            | Mengembalikan indeks dari elemen pertama yang ditemukan pada Tuple.                                | ```python hewan = (\"kucing\", \"anjing\") hewan.index(\"anjing\")  # Output: 1```                                                             |\n",
    "| 5      | `count()`            | Menghitung berapa kali elemen tertentu muncul dalam Tuple.                                        | ```python angka = (1, 2, 3, 1, 1) angka.count(1)  # Output: 3```                                                                        |\n",
    "| 6      | Tuple Packing        | Menyimpan beberapa nilai dalam satu variabel dalam bentuk Tuple.                                  | ```python a = 1, 2, 3  # Output: (1, 2, 3)```                                                                                           |\n",
    "| 7      | Tuple Unpacking      | Membongkar Tuple menjadi beberapa variabel.                                                       | ```python a, b, c = (1, 2, 3) print(a, b, c)  # Output: 1 2 3```                                                                        |\n",
    "| 8      | `tuple()`            | Mengonversi koleksi data lain menjadi Tuple.                                                      | ```python tuple([1, 2, 3])  # Output: (1, 2, 3)```                                                                                      |\n",
    "| 9      | Slicing              | Mengambil bagian dari Tuple menggunakan slicing seperti List.                                     | ```python hewan = (\"kucing\", \"anjing\", \"kelinci\") print(hewan[1:])  # Output: ('anjing', 'kelinci')```                                   |\n",
    "| 10     | Immutability         | Tuple tidak dapat diubah setelah dideklarasikan.                                                  | ```python hewan = (\"kucing\", \"anjing\") hewan[0] = \"ular\"  # Output: TypeError: 'tuple' object does not support item assignment```        |\n",
    "\n",
    "---\n",
    "\n",
    "---\n",
    "\n",
    "## 3. **Perbedaan List dan Tuple**\n",
    "\n",
    "| **List**                        | **Tuple**                        |\n",
    "|----------------------------------|----------------------------------|\n",
    "| Elemen **dapat diubah** (mutable). | Elemen **tidak dapat diubah** (immutable). |\n",
    "| Didefinisikan dengan tanda kurung siku `[ ]`. | Didefinisikan dengan tanda kurung biasa `( )`. |\n",
    "| Memiliki lebih banyak method untuk manipulasi data. | Method lebih sedikit karena bersifat immutable. |\n",
    "| Lebih lambat dibandingkan Tuple dalam hal performa. | Lebih cepat dan efisien dalam hal performa. |\n",
    "\n",
    "---\n",
    "\n",
    "## 4. **Soal dan Latihan**\n",
    "**Note:** Gunakan logika pemrograman bukan cuman ngikutin gambar. Baca betul-betul apa yang di intruksikan!!"
   ]
  },
  {
   "cell_type": "markdown",
   "id": "f8f25b2d-716f-4cda-9bca-e01a6d92c80b",
   "metadata": {},
   "source": [
    "### **Soal 1 - Operasi Dasar pada Tuple**\n",
    "**Contoh Kode:**\n",
    "\n",
    "<img src=\"Screenshot (1).png\" alt=\"Deskripsi Gambar\" width=\"450\" style=\"margin-left: 30px;\" />\n",
    "\n",
    "**Instruksi:**\n",
    "1. Buat sebuah Tuple berisi nama-nama mahasiswa.\n",
    "2. Tampilkan jumlah elemen dalam Tuple menggunakan `len()`.\n",
    "3. Cari indeks dari nama tertentu menggunakan `index()`.\n",
    "4. Hitung berapa kali nama tertentu muncul dalam Tuple menggunakan `count()`.\n",
    "---"
   ]
  },
  {
   "cell_type": "code",
   "execution_count": 14,
   "id": "b3f87cea-e50a-46fd-820f-bc12703db8da",
   "metadata": {
    "id": "ea6a12c4-1360-4bfe-a05f-4098604926bc"
   },
   "outputs": [
    {
     "name": "stdout",
     "output_type": "stream",
     "text": [
      "jumlah mahasiswa: 5\n",
      "jumlah mahasiswa: 1\n",
      "Indeks 'Budi' : 2\n"
     ]
    }
   ],
   "source": [
    "# Ketikan Code Disini lalu Jalankan (Run)\n",
    "mahasiswa = (\"Andi\",\"Budi\",\"Citra\",\"Budi\",\"Dewi\")\n",
    "print(f\"jumlah mahasiswa: {len(mahasiswa)}\")\n",
    "print(f\"jumlah mahasiswa: {mahasiswa.index('Budi')}\")\n",
    "print(f\"Indeks 'Budi' : {mahasiswa.count('Budi')}\")\n"
   ]
  },
  {
   "cell_type": "markdown",
   "id": "2b0246ff-584f-4484-b52d-18733bcde7ae",
   "metadata": {},
   "source": [
    "### **Soal 2 - Tuple Packing dan Unpacking**\n",
    "\n",
    "**Contoh Kode:**\n",
    "\n",
    "<img src=\"Screenshot (2).png\" alt=\"Deskripsi Gambar\" width=\"450\" style=\"margin-left: 30px;\" />\n",
    "\n",
    "**Instruksi:**\n",
    "1. Buat program yang menampung nama lengkap dan NIM mahasiswa dalam Tuple.\n",
    "2. Gunakan Tuple Packing untuk menyimpan data.\n",
    "3. Gunakan Tuple Unpacking untuk menampilkan nama dan NIM secara terpisah.\n",
    "\n",
    "\n",
    "---\n",
    "\n"
   ]
  },
  {
   "cell_type": "code",
   "execution_count": 22,
   "id": "a61ed888-46f5-4412-bffe-22824dc41f1e",
   "metadata": {
    "id": "ea6a12c4-1360-4bfe-a05f-4098604926bc"
   },
   "outputs": [
    {
     "name": "stdout",
     "output_type": "stream",
     "text": [
      "Nama: Ilham Ramadhani\n",
      "NIM: 2411102441066\n"
     ]
    }
   ],
   "source": [
    "# Ketikan Code Disini lalu Jalankan (Run)\n",
    "#Tuple Packing\n",
    "data_mahasiswa = (\"Ilham Ramadhani\",\"2411102441066\")\n",
    "\n",
    "#Tuple Unpacking\n",
    "nama,nim = data_mahasiswa\n",
    "print(f\"Nama: {nama}\")\n",
    "print(f\"NIM: {nim}\")\n",
    "\n",
    "#print(data_mahasiswa)"
   ]
  },
  {
   "cell_type": "markdown",
   "id": "027609a3-346c-4999-a485-772128a8bb6a",
   "metadata": {},
   "source": [
    "### **Soal 3 - Konversi ke Tuple dan Slicing**\n",
    "**Contoh Kode:**\n",
    "\n",
    "<img src=\"Screenshot (3).png\" alt=\"Deskripsi Gambar\" width=\"450\" style=\"margin-left: 30px;\" />\n",
    "\n",
    "**Instruksi:**\n",
    "1. Buatlah program yang mengonversi List menjadi Tuple.\n",
    "2. Tampilkan elemen-elemen tertentu dari Tuple menggunakan slicing.\n",
    "3. Jelaskan code beserta outputnya!\n",
    "---\n"
   ]
  },
  {
   "cell_type": "code",
   "execution_count": 25,
   "id": "ea6a12c4-1360-4bfe-a05f-4098604926bc",
   "metadata": {
    "id": "ea6a12c4-1360-4bfe-a05f-4098604926bc"
   },
   "outputs": [
    {
     "name": "stdout",
     "output_type": "stream",
     "text": [
      "('aple', 'jeruk', 'mangga', 'durian', 'jambu', 'Kelengkeng')\n",
      "('jeruk', 'mangga', 'durian', 'jambu', 'Kelengkeng')\n",
      "('mangga', 'durian', 'jambu', 'Kelengkeng')\n",
      "('mangga', 'durian', 'jambu')\n",
      "Kelengkeng\n"
     ]
    }
   ],
   "source": [
    "# Ketikan Code Disini lalu Jalankan (Run)\n",
    "# Konversi dari list ke tuple\n",
    "list_buah = [\"aple\",\"jeruk\",\"mangga\",\"durian\",\"jambu\",\"Kelengkeng\"]\n",
    "tuple_buah = tuple(list_buah) #code ini berfungsi untuk mengubah list menjadi tuple\n",
    "\n",
    "# slicing Tuple\n",
    "print(tuple_buah[0:])\n",
    "print(tuple_buah[1:]) #slicing tuple berguna untuk mengambil indeks yang ada di dalam tuple jadi ketika kita mengambil elemen 0 maka 3 buah akan di tampilkan\n",
    "print(tuple_buah[2:]) #sedangkan jika elemen 1 dan 2 output yang akan keluar sesuai indeks yang di ambil\n",
    "print(tuple_buah[2:5])\n",
    "print(tuple_buah[4+1]) \n",
    "#print(tuple_buah[0:2])"
   ]
  },
  {
   "cell_type": "markdown",
   "id": "b63948ce-0bb1-4efe-90cf-3f3a0ad9b51c",
   "metadata": {},
   "source": [
    "### **Soal 4 - Immutability pada Tuple**\n",
    "**Contoh Kode:**\n",
    "\n",
    "<img src=\"Screenshot (4).png\" alt=\"Deskripsi Gambar\" width=\"450\" style=\"margin-left: 30px;\" />\n",
    "\n",
    "**Instruksi:**\n",
    "1. Buat sebuah Tuple berisi nama-nama kota.\n",
    "2. Coba ubah salah satu elemen dalam Tuple, dan perhatikan error yang terjadi.\n",
    "3. Jelaskan mengapa Tuple tidak bisa diubah.\n",
    "\n",
    "\n",
    "\n",
    "---\n"
   ]
  },
  {
   "cell_type": "code",
   "execution_count": 34,
   "id": "6def281a-5cfc-46d7-9f31-dd7eb60a23f0",
   "metadata": {
    "id": "ea6a12c4-1360-4bfe-a05f-4098604926bc"
   },
   "outputs": [
    {
     "ename": "SyntaxError",
     "evalue": "unterminated string literal (detected at line 2) (166070839.py, line 2)",
     "output_type": "error",
     "traceback": [
      "\u001b[1;36m  Cell \u001b[1;32mIn[34], line 2\u001b[1;36m\u001b[0m\n\u001b[1;33m    kota = [Jakarta\",\"Surabaya\",\"Bandung\"]\u001b[0m\n\u001b[1;37m                                        ^\u001b[0m\n\u001b[1;31mSyntaxError\u001b[0m\u001b[1;31m:\u001b[0m unterminated string literal (detected at line 2)\n"
     ]
    }
   ],
   "source": [
    "# Ketikan Code Disini lalu Jalankan (Run)\n",
    "kota = [Jakarta\",\"Surabaya\",\"Bandung\"]\n",
    "kota[0] = \"Yogyakarta\"\n",
    "\n",
    "\n",
    "#kenapa tuple tidak bisa di ubah?\n",
    "#karena tuple bersifat immutable tidak dapat di ubah dan methodnya juga sedikit dan juga tuple memiliki nilai mutlak tidak seperti list."
   ]
  },
  {
   "cell_type": "markdown",
   "id": "eba9055b-40e1-418c-89e0-018e2ce1016e",
   "metadata": {},
   "source": [
    "# Jelaskan  Kesimpulan dari Pertemuan kali ini Dengan Format Markdown, Min.3 Baris\n",
    "# Note: nilai plus buat yang masukkan gambar, visualisasi penjelasan, dan table penjelasan\n",
    "**Kesimpulan Dari Praktikum 7, tuple Kali Ini Adalah** <br>\n",
    "Apa itu tuple?, Tuple adalah tipe data koleksi seperti List, namun elemen-elemen di \n",
    "dalam Tuple bersifat immutable (tidak dapat diubah). Tuple digunakan saat ingin menyimpan data yang tidak akan diubah setelah dideklarasikan.<br>\n",
    "*-Tuple didefinisikan dengan tanda kurung biasa ( ) dan elemen-elemen di dalamnya dipisahkan oleh koma.*<br>\n",
    "*-Method pada fungsi tuple lebih sedikit di bandingkan dengan list*<br>\n",
    "*-Elemen di dalam tuple tidak bisa di ubah atau di tambahkan, akan tetapi tuple bisa di tambah dengan tuple yang lainnya dengan operasi (+)*<br>\n",
    "<br>\n",
    "**Pemahaman dari perbedaan tuple dan list** <br>\n",
    "Pada praktek tuple kali ini dapat di pahami perbedaan dari tuple dan list, list lebih banyak menggunakan method sedangkan tuple sedikit,<br>\n",
    "tuple memiliki nilai yang mutlak sehingga tidak dapat di ubah, sedangkan list dapat di ubah dengan fungsi/method yang sudah ada, <br>\n",
    "dan juga tuple di gunakan untuk menghitung nilai/elemen/indeks yang ada di tuple dan tuple memiliki nilai yang mutlak. <br>\n",
    "<br>\n",
    "\n",
    "**Perbedaan List dan Tuple**\n",
    "\n",
    "| **List**                        | **Tuple**                        |\n",
    "|----------------------------------|----------------------------------|\n",
    "| Elemen **dapat diubah** (mutable). | Elemen **tidak dapat diubah** (immutable). |\n",
    "| Didefinisikan dengan tanda kurung siku `[ ]`. | Didefinisikan dengan tanda kurung biasa `( )`. |\n",
    "| Memiliki lebih banyak method untuk manipulasi data. | Method lebih sedikit karena bersifat immutable. |\n",
    "| Lebih lambat dibandingkan Tuple dalam hal performa. | Lebih cepat dan efisien dalam hal performa. |\n",
    "<br>\n",
    "**Note :** <br>\n",
    "<img src=\"info1.png\" widht=\"500px\"/> <br>\n",
    "Sesuai dengan penjelasan yang ada, tuple di gunakan untuk menghitung elemen yang ada dan tidak dapat di ubah seperti list dan juga,<br>\n",
    "sesuai dengan code di atas tuple tersebut melakukan method/fungsi len,index,dan count untuk menentukan elemen yang ada di tuple sesuai dengan operasinya<br>\n",
    "<br>\n",
    "<img src=\"info2.png\" widht=\"500px\"/> <br>\n",
    "tuple bisa di gunakan untuk unpacking data sesuai indeks yang ada di dalam tuple."
   ]
  },
  {
   "cell_type": "code",
   "execution_count": null,
   "id": "488680da-89f9-4c24-9f59-2e10f7694d61",
   "metadata": {},
   "outputs": [],
   "source": [
    "#kota = (\"Jakarta\",\"Surabaya\",\"Bandung\")\n",
    "#kota = kota + (\"Tenggarong\",) #bukan menambah elemen tetapi menggabung 2 tuple di gabung menjadi 1\n",
    "#print(kota) "
   ]
  }
 ],
 "metadata": {
  "colab": {
   "provenance": []
  },
  "kernelspec": {
   "display_name": "Python 3 (ipykernel)",
   "language": "python",
   "name": "python3"
  },
  "language_info": {
   "codemirror_mode": {
    "name": "ipython",
    "version": 3
   },
   "file_extension": ".py",
   "mimetype": "text/x-python",
   "name": "python",
   "nbconvert_exporter": "python",
   "pygments_lexer": "ipython3",
   "version": "3.12.4"
  },
  "widgets": {
   "application/vnd.jupyter.widget-state+json": {
    "state": {},
    "version_major": 2,
    "version_minor": 0
   }
  }
 },
 "nbformat": 4,
 "nbformat_minor": 5
}
