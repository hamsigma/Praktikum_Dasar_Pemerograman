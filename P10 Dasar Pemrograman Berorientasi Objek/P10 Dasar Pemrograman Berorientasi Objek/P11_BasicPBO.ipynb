{
 "cells": [
  {
   "cell_type": "markdown",
   "id": "b3450a5a-c882-48e6-8aae-8be59018aedb",
   "metadata": {
    "id": "b3450a5a-c882-48e6-8aae-8be59018aedb"
   },
   "source": [
    "# **Modul Pertemuan 11: Dasar Pemrograman Berorientasi Objek**\n",
    "\n",
    "## **Pembahasan**\n",
    "\n",
    "### **1. Kelas dan Objek**\n",
    "\n",
    "Dalam pemrograman berorientasi objek (OOP), *kelas* merupakan blueprint atau cetak biru dari objek. Kelas mendefinisikan atribut (variabel) dan perilaku (method) yang dimiliki oleh objek yang dibuat dari kelas tersebut. Misalnya, kita bisa membayangkan kelas sebagai rancangan dari sebuah mobil, dan mobil yang sebenarnya adalah objek.\n",
    "\n",
    "Berikut contoh sederhana sebuah kelas:\n",
    "\n",
    "```python\n",
    "class Motor:\n",
    "    merek = \"Honda\"\n",
    "    warna = \"Merah\"\n",
    "\n",
    "    def jalan(self):\n",
    "        print(f\"Motor dengan warna {self.warna} sedang jalan\")\n",
    "```\n",
    "\n",
    "### **2. Instansiasi Objek**\n",
    "\n",
    "Untuk membuat objek dari suatu kelas, kita melakukan instansiasi dengan cara memanggil nama kelas seperti memanggil fungsi. Setiap objek yang dibuat dari kelas tersebut memiliki atribut dan method yang dapat diakses menggunakan operator dot (`.`).\n",
    "\n",
    "Contoh pembuatan objek dari kelas `Motor`:\n",
    "\n",
    "```python\n",
    "motor_saya = Motor()\n",
    "motor_saya.jalan()  # Output: Motor dengan warna Merah sedang jalan\n",
    "```\n",
    "\n",
    "### **3. Method dalam Kelas**\n",
    "\n",
    "Method dalam kelas berfungsi seperti fungsi, namun terkait dengan objek atau kelas. Method dapat melakukan tugas tertentu, seperti menghitung atau menampilkan informasi. Method juga bisa menerima parameter, dengan *self* sebagai parameter pertama yang wajib ada.\n",
    "\n",
    "### **4. Constructor (`__init__` Method)**\n",
    "\n",
    "Constructor adalah method khusus yang dijalankan otomatis ketika objek baru dibuat. Dalam Python, constructor didefinisikan dengan method `__init__()`. Ini sering digunakan untuk memberikan nilai awal pada atribut objek.\n",
    "\n",
    "Contoh constructor pada kelas `Balok`:\n",
    "\n",
    "```python\n",
    "class Balok:\n",
    "    def __init__(self, p, l, t):\n",
    "        self.panjang = p\n",
    "        self.lebar = l\n",
    "        self.tinggi = t\n",
    "\n",
    "    def volume(self):\n",
    "        return self.panjang * self.lebar * self.tinggi\n",
    "```\n",
    "\n",
    "Instansiasi objek dengan constructor:\n",
    "\n",
    "```python\n",
    "kotak = Balok(3, 4, 5)\n",
    "print(\"Volume balok:\", kotak.volume())  # Output: Volume balok: 60\n",
    "```\n",
    "\n",
    "---\n",
    "\n",
    "## **Tugas**\n",
    "**Note:** Gunakan logika pemrograman bukan cuman ngikutin gambar. Baca betul-betul apa yang di intruksikan!!"
   ]
  },
  {
   "attachments": {},
   "cell_type": "markdown",
   "id": "e989c82b-4c5e-4eaf-9152-4a4c9a494b65",
   "metadata": {},
   "source": [
    "### **Soal 1: Membuat Kelas Sederhana**\n",
    "\n",
    "#### **Instruksi:**\n",
    "1. Buatlah kelas `Mahasiswa` yang memiliki atribut `nama`, `nim`, dan `jurusan`.\n",
    "2. Buatlah method `info` dalam kelas tersebut yang mencetak informasi mahasiswa.\n",
    "3. Instansiasikan objek dari kelas `Mahasiswa` dan tampilkan informasi mahasiswa menggunakan method `info`.\\\n",
    "4. Jelaskan code dan outputnya\n",
    "5. Jelaskan apa itu ```__init__```\n",
    "\n",
    "Contoh format kode yang benar:\n",
    "\n",
    "<img src=\"Screenshot (1).png\" alt=\"Deskripsi Gambar\" width=\"550\" style=\"margin-left: 30px;\" />\n",
    "---\n",
    "\n"
   ]
  },
  {
   "cell_type": "code",
   "execution_count": 21,
   "id": "b4beb5da-51a9-47ff-a732-d6cf9247ae74",
   "metadata": {
    "id": "ea6a12c4-1360-4bfe-a05f-4098604926bc"
   },
   "outputs": [
    {
     "name": "stdout",
     "output_type": "stream",
     "text": [
      "Nama: Ilham Ramadhani, Nim: 2411102441066, Jurusan: Teknik Informatika\n",
      "Halo!, nama saya Ilham Ramadhani, Nim saya 2411102441066, dan saya berasal dari jurusan Teknik Informatika, Saya dari kelas B\n"
     ]
    }
   ],
   "source": [
    "# Ketikan Code Disini lalu Jalankan (Run)\n",
    "class Mahasiswa: #Class Mahasiswa\n",
    "    def __init__(self,nama,nim,jurusan): #menggunakan def dan menggunakan fungsi init dengan parameter (self nama nim jurusan)\n",
    "        self.nama = nama #menginisialisasi atribut nama\n",
    "        self.nim = nim #menginisialisasi atribut nim\n",
    "        self.jurusan = jurusan #menginisialiasai atribut jurusan\n",
    "      \n",
    "    def info(self): #lalu gunakan metode, def dengan fungsi nya info dengan parameter self \n",
    "        print(f\"Nama: {self.nama}, Nim: {self.nim}, Jurusan: {self.jurusan}\") #tampilkan dengan f string yang berisikan nama nim dan jurusan\n",
    "        \n",
    "    def perkenalan(self): #dan ini metode perkenalan dengan,  def dan fungsi perkenalan dengan parameter self\n",
    "        print(f\"Halo!, nama saya {self.nama}, Nim saya {self.nim}, dan saya berasal dari jurusan {self.jurusan}, Saya dari kelas B\") #dan menampilkan perkenalan\n",
    "        \n",
    "mhs1 = Mahasiswa(\"Ilham Ramadhani\",2411102441066 , \"Teknik Informatika\") #variable yang berisikan nama nim dan jurusan untuk nanti menampilkan keluaran\n",
    "mhs1.info() # atribut untuk menampilkan info yang ada di kelas mahasiswa dan metode info\n",
    "mhs1.perkenalan() #atribut untuk menampilkan perkenalan yang ada di metode perkenalan\n",
    "\n",
    "#(__init__ adalah metode khusus dalam Python yang berfungsi sebagai konstruktor untuk kelas.\n",
    "# Metode ini dipanggil secara otomatis ketika Anda membuat objek baru dari kelas tersebut.)\n",
    "#sehingga ketika membuat metode yang lain tidak ribet dan banyak menambahkan code\n",
    "\n",
    "# Inisialisasi Atribut Objek: Metode __init__ digunakan untuk menginisialisasi atribut (variabel) dari objek yang baru dibuat.\n",
    "# Ini memungkinkan untuk menetapkan nilai awal untuk atribut-atribut tersebut ketika objek diciptakan.\n",
    "#( Menerima Parameter: dapat mendefinisikan parameter dalam metode __init__,\n",
    "# yang memungkinkan untuk memberikan nilai saat membuat objek. )\n",
    "# (Parameter ini dapat digunakan untuk mengatur nilai awal dari atribut objek.\n",
    "# Menentukan Logika Inisialisasi: Selain menginisialisasi atribut, \n",
    "# dapat menambahkan logika lain dalam metode __init__, seperti validasi input atau pengaturan nilai default.)\n",
    "\n",
    "#(info untuk menampilkan informasi tentang objek yang telah dibuat.)\n"
   ]
  },
  {
   "cell_type": "markdown",
   "id": "28e24639-72f7-4d78-8169-b805c5bee744",
   "metadata": {},
   "source": [
    "### **Soal 2: Menambah Method dalam Kelas**\n",
    "\n",
    "#### **Instruksi:**\n",
    "1. Tambahkan method baru bernama `perkenalan` dalam kelas `Mahasiswa` yang menampilkan pesan perkenalan dari mahasiswa.\n",
    "2. Gunakan method tersebut untuk memperkenalkan diri dari objek yang telah Anda buat.\n",
    "\n",
    "Contoh penggunaan:\n",
    "\n",
    "```python\n",
    "mhs1.perkenalan()\n",
    "```\n",
    "\n",
    "---\n",
    "\n"
   ]
  },
  {
   "cell_type": "code",
   "execution_count": 22,
   "id": "b3f87cea-e50a-46fd-820f-bc12703db8da",
   "metadata": {
    "id": "ea6a12c4-1360-4bfe-a05f-4098604926bc"
   },
   "outputs": [
    {
     "name": "stdout",
     "output_type": "stream",
     "text": [
      "Halo!, nama saya Ilham Ramadhani, Nim saya 2411102441066, dan saya berasal dari jurusan Teknik Informatika, Saya dari kelas B\n"
     ]
    }
   ],
   "source": [
    "# Ketikan Code Disini lalu Jalankan (Run)\n",
    "mhs1.perkenalan() #atribut untuk memanggil perkenalan dari kelas mahasiswa."
   ]
  },
  {
   "cell_type": "markdown",
   "id": "04451d75-fd5c-418f-b2b3-bfe3ca35497d",
   "metadata": {},
   "source": [
    "### **Soal 3: Membuat Kelas dengan Constructor**\n",
    "\n",
    "#### **Instruksi:**\n",
    "1. Buatlah kelas `PersegiPanjang` yang memiliki atribut `panjang` dan `lebar`.\n",
    "2. Buatlah method `luas` yang menghitung luas persegi panjang.\n",
    "3. Buatlah method `keliling` yang menghitung keliling persegi panjang.\n",
    "4. Instansiasikan objek dari kelas tersebut dan tampilkan luas dan kelilingnya.\n",
    "5. Jelaskan Code serta outputnya\n",
    "6. Perbaiki markdown ini menjadi jelas\n",
    "\n",
    "Contoh format kode yang salah:\n",
    "\n",
    "<img src=\"Screenshot (2).png\" alt=\"Deskripsi Gambar\" width=\"450\" style=\"margin-left: 30px;\" />\n",
    "---\n"
   ]
  },
  {
   "cell_type": "code",
   "execution_count": 24,
   "id": "75357d06-3bb8-4b42-94cf-f4b2be24a792",
   "metadata": {
    "id": "ea6a12c4-1360-4bfe-a05f-4098604926bc"
   },
   "outputs": [
    {
     "name": "stdout",
     "output_type": "stream",
     "text": [
      "Luas Persegi Panjang: 20\n",
      "Keliling Persegi Panjang: 18\n"
     ]
    }
   ],
   "source": [
    "# Ketikan Code Disini lalu Jalankan (Run)\n",
    "class persegipanjang: #Class persegi panjang\n",
    "    def __init__ (self ,panjang, lebar): #metode dengan fungsi __init__ dengan parameter self panjang dan lebar\n",
    "        self.panjang = panjang #menginisialisasi panjang\n",
    "        self.lebar = lebar #menginisialisasi panjang\n",
    "        \n",
    "    def luas(self): #metode untuk mencari luas Pp\n",
    "        return self.panjang * self.lebar #mengembalikan nilai untuk menghitung panjang di kali lebar\n",
    "    \n",
    "    def keliling(self): #metode untuk mencari keliling Pp\n",
    "        return 2 * (self.panjang + self.lebar) #mengembalikan nilai 2 kali panjang + lebar\n",
    "    \n",
    "Pp = persegipanjang(4,5) #variable Pp(persegi panjang)yang berisikan persegi panjang dengan P(4) L(5)\n",
    "print(\"Luas Persegi Panjang:\", Pp.luas()) #output untuk luas pp\n",
    "print(\"Keliling Persegi Panjang:\", Pp.keliling()) #output untuk keliling pp"
   ]
  },
  {
   "cell_type": "markdown",
   "id": "2b0246ff-584f-4484-b52d-18733bcde7ae",
   "metadata": {},
   "source": [
    "### **Soal 4: Membuat Kelas dengan Method Tambahan**\n",
    "\n",
    "#### **Instruksi:**\n",
    "1. Buatlah kelas `Lingkaran` yang memiliki atribut `jari_jari`.\n",
    "2. Buatlah method `luas` yang menghitung luas lingkaran (rumus: \\( \\pi r^2 \\)).\n",
    "3. Buatlah method `keliling` yang menghitung keliling lingkaran (rumus: \\( 2\\pi r \\)).\n",
    "4. Tambahkan constructor untuk menginisialisasi atribut `jari_jari`.\n",
    "5. Instansiasikan objek dan hitung luas serta keliling lingkaran.\n",
    "\n",
    "Contoh penggunaan:\n",
    "\n",
    "<img src=\"Screenshot (3).png\" alt=\"Deskripsi Gambar\" width=\"450\" style=\"margin-left: 30px;\" />\n",
    "\n",
    "---\n",
    "\n"
   ]
  },
  {
   "cell_type": "code",
   "execution_count": 26,
   "id": "a61ed888-46f5-4412-bffe-22824dc41f1e",
   "metadata": {
    "id": "ea6a12c4-1360-4bfe-a05f-4098604926bc"
   },
   "outputs": [
    {
     "name": "stdout",
     "output_type": "stream",
     "text": [
      "Luas Lingkaran: 153.86\n",
      "Keliling Lingkaran: 43.96\n"
     ]
    }
   ],
   "source": [
    "# Ketikan Code Disini lalu Jalankan (Run)\n",
    "class lingkaran:\n",
    "    pi = 3.14\n",
    "    \n",
    "    def __init__(self,jari_jari):\n",
    "        self.jari_jari = jari_jari\n",
    "   \n",
    "    def luas(self):\n",
    "        return self.pi * (self.jari_jari ** 2 )\n",
    "    \n",
    "    def keliling(self):\n",
    "        return 2 * self.pi * self.jari_jari\n",
    "    \n",
    "lingkaran = lingkaran(7)\n",
    "print(\"Luas Lingkaran:\", lingkaran.luas())\n",
    "print(\"Keliling Lingkaran:\", lingkaran.keliling())"
   ]
  },
  {
   "cell_type": "markdown",
   "id": "027609a3-346c-4999-a485-772128a8bb6a",
   "metadata": {},
   "source": [
    "### **Soal 5: Memodifikasi Kelas dengan Logika Tambahan**\n",
    "\n",
    "#### **Instruksi:**\n",
    "1. Buat kelas `Karyawan` yang memiliki atribut `nama`, `gaji`, dan `jabatan`.\n",
    "2. Tambahkan method `kenaikan_gaji` yang akan menghitung kenaikan gaji karyawan berdasarkan jabatan:\n",
    "   - Jika jabatan \"Manager\", naikkan gaji 10%.\n",
    "   - Jika jabatan \"Staf\", naikkan gaji 5%.\n",
    "3. Tambahkan method `info` untuk mencetak informasi karyawan termasuk gaji setelah kenaikan.\n",
    "4. Instansiasikan objek karyawan dan panggil method `kenaikan_gaji`.\n",
    "\n",
    "Contoh format kode:\n",
    "\n",
    "<img src=\"Screenshot (4).png\" alt=\"Deskripsi Gambar\" width=\"550\" style=\"margin-left: 30px;\" />\n",
    "\n",
    "---"
   ]
  },
  {
   "cell_type": "code",
   "execution_count": 27,
   "id": "ea6a12c4-1360-4bfe-a05f-4098604926bc",
   "metadata": {
    "id": "ea6a12c4-1360-4bfe-a05f-4098604926bc"
   },
   "outputs": [
    {
     "name": "stdout",
     "output_type": "stream",
     "text": [
      "Nama: Budi, Jabatan: Manager, Gaji: 5500000.0\n"
     ]
    }
   ],
   "source": [
    "# Ketikan Code Disini lalu Jalankan (Run)\n",
    "class karyawan:\n",
    "    def __init__(self, nama, gaji, jabatan):\n",
    "        self.nama = nama\n",
    "        self.gaji = gaji\n",
    "        self.jabatan = jabatan\n",
    "    \n",
    "    def kenaikan_gaji(self):\n",
    "        if self.jabatan == \"Manager\":\n",
    "            self.gaji *= 1.10\n",
    "        elif self.jabatan == \"Staf\":\n",
    "            self.gaji *= 1.05 \n",
    "            \n",
    "    def info(self):\n",
    "        print(f\"Nama: {self.nama}, Jabatan: {self.jabatan}, Gaji: {self.gaji}\")\n",
    "        \n",
    "karyawan1 = karyawan(\"Budi\", 5000000, \"Manager\")\n",
    "karyawan1.kenaikan_gaji()\n",
    "karyawan1.info()\n",
    "        "
   ]
  },
  {
   "cell_type": "markdown",
   "id": "f63cf7a0-cc5a-449e-9f7d-c14947ba96a3",
   "metadata": {},
   "source": [
    "<span style=\"color:red; font-size: 20px;\">\n",
    "<b>Tugas Mandiri </b>\n",
    "</span>\n",
    "\n",
    "1. **Inheritance:** Modifikasilah kelas `Karyawan` sehingga memiliki subclass bernama `KaryawanIT` yang memiliki tambahan atribut `keahlian`. Tambahkan method `info` di subclass untuk mencetak informasi lengkap tentang karyawan IT.\n",
    "   \n",
    "2. **Polimorfisme:** Buatlah dua kelas yang mewakili dua jenis kendaraan, misalnya `Mobil` dan `Motor`, keduanya memiliki method `jalan()` yang menampilkan pesan berbeda. Buatlah program yang memanfaatkan polimorfisme untuk memanggil method `jalan()` pada masing-masing objek.\n"
   ]
  },
  {
   "cell_type": "code",
   "execution_count": 36,
   "id": "f35c2ac5-0bde-47f0-ba6c-ec52de9d14be",
   "metadata": {
    "id": "ea6a12c4-1360-4bfe-a05f-4098604926bc"
   },
   "outputs": [
    {
     "name": "stdout",
     "output_type": "stream",
     "text": [
      "Nama: Nabil, Jabatan: Manager, Gaji: 11000000.0\n",
      "Nama: Angga, Jabatan: Superintandent, Gaji: 1000000, Keahlian: Programing\n",
      "/n\n",
      "Motor: Honda Beat mberr, Dengan CC motor: 160, Kecepatan: melaju dengan kecepatan 140 km/h dan limit 142 km/h\n",
      "Mobil: Toyota Ae86, Dengan CC mobil: 1.587, Kecepatan: melaju dengan kecepatan 300 km/h dan limit 320 km/h\n"
     ]
    }
   ],
   "source": [
    "# Ketikan Code Disini lalu Jalankan (Run)\n",
    "#Inheritance\n",
    "class karyawan:\n",
    "    def __init__(self, nama, gaji, jabatan):\n",
    "        self.nama = nama\n",
    "        self.gaji = gaji\n",
    "        self.jabatan = jabatan\n",
    "        \n",
    "    def kenaikan_gaji(self):\n",
    "        if self.jabatan == \"Manager\":\n",
    "            self.gaji *= 1.10\n",
    "        elif self.jabatan == \"Staf\":\n",
    "            self.gaji *= 1.05\n",
    "            \n",
    "    def info(self):\n",
    "        print(f\"Nama: {self.nama}, Jabatan: {self.jabatan}, Gaji: {self.gaji}\")\n",
    "\n",
    "class karyawanIT(karyawan):\n",
    "    def __init__(self, nama, gaji, jabatan, keahlian):\n",
    "        super().__init__(nama, gaji, jabatan)\n",
    "        self.keahlian = keahlian\n",
    "    \n",
    "    def info(self):\n",
    "        print(f\"Nama: {self.nama}, Jabatan: {self.jabatan}, Gaji: {self.gaji}, Keahlian: {self.keahlian}\")\n",
    "        \n",
    "karyawan1 = karyawan(\"Nabil\", 10000000, \"Manager\")\n",
    "karyawan1.kenaikan_gaji()\n",
    "karyawan1.info()\n",
    "\n",
    "karyawan2 = karyawanIT(\"Angga\", 1000000, \"Superintandent\", \"Programing\")\n",
    "karyawan2.kenaikan_gaji()\n",
    "karyawan2.info()\n",
    "\n",
    "print(\"/n\")\n",
    "\n",
    "#Polimorfisme\n",
    "class motor:\n",
    "    def __init__(self, jenis, cc, kecepatan):\n",
    "        self.jenis = jenis\n",
    "        self.cc = cc\n",
    "        self.kecepatan = kecepatan\n",
    "    def jalan(self):\n",
    "        print(f\"Motor: {self.jenis}, Dengan CC motor: {self.cc}, Kecepatan: {self.kecepatan}\")\n",
    "        \n",
    "class mobil:\n",
    "    def __init__(self, jenis, cc, kecepatan):\n",
    "        self.jenis = jenis\n",
    "        self.cc = cc\n",
    "        self.kecepatan = kecepatan\n",
    "    def jalan(self):\n",
    "        print(f\"Mobil: {self.jenis}, Dengan CC mobil: {self.cc}, Kecepatan: {self.kecepatan}\")\n",
    "        \n",
    "pembalap = motor(\"Honda Beat mberr\", 160, \"melaju dengan kecepatan 140 km/h dan limit 142 km/h\")\n",
    "pembalap.jalan()\n",
    "\n",
    "tukangdrift = mobil(\"Toyota Ae86\", 1.587, \"melaju dengan kecepatan 300 km/h dan limit 320 km/h\")\n",
    "tukangdrift.jalan()\n",
    "        \n",
    "\n",
    "        "
   ]
  },
  {
   "cell_type": "markdown",
   "id": "93cdda36-f71b-4995-a92f-b5682f5246f6",
   "metadata": {},
   "source": [
    "# Jelaskan  Kesimpulan dari Pertemuan kali ini Dengan Format Markdown, Min.3 Baris\n",
    "# Note: nilai plus buat yang masukkan gambar, visualisasi penjelasan, dan table penjelasan\n",
    "**Kesimpulan Dari Praktikum 11, PBO Adalah** <br>\n",
    "**PBO** <br>\n",
    "PBO (Pemrograman Berorientasi Objek) atau OOP (Object-Oriented Programming) adalah paradigma pemrograman yang menggunakan \"objek\" sebagai dasar untuk membangun program. Dalam OOP, objek adalah entitas yang memiliki data (atribut) dan perilaku (metode) yang terkait. Konsep dasar dari OOP membantu dalam merancang dan mengorganisir kode dengan cara yang lebih modular dan terstruktur.<br>\n",
    ". Kelas (Class)\n",
    "Kelas adalah cetak biru atau template untuk membuat objek. Kelas mendefinisikan atribut dan metode yang akan dimiliki oleh objek yang dibuat dari kelas tersebut.\n",
    "\n",
    "```python\n",
    "class Mobil:\n",
    "    def __init__(self, merek, model):\n",
    "        self.merek = merek\n",
    "        self.model = model\n",
    "\n",
    "    def info(self):\n",
    "        return f\"{self.merek} {self.model}\"\n",
    "```\n",
    "\n",
    "Objek (Object)\n",
    "Objek adalah instans dari kelas. Setiap objek dapat memiliki data yang berbeda meskipun berasal dari kelas yang sama.\n",
    "``` python\n",
    "mobil1 = Mobil(\"Toyota\", \"Camry\")\n",
    "mobil2 = Mobil(\"Honda\", \"Civic\")\n",
    "\n",
    "print(mobil1.info())  # Output: Toyota Camry\n",
    "print(mobil2.info())  # Output: Honda Civic\n",
    "```\n",
    "<br>\n",
    "Instansiasi Objek\n",
    "<br>\n",
    "Untuk membuat objek dari suatu kelas, kita melakukan instansiasi dengan cara memanggil nama kelas seperti memanggil fungsi. Setiap objek yang dibuat dari kelas tersebut memiliki atribut dan method yang dapat diakses menggunakan operator dot (`.`).\n",
    "<br>\n",
    "Method dalam Kelas#\n",
    "<br>\n",
    "Method dalam kelas berfungsi seperti fungsi, namun terkait dengan objek atau kelas. Method dapat melakukan tugas tertentu, seperti menghitung atau menampilkan informasi. Method juga bisa menerima parameter, dengan *self* sebagai parameter pertama yang wajib ada.\n",
    "<br>\n",
    "Constructor (`__init__` Method)\n",
    "<br>\n",
    "Constructor adalah method khusus yang dijalankan otomatis ketika objek baru dibuat. Dalam Python, constructor didefinisikan dengan method `__init__()`. Ini sering digunakan untuk memberikan nilai awal pada atribut objek.\n",
    "<br>\n",
    "**Note :** <br>\n",
    "penggunaan metode init, untuk menginstasiasi nilai\n",
    "<img src=\"140.png\" widht=\"500px\"/> <br>\n",
    "\n",
    "<img src=\"141.png\" widht=\"500px\"/> <br>\n",
    "\n",
    "<img src=\"142.png\" widht=\"500px\"/> <br>\n",
    "sesuai yang udah di jelaskan di code"
   ]
  },
  {
   "cell_type": "markdown",
   "id": "8ff3150e",
   "metadata": {},
   "source": []
  }
 ],
 "metadata": {
  "colab": {
   "provenance": []
  },
  "kernelspec": {
   "display_name": "Python 3 (ipykernel)",
   "language": "python",
   "name": "python3"
  },
  "language_info": {
   "codemirror_mode": {
    "name": "ipython",
    "version": 3
   },
   "file_extension": ".py",
   "mimetype": "text/x-python",
   "name": "python",
   "nbconvert_exporter": "python",
   "pygments_lexer": "ipython3",
   "version": "3.12.4"
  },
  "widgets": {
   "application/vnd.jupyter.widget-state+json": {
    "state": {},
    "version_major": 2,
    "version_minor": 0
   }
  }
 },
 "nbformat": 4,
 "nbformat_minor": 5
}
