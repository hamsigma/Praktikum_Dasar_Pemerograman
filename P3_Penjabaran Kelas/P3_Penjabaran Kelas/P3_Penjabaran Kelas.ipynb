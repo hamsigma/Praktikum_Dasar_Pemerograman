{
 "cells": [
  {
   "cell_type": "markdown",
   "id": "f19e9420-fb52-496b-9360-72836109d9b5",
   "metadata": {},
   "source": [
    "# **LAPORAN PRAKTIKUM 3**\n",
    "## ALGORITMA & STRUKTUR DATA – **Struktur Kontrol dan Exception Handling dalam Python**  \n",
    "### **Program Studi Teknik Informatika – Universitas Muhammadiyah Kalimantan Timur**  \n",
    "\n",
    "---\n",
    "\n"
   ]
  },
  {
   "cell_type": "markdown",
   "id": "3a120962-0d8c-4812-8790-d397b7b945d0",
   "metadata": {},
   "source": [
    "## Identitas Mahasiswa\n",
    "NAMA    : ...\n",
    "\n",
    "NIM     : ...\n",
    "\n",
    "KELAS   : ...\n",
    "\n",
    "---"
   ]
  },
  {
   "cell_type": "markdown",
   "id": "b44fcfba-b950-4a24-a67e-5bf9c0f8901c",
   "metadata": {},
   "source": [
    "## **1. Pendahuluan**\n",
    "Pada praktikum ini, kita akan mempelajari konsep **struktur kontrol** dan **exception handling** dalam Python. Struktur kontrol mencakup percabangan (`if`, `elif`, `else`) dan perulangan (`for`, `while`), yang digunakan untuk mengatur alur eksekusi program berdasarkan kondisi tertentu. Selain itu, **exception handling** (`try`, `except`, `finally`) digunakan untuk menangani kesalahan dalam program agar tidak menyebabkan crash.\n",
    "\n",
    "## **2. Tujuan Praktikum**\n",
    "- Memahami dan mengimplementasikan struktur kontrol dalam Python.\n",
    "- Menggunakan percabangan untuk pengambilan keputusan dalam program.\n",
    "- Menggunakan perulangan untuk menjalankan tugas berulang kali secara efisien.\n",
    "- Memahami konsep exception handling untuk menangani error dalam program.\n",
    "\n",
    "## **3. Materi**\n",
    "### **3.1 Percabangan (Conditional Statements)**\n",
    "Percabangan digunakan untuk mengeksekusi kode berdasarkan kondisi tertentu.\n",
    "\n",
    "```python\n",
    "x = 10\n",
    "if x > 5:\n",
    "    print(\"Nilai x lebih besar dari 5\")\n",
    "elif x == 5:\n",
    "    print(\"Nilai x adalah 5\")\n",
    "else:\n",
    "    print(\"Nilai x kurang dari 5\")\n",
    "```\n",
    "\n",
    "### **3.2 Perulangan (Loops)**\n",
    "#### **3.2.1 Perulangan `for`**\n",
    "Digunakan untuk mengiterasi elemen dalam suatu koleksi atau rentang nilai.\n",
    "\n",
    "```python\n",
    "for i in range(5):\n",
    "    print(\"Iterasi ke-\", i)\n",
    "```\n",
    "\n",
    "#### **3.2.2 Perulangan `while`**\n",
    "Digunakan untuk mengulang kode selama kondisi tertentu bernilai `True`.\n",
    "\n",
    "```python\n",
    "x = 0\n",
    "while x < 5:\n",
    "    print(\"Nilai x:\", x)\n",
    "    x += 1\n",
    "```\n",
    "\n",
    "### **3.3 Exception Handling**\n",
    "Digunakan untuk menangani error dalam program agar tidak menyebabkan crash.\n",
    "\n",
    "```python\n",
    "try:\n",
    "    angka = int(input(\"Masukkan angka: \"))\n",
    "    hasil = 10 / angka\n",
    "    print(\"Hasil:\", hasil)\n",
    "except ZeroDivisionError:\n",
    "    print(\"Error: Pembagian dengan nol tidak diperbolehkan!\")\n",
    "except ValueError:\n",
    "    print(\"Error: Input harus berupa angka!\")\n",
    "finally:\n",
    "    print(\"Program selesai.\")\n",
    "```\n",
    "\n",
    "---"
   ]
  },
  {
   "cell_type": "code",
   "execution_count": null,
   "id": "ba8efdef-bec4-456a-8687-6ee82137865d",
   "metadata": {},
   "outputs": [],
   "source": [
    "# Jelaskan apa yang anda pahami dari penjelasan di atas\n"
   ]
  },
  {
   "cell_type": "markdown",
   "id": "748f86b9-93df-47e0-bd39-39f346d94a65",
   "metadata": {},
   "source": [
    "## **4. Soal Praktikum**\n",
    "\n",
    "### **Soal 1: Percabangan**\n",
    "<img src=\"1.jpg\" width=\"650px\" alt=\"Deskripsi Gambar\" />"
   ]
  },
  {
   "cell_type": "code",
   "execution_count": null,
   "id": "e8b51e5c-d2b1-465f-be74-3f6a24974b3d",
   "metadata": {},
   "outputs": [],
   "source": []
  },
  {
   "cell_type": "markdown",
   "id": "a2bbf7ac-ff63-4155-8dbd-640e4fdeb329",
   "metadata": {},
   "source": [
    "### **Soal 2: Perulangan `for`**\n",
    "<img src=\"2.jpg\" width=\"650px\" alt=\"Deskripsi Gambar\" />\n",
    "\n"
   ]
  },
  {
   "cell_type": "code",
   "execution_count": 1,
   "id": "fde355f5-f7e5-4408-b87c-bfb4f2b91859",
   "metadata": {},
   "outputs": [
    {
     "name": "stdout",
     "output_type": "stream",
     "text": [
      "False\n"
     ]
    }
   ],
   "source": [
    "# Ketikan kode dan penjelasan disini!\n"
   ]
  },
  {
   "cell_type": "markdown",
   "id": "bf4b16ed-3d15-43af-a2c9-9a9e3e673bab",
   "metadata": {},
   "source": [
    "### **Soal 3: Perulangan `while`**\n",
    "<img src=\"3.jpg\" width=\"650px\" alt=\"Deskripsi Gambar\" />"
   ]
  },
  {
   "cell_type": "code",
   "execution_count": 1,
   "id": "ecf2371d-3107-4374-905a-55697aa051e5",
   "metadata": {},
   "outputs": [],
   "source": [
    "# Ketikan kode dan penjelasan disini!\n"
   ]
  },
  {
   "cell_type": "markdown",
   "id": "ad7ec3a7-6fd2-4410-9f81-3140438b38c3",
   "metadata": {},
   "source": [
    "### **Soal 4: Exception Handling**\n",
    "\n",
    "<img src=\"4.1.jpg\" width=\"950px\" alt=\"Deskripsi Gambar\" />\n",
    "\n",
    "---\n",
    "\n"
   ]
  },
  {
   "cell_type": "code",
   "execution_count": 1,
   "id": "38882d65-2106-485a-85be-bdde8249fafe",
   "metadata": {},
   "outputs": [],
   "source": [
    "# Ketikan kode dan penjelasan disini!\n"
   ]
  },
  {
   "cell_type": "markdown",
   "id": "260022d6-066d-4422-acf6-f4239f564606",
   "metadata": {},
   "source": [
    "\n",
    "### **Soal 5: Nested If-Else (Penentuan Grade)**\n",
    "<img src=\"5.jpg\" width=\"650px\" alt=\"Deskripsi Gambar\" />"
   ]
  },
  {
   "cell_type": "code",
   "execution_count": 1,
   "id": "4af2ed08-dc93-4df6-9c03-6a885e9e3b14",
   "metadata": {},
   "outputs": [],
   "source": [
    "# Ketikan kode dan penjelasan disini!\n"
   ]
  },
  {
   "cell_type": "markdown",
   "id": "a53e8060-daa7-4b5c-b933-5ef61a3ebd8d",
   "metadata": {},
   "source": [
    "\n",
    "\n",
    "### **Soal 6: Exception Handling (Index Out of Range)**\n",
    "<img src=\"6.jpg\" width=\"950px\" alt=\"Deskripsi Gambar\" />"
   ]
  },
  {
   "cell_type": "code",
   "execution_count": 1,
   "id": "1ab6d0b8-4bef-4fe4-85c5-ccc74d4a2976",
   "metadata": {},
   "outputs": [],
   "source": [
    "# Ketikan kode dan penjelasan disini!\n"
   ]
  },
  {
   "cell_type": "markdown",
   "id": "2addb275-0449-4ec3-8028-47ce3180b1ec",
   "metadata": {},
   "source": [
    "### **5. Studi Literasi**  \n",
    "\n",
    "<img src=\"4.jpg\" width=\"880px\" alt=\"Deskripsi Gambar\" />\n",
    "\n",
    "<img src=\"4.2.jpg\" width=\"880px\" alt=\"Deskripsi Gambar\" />\n",
    "\n",
    "#### **3. Referensi (Jika Ada)**\n",
    "- **Buku / Jurnal:**  \n",
    "  - Silahkan mencantumkan judul, penulis, dan tahun terbit.  \n",
    "- **Sumber Web Online:**  \n",
    "  - Contoh: [Official Python Documentation](https://docs.python.org/3/).  \n",
    "  - Jika mencantumkan URL, tuliskan juga **tanggal akses**.  \n",
    "\n"
   ]
  },
  {
   "cell_type": "code",
   "execution_count": null,
   "id": "8212cb15-3282-40b5-bbb6-315085b4fa7e",
   "metadata": {},
   "outputs": [],
   "source": [
    "# Ketikan penjelasan disini!\n"
   ]
  },
  {
   "cell_type": "markdown",
   "id": "3fde2a88-07f8-463e-bac1-e3a87afdb3b2",
   "metadata": {},
   "source": [
    "---\n",
    "\n",
    "## **5. Format File Tugas**\n",
    "- **Tugas dikumpulkan dalam format Jupyter Notebook (`.ipynb`).**  \n",
    "- Gunakan format Markdown untuk dokumentasi di dalam notebook.\n",
    "- Pastikan setiap bagian memiliki heading (`#` untuk judul, `##` untuk subjudul).  \n",
    "- **File tugas diberi nama: `P3_Nama_NIM.ipynb`**  \n",
    "- **🚨 <span style=\"color:darkred; font-weight:bold; font-size:18px;\">PLAGIAT AKAN DIBERI SANKSI TANPA AMPUN! 🚨</span>**  \n",
    "\n",
    "---"
   ]
  }
 ],
 "metadata": {
  "kernelspec": {
   "display_name": "Python 3 (ipykernel)",
   "language": "python",
   "name": "python3"
  },
  "language_info": {
   "codemirror_mode": {
    "name": "ipython",
    "version": 3
   },
   "file_extension": ".py",
   "mimetype": "text/x-python",
   "name": "python",
   "nbconvert_exporter": "python",
   "pygments_lexer": "ipython3",
   "version": "3.12.2"
  },
  "widgets": {
   "application/vnd.jupyter.widget-state+json": {
    "state": {},
    "version_major": 2,
    "version_minor": 0
   }
  }
 },
 "nbformat": 4,
 "nbformat_minor": 5
}
