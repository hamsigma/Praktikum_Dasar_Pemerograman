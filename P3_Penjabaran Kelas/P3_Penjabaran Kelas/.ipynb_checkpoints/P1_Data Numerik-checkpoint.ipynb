{
 "cells": [
  {
   "cell_type": "markdown",
   "id": "f19e9420-fb52-496b-9360-72836109d9b5",
   "metadata": {},
   "source": [
    "# **LAPORAN PRAKTIKUM 1**  \n",
    "## **ALGORITMA & STRUKTUR DATA – DATA NUMERIK**  \n",
    "### **Program Studi Teknik Informatika – Universitas Muhammadiyah Kalimantan Timur**  \n",
    "\n",
    "---\n",
    "\n"
   ]
  },
  {
   "cell_type": "markdown",
   "id": "3a120962-0d8c-4812-8790-d397b7b945d0",
   "metadata": {},
   "source": [
    "## Identitas Mahasiswa\n",
    "NAMA    : ...\n",
    "\n",
    "NIM     : ...\n",
    "\n",
    "KELAS   : ...\n",
    "\n",
    "---"
   ]
  },
  {
   "cell_type": "markdown",
   "id": "b44fcfba-b950-4a24-a67e-5bf9c0f8901c",
   "metadata": {},
   "source": [
    "## **1. Pendahuluan**  \n",
    "### **1.1 Latar Belakang**  \n",
    "Dalam pemrograman, data numerik sangat penting karena digunakan dalam berbagai operasi matematika dan logika. Python menyediakan beberapa tipe data numerik seperti **integer (`int`)**, **float (`float`)**, dan **complex (`complex`)**. Praktikum ini bertujuan untuk memahami bagaimana cara kerja tipe data numerik di Python serta bagaimana penggunaannya dalam program.  \n",
    "\n",
    "### **1.2 Tujuan Praktikum**  \n",
    "Mahasiswa diharapkan mampu:  \n",
    "^ Memahami konsep dasar Python 3.  \n",
    "^ Mengenal dan menggunakan tipe data numerik (`int`, `float`, `complex`).  \n",
    "^ Menjalankan perintah dasar Python untuk operasi bilangan.  \n",
    "^ Mengonversi data numerik dari satu bentuk ke bentuk lain.  \n",
    "^ Menganalisis hasil dari operasi numerik menggunakan Python.  \n",
    "\n",
    "💡 **Tips:**  \n",
    "- Jangan hanya menjalankan kode, tetapi pahami setiap barisnya!  \n",
    "- Pastikan laporan memiliki **analisis yang jelas** terhadap hasil percobaan.  \n",
    "- Gunakan Markdown untuk menulis deskripsi di dalam Jupyter Notebook agar lebih rapi.  \n",
    "\n",
    "---\n",
    "\n",
    "## **2. Materi Praktikum**  \n",
    "### **2.1 Review Python 3**  \n",
    "Python adalah bahasa pemrograman tingkat tinggi yang mudah dipelajari dan digunakan. Beberapa tipe data utama dalam Python adalah:  \n",
    "- **Numbers (Angka) → `int`, `float`, `complex`**  \n",
    "- **String (Teks) → `str`**  \n",
    "- **List (Daftar)**  \n",
    "- **Tuple (Urutan tidak bisa diubah)**  \n",
    "- **Dictionary (Kumpulan data berbasis key-value)**  \n",
    "\n",
    "### **2.2 Tipe Data Numerik dalam Python**  \n",
    "Python memiliki tiga tipe data numerik utama:  \n",
    "1. **Integer (`int`)**  \n",
    "   - Bilangan bulat seperti `10`, `-5`, `1000`.  \n",
    "   - Tidak memiliki koma desimal.  \n",
    "   - Bisa dicek jumlah bit-nya dengan `.bit_length()`.  \n",
    "   \n",
    "2. **Float (`float`)**  \n",
    "   - Bilangan desimal seperti `3.14`, `-0.5`, `10.0`.  \n",
    "   - Digunakan untuk angka pecahan.  \n",
    "   \n",
    "3. **Complex (`complex`)**  \n",
    "   - Bilangan kompleks seperti `3 + 4j`, di mana `3` adalah bagian real dan `4j` adalah bagian imajiner.  \n",
    "   - Python secara otomatis mengenali bilangan kompleks dengan `j` sebagai imajiner.  \n",
    "\n",
    "---\n"
   ]
  },
  {
   "cell_type": "code",
   "execution_count": null,
   "id": "50a040e3-a41e-458e-bd38-422da9be292e",
   "metadata": {},
   "outputs": [],
   "source": [
    "# Jelaskan apa yang anda pahami dari penjelasan di atas\n"
   ]
  },
  {
   "cell_type": "markdown",
   "id": "748f86b9-93df-47e0-bd39-39f346d94a65",
   "metadata": {},
   "source": [
    "## **3. Tugas Pendahuluan**  \n",
    "Sebelum memulai praktikum, jawab pertanyaan berikut:  \n",
    "\n",
    "1. **Jelaskan fungsi dan parameter dari sintaks berikut:**  \n",
    "   - `int(x, base)`  \n",
    "   - `float(x)`  \n",
    "   - `complex([real, imag])`  \n",
    "\n",
    "2. **Sebutkan metode lain untuk merepresentasikan tipe data numerik selain `int`, `float`, dan `complex`!**  \n",
    "   *Petunjuk: Bisa menggunakan `decimal` atau `fractions` dari modul Python.*  \n",
    "\n",
    "---\n",
    "\n"
   ]
  },
  {
   "cell_type": "markdown",
   "id": "a2bbf7ac-ff63-4155-8dbd-640e4fdeb329",
   "metadata": {},
   "source": [
    "## **4. Percobaan & Latihan**  \n",
    "**Instruksi:**  \n",
    "- Buat program Python berdasarkan langkah-langkah di bawah ini.  \n",
    "- Eksekusi setiap kode dan analisis hasilnya.  \n",
    "- Tuliskan output yang dihasilkan.  \n",
    "\n",
    "### **4.1 Latihan 1 – Operasi Numerik Dasar**  \n",
    "<img src=\"1.jpg\" width=\"550px\" alt=\"Deskripsi Gambar\" />\n",
    "\n",
    "**Analisis:**  \n",
    "- Apa hasil dari setiap operasi di atas?  \n",
    "- Apakah tipe data berubah setelah dikonversi dengan `int()` atau `float()`?  \n",
    "\n",
    "---"
   ]
  },
  {
   "cell_type": "code",
   "execution_count": 1,
   "id": "fde355f5-f7e5-4408-b87c-bfb4f2b91859",
   "metadata": {},
   "outputs": [],
   "source": [
    "# Ketikan kode dan penjelasan disini!\n"
   ]
  },
  {
   "cell_type": "markdown",
   "id": "bf4b16ed-3d15-43af-a2c9-9a9e3e673bab",
   "metadata": {},
   "source": [
    "### **4.2 Latihan 2 – Menghitung Panjang Bit Bilangan Integer**  \n",
    "<img src=\"2.jpg\" width=\"550px\" alt=\"Deskripsi Gambar\" />\n",
    "\n",
    "**Analisis:**  \n",
    "- Berapa jumlah bit yang digunakan untuk setiap bilangan?  \n",
    "- Apa perbedaan antara angka besar dan kecil dalam penggunaan bit?  \n",
    "\n",
    "---\n",
    "\n"
   ]
  },
  {
   "cell_type": "code",
   "execution_count": 1,
   "id": "ecf2371d-3107-4374-905a-55697aa051e5",
   "metadata": {},
   "outputs": [],
   "source": [
    "# Ketikan kode dan penjelasan disini!\n"
   ]
  },
  {
   "cell_type": "markdown",
   "id": "ad7ec3a7-6fd2-4410-9f81-3140438b38c3",
   "metadata": {},
   "source": [
    "### **4.3 Latihan 3 – Representasi Bilangan dalam Format Lain**  \n",
    "<img src=\"3.jpg\" width=\"550px\" alt=\"Deskripsi Gambar\" />\n",
    "\n",
    "**Analisis:**  \n",
    "- Apa hasil dari konversi angka 555 ke biner, hex, dan oktal?  \n",
    "- Bagaimana cara kerja konversi ini dalam Python?  \n",
    "\n",
    "---\n",
    "\n"
   ]
  },
  {
   "cell_type": "code",
   "execution_count": 1,
   "id": "38882d65-2106-485a-85be-bdde8249fafe",
   "metadata": {},
   "outputs": [],
   "source": [
    "# Ketikan kode dan penjelasan disini!\n"
   ]
  },
  {
   "cell_type": "markdown",
   "id": "2addb275-0449-4ec3-8028-47ce3180b1ec",
   "metadata": {},
   "source": [
    "### **4.4 Studi Literasi**  \n",
    "<img src=\"4.jpg\" width=\"750px\" alt=\"Deskripsi Gambar\" />"
   ]
  },
  {
   "cell_type": "code",
   "execution_count": 1,
   "id": "ea2fea12-58a3-4412-9b19-a0abb3d0d846",
   "metadata": {},
   "outputs": [],
   "source": [
    "# Ketikan penjelasan disini!\n"
   ]
  },
  {
   "cell_type": "markdown",
   "id": "3fde2a88-07f8-463e-bac1-e3a87afdb3b2",
   "metadata": {},
   "source": [
    "---\n",
    "\n",
    "## **5. Format File Tugas**  \n",
    "- **Tugas dikumpulkan dalam format Jupyter Notebook (`.ipynb`).**  \n",
    "- Gunakan format Markdown untuk dokumentasi di dalam notebook.\n",
    "- Pastikan setiap bagian memiliki heading (`#` untuk judul, `##` untuk subjudul).  \n",
    "- **File tugas diberi nama: `P1_Nama_NIM.ipynb`**  \n",
    "- **🚨 <span style=\"color:darkred; font-weight:bold; font-size:18px;\">PLAGIAT AKAN DIBERI SANKSI TANPA AMPUN! 🚨</span>**  \n"
   ]
  },
  {
   "cell_type": "code",
   "execution_count": null,
   "id": "acba8347-2d58-4212-a01f-4cb2ccb20bb8",
   "metadata": {},
   "outputs": [],
   "source": []
  }
 ],
 "metadata": {
  "kernelspec": {
   "display_name": "Python 3 (ipykernel)",
   "language": "python",
   "name": "python3"
  },
  "language_info": {
   "codemirror_mode": {
    "name": "ipython",
    "version": 3
   },
   "file_extension": ".py",
   "mimetype": "text/x-python",
   "name": "python",
   "nbconvert_exporter": "python",
   "pygments_lexer": "ipython3",
   "version": "3.12.2"
  },
  "widgets": {
   "application/vnd.jupyter.widget-state+json": {
    "state": {},
    "version_major": 2,
    "version_minor": 0
   }
  }
 },
 "nbformat": 4,
 "nbformat_minor": 5
}
