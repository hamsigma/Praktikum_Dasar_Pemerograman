{
 "cells": [
  {
   "cell_type": "markdown",
   "id": "b3450a5a-c882-48e6-8aae-8be59018aedb",
   "metadata": {
    "id": "b3450a5a-c882-48e6-8aae-8be59018aedb"
   },
   "source": [
    "# P2 Modul Perkuliahan: Dasar-Dasar Python\n",
    "\n",
    "Modul ini akan mengajarkan Anda tentang penggunaan variabel, tipe data, dan operator dalam Python. Kita akan memulai dengan konsep dasar dan bergerak menuju kepada operator-operator yang lebih kompleks.\n",
    "\n",
    "## Variabel dalam Python\n",
    "\n",
    "Variabel adalah tempat penyimpanan yang digunakan untuk menyimpan data dalam program. Python adalah bahasa pemrograman yang dinamis, sehingga Anda tidak perlu mendeklarasikan tipe data saat membuat variabel.\n",
    "\n",
    "### Cara Mendeklarasikan Variabel\n",
    "\n",
    "<img src=\"Screenshot (1).png\" alt=\"Deskripsi Gambar\" width=\"250\" style=\"margin-left: 30px;\" />\n"
   ]
  },
  {
   "cell_type": "code",
   "execution_count": 34,
   "id": "ea6a12c4-1360-4bfe-a05f-4098604926bc",
   "metadata": {
    "id": "ea6a12c4-1360-4bfe-a05f-4098604926bc"
   },
   "outputs": [
    {
     "name": "stdout",
     "output_type": "stream",
     "text": [
      "2411102441066\n",
      "Ilham Ramadhani\n"
     ]
    }
   ],
   "source": [
    "x = 2411102441066\n",
    "nama = \"Ilham Ramadhani\"\n",
    "\n",
    "print (x)\n",
    "print (nama)"
   ]
  },
  {
   "cell_type": "markdown",
   "id": "e0a5c769-20e3-4864-b148-cafcc91c6a51",
   "metadata": {
    "id": "e0a5c769-20e3-4864-b148-cafcc91c6a51"
   },
   "source": [
    "# Dasar-Dasar Python\n",
    "\n",
    "## Aturan Penamaan Variabel\n",
    "- Variabel dapat diawali dengan huruf (a-z, A-Z) atau garis bawah (_)\n",
    "- Variabel tidak bisa diawali dengan angka\n",
    "- Variabel hanya boleh mengandung karakter alfanumerik dan garis bawah\n",
    "- Variabel bersifat case-sensitive (misal, `age` dan `Age` adalah dua variabel yang berbeda)\n",
    "\n",
    "## Tipe Data\n",
    "Python memiliki beberapa tipe data bawaan yang umum digunakan:\n",
    "\n",
    "- **Integers**: Bilangan bulat (contoh: ```1, 42```)\n",
    "- **Float**: Bilangan dengan titik desimal (contoh: ```3.14, 0.5```)\n",
    "- **Strings**: Urutan karakter (contoh: ```\"Hello\", \"World\"```)\n",
    "- **Boolean**: ```True atau False```\n",
    "- **List**: Koleksi yang terurut dan dapat diubah (contoh: ```[1, 2, 3]```)\n",
    "- **Tuple**: Koleksi yang terurut dan tidak dapat diubah (contoh: ```(1, 2, 3)```)\n",
    "- **Dictionary**: Koleksi yang tidak terurut dengan pasangan kunci-nilai (contoh: ```{'nama': 'John', 'umur': 25}```)\n",
    "\n",
    "## Operator\n",
    "\n",
    "### Aritmatika\n",
    "\n",
    "Operator aritmatika digunakan untuk melakukan operasi matematika pada variabel dan nilai.\n",
    "\n",
    "### Jenis-jenis Operator Aritmatika\n",
    "\n",
    "<img src=\"Screenshot (2).png\" alt=\"Deskripsi Gambar\" width=\"650\" style=\"margin-left: 30px;\" />\n"
   ]
  },
  {
   "cell_type": "code",
   "execution_count": 10,
   "id": "f4745c79-5a5d-4997-aef8-977775cc23ec",
   "metadata": {
    "id": "f4745c79-5a5d-4997-aef8-977775cc23ec"
   },
   "outputs": [
    {
     "name": "stdout",
     "output_type": "stream",
     "text": [
      "15\n",
      "5\n",
      "50\n",
      "2.0\n",
      "0\n",
      "100000\n"
     ]
    }
   ],
   "source": [
    "x = 10\n",
    "y = 5\n",
    "\n",
    "penjumlahan = (x + y)\n",
    "print (penjumlahan)\n",
    "\n",
    "pengurangan = (x - y)\n",
    "print (pengurangan)\n",
    "\n",
    "perkalian = (x * y)\n",
    "print (perkalian)\n",
    "\n",
    "pembagian = (x / y)\n",
    "print (pembagian)\n",
    "\n",
    "modulus = (x % y)\n",
    "print (modulus)\n",
    "\n",
    "pangkat = (x ** y)\n",
    "print (pangkat)\n"
   ]
  },
  {
   "cell_type": "markdown",
   "id": "860c7382-347c-4895-950f-67cc2a308222",
   "metadata": {
    "id": "860c7382-347c-4895-950f-67cc2a308222"
   },
   "source": [
    "### Operator Assignment dalam Python\n",
    "\n",
    "Operator assignment digunakan untuk memberikan nilai ke sebuah variabel. Operator ini juga dapat digunakan untuk melakukan operasi matematis dan memberikan hasilnya kembali ke variabel yang sama.\n",
    "\n",
    "#### Contoh Operator Assignment:\n",
    "\n",
    "| Operator | Contoh      | Deskripsi                                       |\n",
    "|----------|-------------|-------------------------------------------------|\n",
    "| `=`      | `x = 5`     | Menetapkan nilai 5 ke variabel `x`              |\n",
    "| `+=`     | `x += 3`    | Menambahkan 3 ke nilai `x` (sama dengan `x = x + 3`) |\n",
    "| `-=`     | `x -= 2`    | Mengurangi 2 dari nilai `x` (sama dengan `x = x - 2`) |\n",
    "| `*=`     | `x *= 4`    | Mengalikan nilai `x` dengan 4 (sama dengan `x = x * 4`) |\n",
    "| `/=`     | `x /= 5`    | Membagi nilai `x` dengan 5 (sama dengan `x = x / 5`) |\n",
    "| `%=`     | `x %= 2`    | Mendapatkan sisa bagi dari `x` dengan 2 (sama dengan `x = x % 2`) |\n",
    "\n",
    "Operator assignment memudahkan dalam melakukan operasi dan menetapkan nilai baru ke variabel secara efisien.\n",
    "\n",
    "<img src=\"Screenshot (3).png\" alt=\"Deskripsi Gambar\" width=\"350\" style=\"margin-left: 30px;\" />\n"
   ]
  },
  {
   "cell_type": "code",
   "execution_count": 11,
   "id": "fdc36bb3-8397-4062-9f85-89b3a5e95364",
   "metadata": {
    "id": "fdc36bb3-8397-4062-9f85-89b3a5e95364"
   },
   "outputs": [
    {
     "name": "stdout",
     "output_type": "stream",
     "text": [
      "15\n",
      "5\n",
      "10\n",
      "5.0\n",
      "2.0\n"
     ]
    }
   ],
   "source": [
    "# Ketikan Code Disini lalu Jalankan (Run)\n",
    "x = 10\n",
    "x += 5\n",
    "print (x)\n",
    "x -= 10\n",
    "print (x)\n",
    "x *= 2\n",
    "print (x)\n",
    "x /= 2\n",
    "print (x)\n",
    "x %= 3\n",
    "print (x)"
   ]
  },
  {
   "cell_type": "markdown",
   "id": "a8ce5ffc-9812-4eed-8fb1-5a3d9a981ba3",
   "metadata": {
    "id": "a8ce5ffc-9812-4eed-8fb1-5a3d9a981ba3"
   },
   "source": [
    "### Perbandingan\n",
    "\n",
    "Operator perbandingan digunakan untuk membandingkan dua nilai. Hasil dari perbandingan ini adalah boolean, yaitu `True` atau `False`.\n",
    "\n",
    "Berikut adalah jenis-jenis operator perbandingan di Python:\n",
    "\n",
    "| Operator | Nama          | Deskripsi                                  | Contoh                |\n",
    "|----------|---------------|--------------------------------------------|-----------------------|\n",
    "| `==`     | Sama dengan    | Memeriksa apakah dua nilai sama            | `5 == 5` → `True`     |\n",
    "| `!=`     | Tidak sama     | Memeriksa apakah dua nilai tidak sama      | `5 != 3` → `True`     |\n",
    "| `>`      | Lebih besar    | Memeriksa apakah nilai kiri lebih besar    | `5 > 3` → `True`      |\n",
    "| `<`      | Lebih kecil    | Memeriksa apakah nilai kiri lebih kecil    | `3 < 5` → `True`      |\n",
    "| `>=`     | Lebih besar atau sama dengan | Memeriksa apakah nilai kiri lebih besar atau sama dengan | `5 >= 5` → `True` |\n",
    "| `<=`     | Lebih kecil atau sama dengan | Memeriksa apakah nilai kiri lebih kecil atau sama dengan | `3 <= 5` → `True` |\n",
    "\n",
    "#### Contoh Kode Operator Perbandingan:\n",
    "\n",
    "<img src=\"Screenshot (4).png\" alt=\"Deskripsi Gambar\" width=\"250\" style=\"margin-left: 30px;\" />"
   ]
  },
  {
   "cell_type": "code",
   "execution_count": 15,
   "id": "f55ab9d9-825d-440a-8c09-c02380e93d07",
   "metadata": {
    "id": "f55ab9d9-825d-440a-8c09-c02380e93d07"
   },
   "outputs": [
    {
     "name": "stdout",
     "output_type": "stream",
     "text": [
      "False\n",
      "False\n",
      "True\n",
      "True\n",
      "True\n",
      "False\n",
      "False\n",
      "True\n",
      "True\n",
      "False\n",
      "False\n",
      "True\n"
     ]
    }
   ],
   "source": [
    "# Ketikan Code Disini lalu Jalankan (Run)\n",
    "# Var\n",
    "bill1 = 5\n",
    "bil2 = 3\n",
    "bil3 = 5\n",
    "\n",
    "#Sama Dengan\n",
    "print(bill1 == bil2)\n",
    "print(bil2 == bil3)\n",
    "\n",
    "#Tidak Sama Dengan\n",
    "print(bill1 != bil2)\n",
    "print(bil2 != bil3)\n",
    "\n",
    "#Lebih Besar Dari\n",
    "print(bill1 > bil2)\n",
    "print(bil2 > bil3)\n",
    "\n",
    "#Lebih Kecil Dari\n",
    "print(bill1 < bil2)\n",
    "print(bil2 < bil3)\n",
    "\n",
    "#Lebih Besar Atau Sama Dengan\n",
    "print(bill1 >= bil2)\n",
    "print(bil2 >= bil3)\n",
    "\n",
    "#Lebih Kecil Atau Sama Dengan\n",
    "print(bill1 <= bil2)\n",
    "print(bil2 <= bil3)\n"
   ]
  },
  {
   "cell_type": "markdown",
   "id": "c92e3f67-0587-4118-af05-211a5ed07c46",
   "metadata": {
    "id": "c92e3f67-0587-4118-af05-211a5ed07c46"
   },
   "source": [
    "### Logika\n",
    "\n",
    "Operator logika digunakan untuk membandingkan dua nilai atau lebih dan mengembalikan hasil berupa `True` atau `False`. Dalam Python, terdapat tiga operator logika utama, yaitu `and`, `or`, dan `not`.\n",
    "\n",
    "#### Jenis-Jenis Operator Logika\n",
    "\n",
    "| Operator | Deskripsi                                    | Contoh                                    |\n",
    "|----------|----------------------------------------------|-------------------------------------------|\n",
    "| `and`    | Mengembalikan `True` jika kedua kondisi benar | `True and False` menghasilkan `False`     |\n",
    "| `or`     | Mengembalikan `True` jika salah satu kondisi benar | `True or False` menghasilkan `True`  |\n",
    "| `not`    | Membalikkan nilai kondisi (True menjadi False, sebaliknya) | `not True` menghasilkan `False` |\n",
    "\n",
    "#### Contoh Penggunaan Operator Logika\n",
    "\n",
    "\n",
    "<img src=\"Screenshot (6).png\" alt=\"Deskripsi Gambar\" width=\"450\" style=\"margin-left: 30px;\" />\n",
    "\n",
    "\n",
    "### Penjelasan:\n",
    "- **`and`**: Menghasilkan `True` hanya jika kedua kondisi benar.\n",
    "- **`or`**: Menghasilkan `True` jika salah satu kondisi benar.\n",
    "- **`not`**: Membalikkan nilai logika.\n",
    " \n"
   ]
  },
  {
   "cell_type": "code",
   "execution_count": 16,
   "id": "049f3bcf-4e56-4149-bb04-750e8817df8a",
   "metadata": {
    "id": "049f3bcf-4e56-4149-bb04-750e8817df8a"
   },
   "outputs": [
    {
     "name": "stdout",
     "output_type": "stream",
     "text": [
      "False\n",
      "True\n",
      "False\n",
      "True\n",
      "True\n",
      "True\n",
      "False\n"
     ]
    }
   ],
   "source": [
    "# Ketikan Code Disini lalu Jalankan (Run)\n",
    "betul = True\n",
    "salah = False\n",
    "\n",
    "# Ini Adalah Hasil Dari Operator Logika:\n",
    "#AND\n",
    "print(salah and betul)\n",
    "print(betul and betul)\n",
    "print(True and False)\n",
    "#OR\n",
    "print(betul or betul)\n",
    "print(betul or salah)\n",
    "#NOT\n",
    "print(not salah)\n",
    "print(not True)"
   ]
  },
  {
   "cell_type": "markdown",
   "id": "e4e9cec8-1c6f-4d5c-8862-291d0f4c1dc8",
   "metadata": {
    "id": "e4e9cec8-1c6f-4d5c-8862-291d0f4c1dc8"
   },
   "source": [
    "### Identitas\n",
    "Operator identitas digunakan untuk membandingkan apakah dua variabel merujuk ke objek yang sama di memori. Python memiliki dua operator identitas:\n",
    "\n",
    "| Operator | Deskripsi                                      | Contoh                          |\n",
    "|----------|------------------------------------------------|---------------------------------|\n",
    "| `is`     | Mengembalikan `True` jika kedua variabel merujuk ke objek yang sama | `x is y`                       |\n",
    "| `is not` | Mengembalikan `True` jika kedua variabel tidak merujuk ke objek yang sama | `x is not y`                   |\n",
    "\n",
    "#### Contoh Penggunaan:\n",
    "\n",
    "<img src=\"Screenshot (7).png\" alt=\"Deskripsi Gambar\" width=\"350\" style=\"margin-left: 30px;\" />\n",
    "\n",
    "\n",
    "### Penjelasan:\n",
    "- **Tabel**: Tabel ini merangkum dua jenis operator identitas: `is` dan `is not`.\n",
    "- **Contoh Code**: Menunjukkan cara penggunaan `is` dan `is not` untuk membandingkan referensi objek di memori.\n"
   ]
  },
  {
   "cell_type": "code",
   "execution_count": 18,
   "id": "e35f8a05-6cdf-46fd-ba79-6ab8d0c3feb8",
   "metadata": {
    "id": "e35f8a05-6cdf-46fd-ba79-6ab8d0c3feb8"
   },
   "outputs": [
    {
     "name": "stdout",
     "output_type": "stream",
     "text": [
      "True\n",
      "False\n",
      "False\n",
      "False\n",
      "False\n",
      "True\n"
     ]
    }
   ],
   "source": [
    "# Ketikan Code Disini lalu Jalankan (Run)\n",
    "X = [\"apple\", \"banana\"]\n",
    "y = [\"apple\",\"banana\"]\n",
    "c = [\"skibidi\",'sigma','10000+ aura']\n",
    "z = x\n",
    "\n",
    "print (x is z)\n",
    "print (x is y)\n",
    "print (x == y)\n",
    "print (x == \"apple\")\n",
    "print (x is c)\n",
    "print (x is not c)"
   ]
  },
  {
   "cell_type": "markdown",
   "id": "7a7fc7b7-a66d-4faa-8ecc-943671e50ca1",
   "metadata": {
    "id": "7a7fc7b7-a66d-4faa-8ecc-943671e50ca1"
   },
   "source": [
    "### Keanggotaan\n",
    "Operator keanggotaan digunakan untuk memeriksa apakah suatu nilai atau variabel merupakan anggota dari sebuah urutan (list, tuple, string, dll). Python memiliki dua operator keanggotaan: `in` dan `not in`.\n",
    "\n",
    "#### Jenis-Jenis Operator Keanggotaan\n",
    "\n",
    "| Operator | Deskripsi                                   | Contoh                          |\n",
    "|----------|---------------------------------------------|----------------------------------|\n",
    "| `in`     | Mengembalikan `True` jika nilai ada di urutan | `'a' in 'apple'` (hasilnya: `True`) |\n",
    "| `not in` | Mengembalikan `True` jika nilai tidak ada di urutan | `'b' not in 'apple'` (hasilnya: `True`) |\n",
    "\n",
    "#### Contoh Penggunaan\n",
    "\n",
    "<img src=\"Screenshot (8).png\" alt=\"Deskripsi Gambar\" width=\"450\" style=\"margin-left: 30px;\" />\n",
    "\n",
    "### Penjelasan:\n",
    "1. **`in`** digunakan untuk memeriksa apakah sebuah elemen ada dalam suatu urutan.\n",
    "2. **`not in`** digunakan untuk memeriksa apakah sebuah elemen tidak ada dalam suatu urutan.\n"
   ]
  },
  {
   "cell_type": "code",
   "execution_count": 20,
   "id": "e8a56378-834d-47db-9e05-db2b2d46f369",
   "metadata": {
    "id": "e8a56378-834d-47db-9e05-db2b2d46f369"
   },
   "outputs": [
    {
     "name": "stdin",
     "output_type": "stream",
     "text": [
      "Ketik/Masukan Nama Anda: alan\n"
     ]
    },
    {
     "name": "stdout",
     "output_type": "stream",
     "text": [
      "True\n",
      "False\n",
      "True\n",
      "Nama Anda Ketika Sudah Di Perkecil : ALAN\n",
      "True\n",
      "False\n",
      "False\n",
      "True\n",
      "True\n"
     ]
    }
   ],
   "source": [
    "# Ketikan Code Disini lalu Jalankan (Run)\n",
    "x = [\"apple\", \"banana\"]\n",
    "nama = input (\"Ketik/Masukan Nama Anda:\")\n",
    "print (\"banana\" in x)\n",
    "print (\"cherry\" in x)\n",
    "print (\"cherry\" not in x)\n",
    "print (\"Nama Anda Ketika Sudah Di Perkecil : \" +nama.lower())\n",
    "print(\"cherry\" not in nama)\n",
    "print (\"B\" in nama)\n",
    "print (\"b\" in nama)\n",
    "print (\"m\" not in nama)\n",
    "print (\"M\" not in nama)"
   ]
  },
  {
   "cell_type": "markdown",
   "id": "43c5b211-1989-4b78-b031-a759198bbcc5",
   "metadata": {
    "id": "43c5b211-1989-4b78-b031-a759198bbcc5"
   },
   "source": [
    "### Bitwise\n",
    "Operator bitwise digunakan untuk melakukan operasi pada level bit dalam angka biner. Operasi bitwise bekerja pada representasi biner dari angka, di mana angka diperlakukan sebagai serangkaian bit (0 dan 1).\n",
    "\n",
    "#### Jenis-Jenis Operator Bitwise\n",
    "\n",
    "| Operator | Nama                | Deskripsi                                                                 | Contoh               |\n",
    "|----------|---------------------|---------------------------------------------------------------------------|----------------------|\n",
    "| `&`      | AND                 | Menghasilkan 1 jika kedua bit bernilai 1                                  | `5 & 3` → `1`        |\n",
    "| `|`      | OR                  | Menghasilkan 1 jika salah satu bit bernilai 1                             | `5 | 3` → `7`        |\n",
    "| `^`      | XOR                 | Menghasilkan 1 jika salah satu bit bernilai 1, tetapi bukan keduanya       | `5 ^ 3` → `6`        |\n",
    "| `~`      | NOT (Bitwise Negasi) | Mengubah semua bit, dari 1 menjadi 0 dan sebaliknya (operasi unary)        | `~5` → `-6`         |\n",
    "| `<<`     | Shift Kiri          | Menggeser bit ke kiri sejumlah posisi yang ditentukan (pengali dengan 2)   | `5 << 1` → `10`      |\n",
    "| `>>`     | Shift Kanan         | Menggeser bit ke kanan sejumlah posisi yang ditentukan (pembagi dengan 2)  | `5 >> 1` → `2`       |\n",
    "\n",
    "#### Contoh Penggunaan Operator Bitwise\n",
    "\n",
    "```python\n",
    "# Contoh operator bitwise AND\n",
    "a = 5  # biner: 0101\n",
    "b = 3  # biner: 0011\n",
    "\n",
    "# Operasi AND\n",
    "hasil_and = a & b \n",
    "print(f\"Hasil AND: {hasil_and}\")\n",
    "\n",
    "# Operasi OR\n",
    "hasil_or = a | b \n",
    "print(f\"Hasil OR: {hasil_or}\")\n",
    "\n",
    "# Operasi XOR\n",
    "hasil_xor = a ^ b \n",
    "print(f\"Hasil XOR: {hasil_xor}\")\n",
    "\n",
    "# Operasi NOT\n",
    "hasil_not = ~a \n",
    "print(f\"Hasil NOT: {hasil_not}\")\n",
    "\n",
    "# Shift kiri (menggeser 1 bit ke kiri)\n",
    "hasil_shift_kiri = a << 1 \n",
    "print(f\"Hasil Shift Kiri: {hasil_shift_kiri}\")\n",
    "\n",
    "# Shift kanan (menggeser 1 bit ke kanan)\n",
    "hasil_shift_kanan = a >> 1 \n",
    "print(f\"Hasil Shift Kanan: {hasil_shift_kanan}\")\n",
    "```\n",
    "<img src=\"Screenshot (9).png\" alt=\"Deskripsi Gambar\" width=\"350\" style=\"margin-left: 30px;\" />"
   ]
  },
  {
   "cell_type": "code",
   "execution_count": 22,
   "id": "e9639c61-8a10-4930-a0d9-55e81621da79",
   "metadata": {
    "executionInfo": {
     "elapsed": 366,
     "status": "ok",
     "timestamp": 1725411567839,
     "user": {
      "displayName": "MUHAMMAD FAUZAN NUR ILHAM",
      "userId": "13431666360339421162"
     },
     "user_tz": -480
    },
    "id": "e9639c61-8a10-4930-a0d9-55e81621da79"
   },
   "outputs": [
    {
     "name": "stdout",
     "output_type": "stream",
     "text": [
      "1\n",
      "7\n",
      "6\n",
      "-6\n",
      "40\n",
      "0\n"
     ]
    }
   ],
   "source": [
    "# Ketikan Code Disini lalu Jalankan (Run)\n",
    "# Ubah tambahkan code dengan cara memasukkan nilai integer kedalam Variable\n",
    "a = 5\n",
    "b = 3\n",
    "\n",
    "# AND\n",
    "print (a & b)\n",
    "# OR\n",
    "print (a | b)\n",
    "# XOR\n",
    "print (a ^ b)\n",
    "# NOT\n",
    "print (~a)\n",
    "# lEFT SHIFT\n",
    "print (a << b)\n",
    "# RIGHT SHIFT\n",
    "print ( a >> b)"
   ]
  },
  {
   "cell_type": "markdown",
   "id": "87c400da-e34a-44e1-8df1-952fce2dd532",
   "metadata": {
    "id": "87c400da-e34a-44e1-8df1-952fce2dd532"
   },
   "source": [
    "### Komentar dalam Python\n",
    "Komentar digunakan untuk menjelaskan kode dan membuatnya lebih mudah dimengerti. Komentar tidak akan dijalankan oleh Python.\n",
    "\n",
    "<img src=\"Screenshot (10).png\" alt=\"Deskripsi Gambar\" width=\"450\" style=\"margin-left: 30px;\" />"
   ]
  },
  {
   "cell_type": "code",
   "execution_count": 33,
   "id": "8a2a12c8-3f78-4956-932a-98e2a30b930e",
   "metadata": {
    "executionInfo": {
     "elapsed": 372,
     "status": "ok",
     "timestamp": 1725411480782,
     "user": {
      "displayName": "MUHAMMAD FAUZAN NUR ILHAM",
      "userId": "13431666360339421162"
     },
     "user_tz": -480
    },
    "id": "8a2a12c8-3f78-4956-932a-98e2a30b930e"
   },
   "outputs": [
    {
     "name": "stdout",
     "output_type": "stream",
     "text": [
      "HELLO, (Ilham Ramadhani)!\n",
      "HELLO, Coba nama anda!\n"
     ]
    },
    {
     "data": {
      "text/plain": [
       "'\\nIni adalah komentar multibaris paling bawah\\nsemua teks yang tercakup di antara tanda kutip triple\\n'"
      ]
     },
     "execution_count": 33,
     "metadata": {},
     "output_type": "execute_result"
    }
   ],
   "source": [
    "# Ketikan Code Disini lalu Jalankan (Run) dan jelaskan kenapa terjadi\n",
    "#Ini adalah komentar\n",
    "print(\"HELLO, (Ilham Ramadhani)!\") # Ini Aku Yang Komen\n",
    "\n",
    "'''\n",
    "Ini adalah Komentar multi baris \n",
    "semua teks yang tercakup di antara kutip triple\n",
    "akan diabaikan oleh python\n",
    "'''\n",
    "print (\"HELLO, Coba nama anda!\")\n",
    "'''\n",
    "Ini adalah komentar multibaris paling bawah\n",
    "semua teks yang tercakup di antara tanda kutip triple\n",
    "'''"
   ]
  },
  {
   "cell_type": "markdown",
   "id": "a8d7f03c-bb27-44c5-98f5-45e626fff5fc",
   "metadata": {
    "id": "a8d7f03c-bb27-44c5-98f5-45e626fff5fc"
   },
   "source": [
    "### Kesimpulan\n",
    "Penggunaan variabel, tipe data, dan operator adalah dasar yang sangat penting dalam pemrograman Python. Dengan memahami topik-topik ini, Anda sudah bisa memulai menulis skrip Python yang lebih kompleks dan berguna. Selamat belajar!"
   ]
  },
  {
   "cell_type": "code",
   "execution_count": null,
   "id": "b54abe5c-314e-4f9a-8af8-5f3a371bd786",
   "metadata": {},
   "outputs": [],
   "source": [
    "# Tugas Mandiri (latihan membuat alur teks program)\n",
    "## Buatlah program dengan alur yang anda bikin sesuai materi diatas\n",
    "## Dimulai dari alur teks (Algoritma Informal)\n",
    "\"\"\"\n",
    "Contoh sederhana dari sebuah algoritma informal yang menjelaskan bagaimana menentukan apakah sebuah angka adalah positif, negatif, atau nol:\n",
    "\n",
    "- Mulai - Mulai proses.\n",
    "- Baca angka - Ambil sebuah angka dari pengguna.\n",
    "- Periksa angka tersebut:\n",
    "- - Jika angka itu lebih besar dari nol, cetak \"Angka positif\".\n",
    "- - Jika angka itu kurang dari nol, cetak \"Angka negatif\".\n",
    "- - Jika angka itu sama dengan nol, cetak \"Angka adalah nol\".\n",
    "- Selesai - Proses selesai.\n",
    "\n",
    "atau\n",
    "- Mulai - Mulai proses pengecekan.\n",
    "- Tanya ke diri sendiri - Apakah saya sudah mandi hari ini?\n",
    "- Evaluasi jawaban:\n",
    "- - Jika jawabannya adalah \"tidak\", maka:\n",
    "- - - Kesimpulan: Saya mungkin bau karena tidak mandi.\n",
    "- - - Tindakan: Pertimbangkan untuk mandi agar tidak bau.\n",
    "- - Jika jawabannya adalah \"ya\", maka:\n",
    "- - - Kesimpulan: Saya tidak bau karena sudah mandi.\n",
    "Selesai - Proses selesai, lanjutkan dengan aktivitas lain.\n",
    "\n",
    "\"\"\""
   ]
  },
  {
   "cell_type": "code",
   "execution_count": 26,
   "id": "4f3c689c-dfc1-4422-99d6-2dcc48ab9b9a",
   "metadata": {},
   "outputs": [
    {
     "data": {
      "text/plain": [
       "'\\nAlgoritma Menggoreng Tempe\\n\\n- Mulai - Mulai Proses Penggorengan\\n- Amati Tempe - Apakah Tempe Sudah Masak?\\n- - Jika jawabannya belum masak \"tidak\", maka:\\n- - - Kesimpulan: Tempe belum masak dan belum crispy.\\n- - - Tindakan: Tempe harus dimasak lebih lama agar Tempe masak dan tidak crispy.\\n- - Jika jawabannya sudah masak \"iya\", maka:\\n- - - Kesimpulan: Tempe sudah masak dan sudah crispy.\\nSelesai - Proses selesai, Proses menggoreng tempe sudah selesai.\\n\\n'"
      ]
     },
     "execution_count": 26,
     "metadata": {},
     "output_type": "execute_result"
    }
   ],
   "source": [
    "#Algoritma Informal\n",
    "\"\"\"\n",
    "Algoritma Menggoreng Tempe\n",
    "\n",
    "- Mulai - Mulai Proses Penggorengan\n",
    "- Amati Tempe - Apakah Tempe Sudah Masak?\n",
    "- - Jika jawabannya belum masak \"tidak\", maka:\n",
    "- - - Kesimpulan: Tempe belum masak dan belum crispy.\n",
    "- - - Tindakan: Tempe harus dimasak lebih lama agar Tempe masak dan tidak crispy.\n",
    "- - Jika jawabannya sudah masak \"iya\", maka:\n",
    "- - - Kesimpulan: Tempe sudah masak dan sudah crispy.\n",
    "Selesai - Proses selesai, Proses menggoreng tempe sudah selesai.\n",
    "\n",
    "\"\"\""
   ]
  },
  {
   "cell_type": "markdown",
   "id": "426c3a8a-33b7-4c48-93f7-6f343ace6f4c",
   "metadata": {},
   "source": [
    "# Jelaskan  Kesimpulan dari Pertemuan kali ini Dengan Format Markdown, Min.3 Baris\n",
    "# Note: nilai plus buat yang masukkan gambar, visualisasi penjelasan, dan table penjelasan\n",
    "**Kesimpulan dari pertemuan kali ini adalah** <br>\n",
    "Saya jadi lebih paham tentang makna dari variable dan dasar dasar pemerograman di python seperti penggunaan operasi aritmatika<br>\n",
    "dan operator lainnya seperti perbandingan dan logika. Dan saya akhirnya tau dengan penggunan berbagai operasi operasi dasar yang ada <br>\n",
    "di bahasa pyhton. dengan menggunakan bahasa pyhton pemerograman menjadi lebih simple dan lebih efisen di pahami <br>\n",
    "dan juga tidak hanya belajar operasi tetapi juga saya bisa langsung memperaktekan penggunaan operasi dasar pemerograman yang ada di pyhton.<br>\n",
    "**Note :** <br>\n",
    "<img src=\"opr.png\" widht=\"500px\" al1=\"operasi aritmatika\"/> <br>\n",
    "Sesuai dengan kesimpulan saya dengan bahasa python untuk pemerograman dasar kita bisa langsung memanggil variable untuk melakukan operasi <br>\n",
    "atau melakukan perhtiungan dasar maupun melakukan total dengan bahasa yang singkat dan out put yang mudah di bandingkan bahasa lainnya. <br>\n",
    "Sehingga dengan menggunakan python saya lebih bisa memahami dengan mudah dan simple untuk proses pengoprasian.<br>\n",
    "Tidak hanya proses pengoperasian aritmatika saja tetapi juga operasi yang lainnya.\n"
   ]
  },
  {
   "cell_type": "code",
   "execution_count": null,
   "id": "e9e77dff-b798-4f0a-8c80-6844f178e588",
   "metadata": {},
   "outputs": [],
   "source": []
  },
  {
   "cell_type": "code",
   "execution_count": null,
   "id": "1967f318-b809-4b9f-9ea4-480838ee1726",
   "metadata": {},
   "outputs": [],
   "source": []
  }
 ],
 "metadata": {
  "colab": {
   "provenance": []
  },
  "kernelspec": {
   "display_name": "Python 3 (ipykernel)",
   "language": "python",
   "name": "python3"
  },
  "language_info": {
   "codemirror_mode": {
    "name": "ipython",
    "version": 3
   },
   "file_extension": ".py",
   "mimetype": "text/x-python",
   "name": "python",
   "nbconvert_exporter": "python",
   "pygments_lexer": "ipython3",
   "version": "3.12.4"
  },
  "widgets": {
   "application/vnd.jupyter.widget-state+json": {
    "state": {},
    "version_major": 2,
    "version_minor": 0
   }
  }
 },
 "nbformat": 4,
 "nbformat_minor": 5
}
